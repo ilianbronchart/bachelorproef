{
 "cells": [
  {
   "cell_type": "code",
   "execution_count": 1,
   "id": "d9f8e770",
   "metadata": {},
   "outputs": [],
   "source": [
    "import os\n",
    "os.environ[\"CHECKPOINTS_PATH\"] = \"../checkpoints\"\n",
    "\n",
    "import dataclasses\n",
    "from src.api.services import sam2_service\n",
    "import src.config\n",
    "import torch\n",
    "import gc\n",
    "from torch.profiler import profile, record_function, ProfilerActivity"
   ]
  },
  {
   "cell_type": "markdown",
   "id": "9d21c7c0",
   "metadata": {},
   "source": [
    "# Measure VRAM requirements of models"
   ]
  },
  {
   "cell_type": "code",
   "execution_count": 14,
   "id": "6fb00519",
   "metadata": {},
   "outputs": [
    {
     "name": "stdout",
     "output_type": "stream",
     "text": [
      "Loading BASE_PLUS from ../checkpoints/sam2.1_hiera_base_plus.pt\n"
     ]
    },
    {
     "name": "stderr",
     "output_type": "stream",
     "text": [
      "[W508 22:55:19.423871772 collection.cpp:979] Warning: Failed to recover relationship between all profiler and kineto events: 3899 vs. 0  reassociated. (function reassociate)\n"
     ]
    },
    {
     "name": "stdout",
     "output_type": "stream",
     "text": [
      "-------------------------  ------------  ------------  ------------  ------------  ------------  ------------  ------------  ------------  ------------  ------------  \n",
      "                     Name    Self CPU %      Self CPU   CPU total %     CPU total  CPU time avg       CPU Mem  Self CPU Mem      CUDA Mem  Self CUDA Mem    # of Calls  \n",
      "-------------------------  ------------  ------------  ------------  ------------  ------------  ------------  ------------  ------------  ------------  ------------  \n",
      "                 [memory]         0.00%       0.000us         0.00%       0.000us       0.000us           0 b           0 b     450.47 Mb     450.47 Mb          3899  \n",
      "    cudaStreamIsCapturing         0.02%      47.176us         0.02%      47.176us       1.123us           0 b           0 b           0 b           0 b            42  \n",
      "               cudaMalloc         6.19%      12.943ms         6.19%      12.943ms     308.155us           0 b           0 b           0 b           0 b            42  \n",
      "         cudaLaunchKernel         1.70%       3.542ms         1.70%       3.542ms      16.396us           0 b           0 b           0 b           0 b           216  \n",
      "          cudaMemcpyAsync        49.19%     102.781ms        49.19%     102.781ms     164.449us           0 b           0 b           0 b           0 b           625  \n",
      "    cudaStreamSynchronize        42.89%      89.605ms        42.89%      89.605ms     145.228us           0 b           0 b           0 b           0 b           617  \n",
      "    cudaDeviceSynchronize         0.00%       8.425us         0.00%       8.425us       4.213us           0 b           0 b           0 b           0 b             2  \n",
      "-------------------------  ------------  ------------  ------------  ------------  ------------  ------------  ------------  ------------  ------------  ------------  \n",
      "Self CPU time total: 208.926ms\n",
      "\n",
      "Loading LARGE from ../checkpoints/sam2.1_hiera_large.pt\n"
     ]
    },
    {
     "name": "stderr",
     "output_type": "stream",
     "text": [
      "[W508 22:55:21.330393537 collection.cpp:979] Warning: Failed to recover relationship between all profiler and kineto events: 5339 vs. 0  reassociated. (function reassociate)\n"
     ]
    },
    {
     "name": "stdout",
     "output_type": "stream",
     "text": [
      "-------------------------  ------------  ------------  ------------  ------------  ------------  ------------  ------------  ------------  ------------  ------------  \n",
      "                     Name    Self CPU %      Self CPU   CPU total %     CPU total  CPU time avg       CPU Mem  Self CPU Mem      CUDA Mem  Self CUDA Mem    # of Calls  \n",
      "-------------------------  ------------  ------------  ------------  ------------  ------------  ------------  ------------  ------------  ------------  ------------  \n",
      "                 [memory]         0.00%       0.000us         0.00%       0.000us       0.000us           0 b           0 b    1000.91 Mb    1000.91 Mb          5339  \n",
      "    cudaStreamIsCapturing         0.01%      60.686us         0.01%      60.686us       0.934us           0 b           0 b           0 b           0 b            65  \n",
      "               cudaMalloc         3.93%      17.778ms         3.93%      17.778ms     273.507us           0 b           0 b           0 b           0 b            65  \n",
      "         cudaLaunchKernel         0.77%       3.498ms         0.77%       3.498ms      16.194us           0 b           0 b           0 b           0 b           216  \n",
      "          cudaMemcpyAsync        85.94%     388.420ms        85.94%     388.420ms     425.433us           0 b           0 b           0 b           0 b           913  \n",
      "    cudaStreamSynchronize         9.34%      42.197ms         9.34%      42.197ms      46.626us           0 b           0 b           0 b           0 b           905  \n",
      "    cudaDeviceSynchronize         0.00%       8.975us         0.00%       8.975us       4.487us           0 b           0 b           0 b           0 b             2  \n",
      "-------------------------  ------------  ------------  ------------  ------------  ------------  ------------  ------------  ------------  ------------  ------------  \n",
      "Self CPU time total: 451.962ms\n",
      "\n",
      "Loading SMALL from ../checkpoints/sam2.1_hiera_small.pt\n"
     ]
    },
    {
     "name": "stderr",
     "output_type": "stream",
     "text": [
      "[W508 22:55:22.967730355 collection.cpp:979] Warning: Failed to recover relationship between all profiler and kineto events: 3419 vs. 0  reassociated. (function reassociate)\n"
     ]
    },
    {
     "name": "stdout",
     "output_type": "stream",
     "text": [
      "-------------------------  ------------  ------------  ------------  ------------  ------------  ------------  ------------  ------------  ------------  ------------  \n",
      "                     Name    Self CPU %      Self CPU   CPU total %     CPU total  CPU time avg       CPU Mem  Self CPU Mem      CUDA Mem  Self CUDA Mem    # of Calls  \n",
      "-------------------------  ------------  ------------  ------------  ------------  ------------  ------------  ------------  ------------  ------------  ------------  \n",
      "                 [memory]         0.00%       0.000us         0.00%       0.000us       0.000us           0 b           0 b     315.29 Mb     315.29 Mb          3419  \n",
      "    cudaStreamIsCapturing         0.06%      32.377us         0.06%      32.377us       1.116us           0 b           0 b           0 b           0 b            29  \n",
      "               cudaMalloc        15.73%       8.505ms        15.73%       8.505ms     293.274us           0 b           0 b           0 b           0 b            29  \n",
      "         cudaLaunchKernel         5.21%       2.817ms         5.21%       2.817ms      13.040us           0 b           0 b           0 b           0 b           216  \n",
      "          cudaMemcpyAsync        37.99%      20.538ms        37.99%      20.538ms      38.824us           0 b           0 b           0 b           0 b           529  \n",
      "    cudaStreamSynchronize        40.99%      22.162ms        40.99%      22.162ms      42.538us           0 b           0 b           0 b           0 b           521  \n",
      "    cudaDeviceSynchronize         0.01%       7.956us         0.01%       7.956us       3.978us           0 b           0 b           0 b           0 b             2  \n",
      "-------------------------  ------------  ------------  ------------  ------------  ------------  ------------  ------------  ------------  ------------  ------------  \n",
      "Self CPU time total: 54.062ms\n",
      "\n",
      "Loading TINY from ../checkpoints/sam2.1_hiera_tiny.pt\n"
     ]
    },
    {
     "name": "stderr",
     "output_type": "stream",
     "text": [
      "[W508 22:55:22.513389359 collection.cpp:979] Warning: Failed to recover relationship between all profiler and kineto events: 3179 vs. 0  reassociated. (function reassociate)\n"
     ]
    },
    {
     "name": "stdout",
     "output_type": "stream",
     "text": [
      "-------------------------  ------------  ------------  ------------  ------------  ------------  ------------  ------------  ------------  ------------  ------------  \n",
      "                     Name    Self CPU %      Self CPU   CPU total %     CPU total  CPU time avg       CPU Mem  Self CPU Mem      CUDA Mem  Self CUDA Mem    # of Calls  \n",
      "-------------------------  ------------  ------------  ------------  ------------  ------------  ------------  ------------  ------------  ------------  ------------  \n",
      "                 [memory]         0.00%       0.000us         0.00%       0.000us       0.000us           0 b           0 b     288.71 Mb     288.71 Mb          3179  \n",
      "    cudaStreamIsCapturing         0.06%      24.917us         0.06%      24.917us       0.923us           0 b           0 b           0 b           0 b            27  \n",
      "               cudaMalloc        15.24%       6.659ms        15.24%       6.659ms     246.618us           0 b           0 b           0 b           0 b            27  \n",
      "         cudaLaunchKernel         5.73%       2.503ms         5.73%       2.503ms      11.590us           0 b           0 b           0 b           0 b           216  \n",
      "          cudaMemcpyAsync        36.87%      16.107ms        36.87%      16.107ms      33.486us           0 b           0 b           0 b           0 b           481  \n",
      "    cudaStreamSynchronize        42.08%      18.381ms        42.08%      18.381ms      38.861us           0 b           0 b           0 b           0 b           473  \n",
      "    cudaDeviceSynchronize         0.03%      11.669us         0.03%      11.669us       5.834us           0 b           0 b           0 b           0 b             2  \n",
      "-------------------------  ------------  ------------  ------------  ------------  ------------  ------------  ------------  ------------  ------------  ------------  \n",
      "Self CPU time total: 43.687ms\n",
      "\n"
     ]
    }
   ],
   "source": [
    "checkpoints = src.config.Sam2Checkpoints()\n",
    "for name, path in dataclasses.asdict(checkpoints).items():\n",
    "    print(f\"Loading {name} from {path}\")\n",
    "    with profile(activities=[ProfilerActivity.CUDA], profile_memory=True) as prof:\n",
    "        with record_function(name):\n",
    "            predictor = sam2_service.load_predictor(path)\n",
    "            torch.cuda.synchronize()\n",
    "\n",
    "    print(prof.key_averages())\n",
    "\n",
    "    del predictor\n",
    "    gc.collect()\n",
    "    torch.cuda.empty_cache()\n",
    "    torch.cuda.reset_peak_memory_stats()\n",
    "    torch.cuda.synchronize()\n"
   ]
  },
  {
   "cell_type": "markdown",
   "id": "d733f270",
   "metadata": {},
   "source": [
    "# Measure VRAM usage and tracking speed"
   ]
  },
  {
   "cell_type": "code",
   "execution_count": 2,
   "id": "f959521a",
   "metadata": {},
   "outputs": [],
   "source": [
    "from src.api.services import labeling_service\n",
    "from src.api.db import Session, engine\n",
    "from src.api.repositories import annotations_repo, simrooms_repo\n",
    "import tempfile\n",
    "from pathlib import Path\n",
    "from src.api.models.pydantic import AnnotationDTO\n",
    "import time"
   ]
  },
  {
   "cell_type": "code",
   "execution_count": 3,
   "id": "1be05804",
   "metadata": {},
   "outputs": [
    {
     "name": "stdout",
     "output_type": "stream",
     "text": [
      "frames_path: data/recording_frames/67b71a70-da64-467a-9fb6-91bc29265fd1\n",
      "results_path: /tmp\n",
      "Tracking 1 with 1 annotations\n",
      "../checkpoints/sam2.1_hiera_large.pt sam2.1_hiera_l.yaml\n"
     ]
    },
    {
     "name": "stderr",
     "output_type": "stream",
     "text": [
      "propagate in video: 100%|██████████| 10/10 [00:00<00:00, 11.98it/s]\n",
      "propagate in video:  17%|█▋        | 349/2055 [00:27<02:14, 12.67it/s]\n",
      "[W508 23:43:19.768759049 collection.cpp:979] Warning: Failed to recover relationship between all profiler and kineto events: 1557753 vs. 0  reassociated. (function reassociate)\n"
     ]
    },
    {
     "name": "stdout",
     "output_type": "stream",
     "text": [
      "{'total_time': 36.21030044555664, 'total_frames_tracked': 350}\n",
      "frames_path: data/recording_frames/67b71a70-da64-467a-9fb6-91bc29265fd1\n",
      "results_path: /tmp\n",
      "Tracking 2 with 1 annotations\n",
      "../checkpoints/sam2.1_hiera_large.pt sam2.1_hiera_l.yaml\n"
     ]
    },
    {
     "name": "stderr",
     "output_type": "stream",
     "text": [
      "propagate in video: 100%|██████████| 189/189 [00:15<00:00, 12.02it/s]\n",
      "propagate in video:   2%|▏         | 46/1876 [00:03<02:27, 12.40it/s]\n",
      "[W508 23:44:43.805243667 collection.cpp:979] Warning: Failed to recover relationship between all profiler and kineto events: 1022816 vs. 0  reassociated. (function reassociate)\n"
     ]
    },
    {
     "ename": "KeyboardInterrupt",
     "evalue": "",
     "output_type": "error",
     "traceback": [
      "\u001b[0;31m---------------------------------------------------------------------------\u001b[0m",
      "\u001b[0;31mKeyboardInterrupt\u001b[0m                         Traceback (most recent call last)",
      "Cell \u001b[0;32mIn[3], line 48\u001b[0m\n\u001b[1;32m     45\u001b[0m end_time \u001b[38;5;241m=\u001b[39m time\u001b[38;5;241m.\u001b[39mtime()\n\u001b[1;32m     47\u001b[0m profiling_results[class_id] \u001b[38;5;241m=\u001b[39m {}\n\u001b[0;32m---> 48\u001b[0m event_averages \u001b[38;5;241m=\u001b[39m \u001b[43mprof\u001b[49m\u001b[38;5;241;43m.\u001b[39;49m\u001b[43mkey_averages\u001b[49m\u001b[43m(\u001b[49m\u001b[43m)\u001b[49m\n\u001b[1;32m     49\u001b[0m found_event \u001b[38;5;241m=\u001b[39m \u001b[38;5;28;01mFalse\u001b[39;00m\n\u001b[1;32m     50\u001b[0m \u001b[38;5;28;01mfor\u001b[39;00m event_avg \u001b[38;5;129;01min\u001b[39;00m event_averages:\n",
      "File \u001b[0;32m~/projects/bachelorproef/.venv/lib/python3.10/site-packages/torch/profiler/profiler.py:286\u001b[0m, in \u001b[0;36m_KinetoProfile.key_averages\u001b[0;34m(self, group_by_input_shape, group_by_stack_n)\u001b[0m\n\u001b[1;32m    278\u001b[0m \u001b[38;5;250m\u001b[39m\u001b[38;5;124;03m\"\"\"Averages events, grouping them by operator name and (optionally) input shapes and\u001b[39;00m\n\u001b[1;32m    279\u001b[0m \u001b[38;5;124;03mstack.\u001b[39;00m\n\u001b[1;32m    280\u001b[0m \n\u001b[0;32m   (...)\u001b[0m\n\u001b[1;32m    283\u001b[0m \u001b[38;5;124;03m    when creating profiler context manager.\u001b[39;00m\n\u001b[1;32m    284\u001b[0m \u001b[38;5;124;03m\"\"\"\u001b[39;00m\n\u001b[1;32m    285\u001b[0m \u001b[38;5;28;01massert\u001b[39;00m \u001b[38;5;28mself\u001b[39m\u001b[38;5;241m.\u001b[39mprofiler\n\u001b[0;32m--> 286\u001b[0m \u001b[38;5;28;01mreturn\u001b[39;00m \u001b[38;5;28;43mself\u001b[39;49m\u001b[38;5;241;43m.\u001b[39;49m\u001b[43mprofiler\u001b[49m\u001b[38;5;241;43m.\u001b[39;49m\u001b[43mkey_averages\u001b[49m\u001b[43m(\u001b[49m\u001b[43mgroup_by_input_shape\u001b[49m\u001b[43m,\u001b[49m\u001b[43m \u001b[49m\u001b[43mgroup_by_stack_n\u001b[49m\u001b[43m)\u001b[49m\n",
      "File \u001b[0;32m~/projects/bachelorproef/.venv/lib/python3.10/site-packages/torch/autograd/profiler.py:483\u001b[0m, in \u001b[0;36mprofile.key_averages\u001b[0;34m(self, group_by_input_shape, group_by_stack_n)\u001b[0m\n\u001b[1;32m    481\u001b[0m \u001b[38;5;28mself\u001b[39m\u001b[38;5;241m.\u001b[39m_ensure_function_events()\n\u001b[1;32m    482\u001b[0m \u001b[38;5;28;01massert\u001b[39;00m \u001b[38;5;28mself\u001b[39m\u001b[38;5;241m.\u001b[39m_function_events \u001b[38;5;129;01mis\u001b[39;00m \u001b[38;5;129;01mnot\u001b[39;00m \u001b[38;5;28;01mNone\u001b[39;00m, \u001b[38;5;124m\"\u001b[39m\u001b[38;5;124mExpected profiling results\u001b[39m\u001b[38;5;124m\"\u001b[39m\n\u001b[0;32m--> 483\u001b[0m \u001b[38;5;28;01mreturn\u001b[39;00m \u001b[38;5;28;43mself\u001b[39;49m\u001b[38;5;241;43m.\u001b[39;49m\u001b[43m_function_events\u001b[49m\u001b[38;5;241;43m.\u001b[39;49m\u001b[43mkey_averages\u001b[49m\u001b[43m(\u001b[49m\n\u001b[1;32m    484\u001b[0m \u001b[43m    \u001b[49m\u001b[43mgroup_by_input_shape\u001b[49m\u001b[43m,\u001b[49m\u001b[43m \u001b[49m\u001b[43mgroup_by_stack_n\u001b[49m\n\u001b[1;32m    485\u001b[0m \u001b[43m\u001b[49m\u001b[43m)\u001b[49m\n",
      "File \u001b[0;32m~/projects/bachelorproef/.venv/lib/python3.10/site-packages/torch/autograd/profiler_util.py:332\u001b[0m, in \u001b[0;36mEventList.key_averages\u001b[0;34m(self, group_by_input_shapes, group_by_stack_n)\u001b[0m\n\u001b[1;32m    329\u001b[0m     \u001b[38;5;28;01mreturn\u001b[39;00m \u001b[38;5;28mtuple\u001b[39m(key)\n\u001b[1;32m    331\u001b[0m \u001b[38;5;28;01mfor\u001b[39;00m evt \u001b[38;5;129;01min\u001b[39;00m \u001b[38;5;28mself\u001b[39m:\n\u001b[0;32m--> 332\u001b[0m     \u001b[43mstats\u001b[49m\u001b[43m[\u001b[49m\u001b[43mget_key\u001b[49m\u001b[43m(\u001b[49m\u001b[43mevt\u001b[49m\u001b[43m,\u001b[49m\u001b[43m \u001b[49m\u001b[43mgroup_by_input_shapes\u001b[49m\u001b[43m,\u001b[49m\u001b[43m \u001b[49m\u001b[43mgroup_by_stack_n\u001b[49m\u001b[43m)\u001b[49m\u001b[43m]\u001b[49m\u001b[38;5;241;43m.\u001b[39;49m\u001b[43madd\u001b[49m\u001b[43m(\u001b[49m\u001b[43mevt\u001b[49m\u001b[43m)\u001b[49m\n\u001b[1;32m    334\u001b[0m avg_list \u001b[38;5;241m=\u001b[39m EventList(\n\u001b[1;32m    335\u001b[0m     stats\u001b[38;5;241m.\u001b[39mvalues(),\n\u001b[1;32m    336\u001b[0m     use_device\u001b[38;5;241m=\u001b[39m\u001b[38;5;28mself\u001b[39m\u001b[38;5;241m.\u001b[39m_use_device,\n\u001b[1;32m    337\u001b[0m     profile_memory\u001b[38;5;241m=\u001b[39m\u001b[38;5;28mself\u001b[39m\u001b[38;5;241m.\u001b[39m_profile_memory,\n\u001b[1;32m    338\u001b[0m     with_flops\u001b[38;5;241m=\u001b[39m\u001b[38;5;28mself\u001b[39m\u001b[38;5;241m.\u001b[39m_with_flops,\n\u001b[1;32m    339\u001b[0m )\n\u001b[1;32m    340\u001b[0m \u001b[38;5;28;01mfor\u001b[39;00m evt \u001b[38;5;129;01min\u001b[39;00m avg_list:\n",
      "File \u001b[0;32m~/projects/bachelorproef/.venv/lib/python3.10/site-packages/torch/autograd/profiler_util.py:702\u001b[0m, in \u001b[0;36mFunctionEventAvg.add\u001b[0;34m(self, other)\u001b[0m\n\u001b[1;32m    700\u001b[0m \u001b[38;5;28mself\u001b[39m\u001b[38;5;241m.\u001b[39mdevice_memory_usage \u001b[38;5;241m+\u001b[39m\u001b[38;5;241m=\u001b[39m other\u001b[38;5;241m.\u001b[39mdevice_memory_usage\n\u001b[1;32m    701\u001b[0m \u001b[38;5;28mself\u001b[39m\u001b[38;5;241m.\u001b[39mself_cpu_memory_usage \u001b[38;5;241m+\u001b[39m\u001b[38;5;241m=\u001b[39m other\u001b[38;5;241m.\u001b[39mself_cpu_memory_usage\n\u001b[0;32m--> 702\u001b[0m \u001b[38;5;28mself\u001b[39m\u001b[38;5;241m.\u001b[39mself_device_memory_usage \u001b[38;5;241m+\u001b[39m\u001b[38;5;241m=\u001b[39m \u001b[43mother\u001b[49m\u001b[38;5;241;43m.\u001b[39;49m\u001b[43mself_device_memory_usage\u001b[49m\n\u001b[1;32m    703\u001b[0m \u001b[38;5;28mself\u001b[39m\u001b[38;5;241m.\u001b[39mcount \u001b[38;5;241m+\u001b[39m\u001b[38;5;241m=\u001b[39m other\u001b[38;5;241m.\u001b[39mcount\n\u001b[1;32m    704\u001b[0m \u001b[38;5;28;01mif\u001b[39;00m \u001b[38;5;28mself\u001b[39m\u001b[38;5;241m.\u001b[39mflops \u001b[38;5;129;01mis\u001b[39;00m \u001b[38;5;28;01mNone\u001b[39;00m:\n",
      "File \u001b[0;32m~/projects/bachelorproef/.venv/lib/python3.10/site-packages/torch/autograd/profiler_util.py:547\u001b[0m, in \u001b[0;36mFunctionEvent.self_device_memory_usage\u001b[0;34m(self)\u001b[0m\n\u001b[1;32m    545\u001b[0m \u001b[38;5;129m@property\u001b[39m\n\u001b[1;32m    546\u001b[0m \u001b[38;5;28;01mdef\u001b[39;00m\u001b[38;5;250m \u001b[39m\u001b[38;5;21mself_device_memory_usage\u001b[39m(\u001b[38;5;28mself\u001b[39m):\n\u001b[0;32m--> 547\u001b[0m     \u001b[38;5;28;01mif\u001b[39;00m \u001b[38;5;28mself\u001b[39m\u001b[38;5;241m.\u001b[39mis_async \u001b[38;5;129;01mor\u001b[39;00m \u001b[38;5;28mself\u001b[39m\u001b[38;5;241m.\u001b[39mdevice_type \u001b[38;5;241m!=\u001b[39m DeviceType\u001b[38;5;241m.\u001b[39mCPU:\n\u001b[1;32m    548\u001b[0m         \u001b[38;5;28;01mreturn\u001b[39;00m \u001b[38;5;241m0\u001b[39m\n\u001b[1;32m    549\u001b[0m     \u001b[38;5;28;01mreturn\u001b[39;00m \u001b[38;5;28mself\u001b[39m\u001b[38;5;241m.\u001b[39mdevice_memory_usage \u001b[38;5;241m-\u001b[39m \u001b[38;5;28msum\u001b[39m(\n\u001b[1;32m    550\u001b[0m         child\u001b[38;5;241m.\u001b[39mdevice_memory_usage \u001b[38;5;28;01mfor\u001b[39;00m child \u001b[38;5;129;01min\u001b[39;00m \u001b[38;5;28mself\u001b[39m\u001b[38;5;241m.\u001b[39mcpu_children\n\u001b[1;32m    551\u001b[0m     )\n",
      "\u001b[0;31mKeyboardInterrupt\u001b[0m: "
     ]
    }
   ],
   "source": [
    "profiling_results = {}\n",
    "\n",
    "with Session(engine) as session:\n",
    "    calibration_id = 3\n",
    "    cal_rec = simrooms_repo.get_calibration_recording(\n",
    "        db=session,\n",
    "        calibration_id=calibration_id\n",
    "    )\n",
    "    recording_id = cal_rec.recording.id\n",
    "    frames_path = Path(\"data/recording_frames\") / recording_id\n",
    "    frame_count = len(list(frames_path.glob(\"*.jpg\")))\n",
    "    classes = simrooms_repo.get_simroom_classes(\n",
    "        db=session,\n",
    "        simroom_id=1 # Controlled Experiment Room\n",
    "    )\n",
    "    classes = classes[:3] # We don't need to track all classes for the profiling\n",
    "\n",
    "    for c in classes:\n",
    "        class_id = c.id\n",
    "\n",
    "        annotations = annotations_repo.get_annotations_by_class_id(\n",
    "            db=session,\n",
    "            calibration_id=calibration_id,\n",
    "            class_id=class_id\n",
    "        )\n",
    "        annotations = [annotations[0]]\n",
    "\n",
    "        results_path = Path(tempfile.gettempdir())\n",
    "        tracking_job = labeling_service.TrackingJob(\n",
    "            annotations=[AnnotationDTO.from_orm(a) for a in annotations],\n",
    "            frames_path=frames_path,\n",
    "            results_path=results_path,\n",
    "            frame_count=frame_count,\n",
    "            class_id=class_id,\n",
    "            remove_previous_results=False\n",
    "        )\n",
    "\n",
    "        print(f\"frames_path: {frames_path}\")\n",
    "        print(f\"results_path: {results_path}\")\n",
    "        print(f\"Tracking {class_id} with {len(annotations)} annotations\")\n",
    "\n",
    "        start_time = time.time()\n",
    "        with profile(activities=[ProfilerActivity.CUDA], profile_memory=True) as prof:\n",
    "            with record_function(f\"Tracking {class_id}\"):\n",
    "                total_frames_tracked = tracking_job.run()\n",
    "        end_time = time.time()\n",
    "\n",
    "        profiling_results[class_id] = {}\n",
    "        event_averages = prof.key_averages()\n",
    "        found_event = False\n",
    "        for event_avg in event_averages:\n",
    "            if event_avg.key == f\"Tracking {class_id}\":\n",
    "                found_event = True\n",
    "                # self_cuda_memory_usage: Net CUDA memory change by this event itself (allocations - deallocations)\n",
    "                profiling_results[class_id]['self_cuda_memory_usage_bytes'] = event_avg.self_cuda_memory_usage\n",
    "                profiling_results[class_id]['self_cuda_memory_usage_mb'] = event_avg.self_cuda_memory_usage / (1024 * 1024)\n",
    "\n",
    "        profiling_results[class_id]['total_time'] = end_time - start_time\n",
    "        profiling_results[class_id]['total_frames_tracked'] = total_frames_tracked\n",
    "        \n",
    "        print(profiling_results[class_id])"
   ]
  },
  {
   "cell_type": "code",
   "execution_count": null,
   "id": "f5219a5c",
   "metadata": {},
   "outputs": [],
   "source": [
    "inference_speeds = []\n",
    "for class_id, result in profiling_results.items():\n",
    "    total_time = result['total_time']\n",
    "    total_frames_tracked = result['total_frames_tracked']\n",
    "    inference_speed = total_frames_tracked / total_time\n",
    "    inference_speeds.append(inference_speed)\n",
    "\n",
    "print(f\"Average inference speed: {sum(inference_speeds) / len(inference_speeds)} frames per second\")\n"
   ]
  }
 ],
 "metadata": {
  "kernelspec": {
   "display_name": "bachelorproef-py3.10",
   "language": "python",
   "name": "python3"
  },
  "language_info": {
   "codemirror_mode": {
    "name": "ipython",
    "version": 3
   },
   "file_extension": ".py",
   "mimetype": "text/x-python",
   "name": "python",
   "nbconvert_exporter": "python",
   "pygments_lexer": "ipython3",
   "version": "3.10.12"
  }
 },
 "nbformat": 4,
 "nbformat_minor": 5
}
