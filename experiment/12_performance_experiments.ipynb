{
 "cells": [
  {
   "cell_type": "code",
   "execution_count": 2,
   "id": "d9f8e770",
   "metadata": {},
   "outputs": [],
   "source": [
    "import os\n",
    "os.environ[\"CHECKPOINTS_PATH\"] = \"../checkpoints\"\n",
    "\n",
    "import subprocess as sp\n",
    "from src.config import Sam2Checkpoints\n",
    "import dataclasses\n",
    "from src.api.services import sam2_service\n",
    "import torch\n",
    "import time\n",
    "import gc"
   ]
  },
  {
   "cell_type": "markdown",
   "id": "9d21c7c0",
   "metadata": {},
   "source": [
    "# Measure VRAM requirements of models"
   ]
  },
  {
   "cell_type": "code",
   "execution_count": 3,
   "id": "9fe7ee21",
   "metadata": {},
   "outputs": [],
   "source": [
    "def get_gpu_memory():\n",
    "    command = \"nvidia-smi --query-gpu=memory.free --format=csv\"\n",
    "    memory_free_info = sp.check_output(command.split()).decode('ascii').split('\\n')[:-1][1:]\n",
    "    memory_free_values = [int(x.split()[0]) for i, x in enumerate(memory_free_info)]\n",
    "    return memory_free_values"
   ]
  },
  {
   "cell_type": "code",
   "execution_count": 7,
   "id": "6fb00519",
   "metadata": {},
   "outputs": [
    {
     "name": "stdout",
     "output_type": "stream",
     "text": [
      "Loading BASE_PLUS checkpoint...\n",
      "Loading LARGE checkpoint...\n",
      "Loading SMALL checkpoint...\n",
      "Loading TINY checkpoint...\n",
      "\n",
      "VRAM requirements per model:\n",
      "BASE_PLUS: 450.47 MB\n",
      "LARGE: 1000.91 MB\n",
      "SMALL: 315.29 MB\n",
      "TINY: 288.71 MB\n"
     ]
    }
   ],
   "source": [
    "checkpoints = Sam2Checkpoints()\n",
    "requirements = {}\n",
    "\n",
    "for name, path in dataclasses.asdict(checkpoints).items():\n",
    "    print(f\"Loading {name} checkpoint...\")\n",
    "\n",
    "    # Clear any previous garbage\n",
    "    gc.collect()\n",
    "    torch.cuda.empty_cache()\n",
    "\n",
    "    # Reset stats\n",
    "    torch.cuda.reset_peak_memory_stats()\n",
    "    torch.cuda.synchronize()\n",
    "\n",
    "    # Load the model\n",
    "    predictor = sam2_service.load_predictor(path)\n",
    "\n",
    "    # Sync before measuring\n",
    "    torch.cuda.synchronize()\n",
    "\n",
    "    # Get peak memory used (in bytes)\n",
    "    peak_memory = torch.cuda.max_memory_allocated()\n",
    "    requirements[name] = round(peak_memory / (1024 ** 2), 2)  # convert to MB\n",
    "\n",
    "    # Cleanup\n",
    "    del predictor\n",
    "    gc.collect()\n",
    "    torch.cuda.empty_cache()\n",
    "\n",
    "print(\"\\nVRAM requirements per model:\")\n",
    "for name, mem in requirements.items():\n",
    "    print(f\"{name}: {mem} MB\")"
   ]
  }
 ],
 "metadata": {
  "kernelspec": {
   "display_name": "bachelorproef-py3.10",
   "language": "python",
   "name": "python3"
  },
  "language_info": {
   "codemirror_mode": {
    "name": "ipython",
    "version": 3
   },
   "file_extension": ".py",
   "mimetype": "text/x-python",
   "name": "python",
   "nbconvert_exporter": "python",
   "pygments_lexer": "ipython3",
   "version": "3.10.12"
  }
 },
 "nbformat": 4,
 "nbformat_minor": 5
}
