{
 "cells": [
  {
   "cell_type": "code",
   "execution_count": null,
   "id": "a74be9b6",
   "metadata": {},
   "outputs": [],
   "source": [
    "import os\n",
    "\n",
    "os.environ[\"CHECKPOINTS_PATH\"] = \"../checkpoints\"\n",
    "os.environ[\"TRACKING_RESULTS_PATH\"] = \"data/processed_tracking_results\"\n",
    "\n",
    "import itertools\n",
    "import shutil\n",
    "from pathlib import Path\n",
    "\n",
    "import cv2\n",
    "import matplotlib.pyplot as plt\n",
    "import numpy as np\n",
    "import pandas as pd\n",
    "from src.api.models.pydantic import SimRoomClassDTO\n",
    "from src.config import UNKNOWN_CLASS_ID\n",
    "from ultralytics import YOLO\n",
    "\n",
    "from experiment.prediction_utils import (\n",
    "    calculate_metrics,\n",
    "    create_confusion_matrix,\n",
    "    evaluate_predictions,\n",
    "    render_confusion_matrix,\n",
    "    update_confusion_matrix,\n",
    ")\n",
    "from experiment.settings import (\n",
    "    CLASS_ID_TO_NAME,\n",
    "    FINAL_PREDICTIONS_PATH,\n",
    "    FULLY_LABELED_RECORDINGS,\n",
    "    GAZE_SEGMENTATION_RESULTS_PATH,\n",
    "    LABELING_REC_DIFF_BACKGROUND_ID,\n",
    "    LABELING_REC_SAME_BACKGROUND_ID,\n",
    "    OBJECT_DATASETS_PATH,\n",
    "    TRAINING_DATASETS_PATH,\n",
    "    YOLO_MODELS_PATH,\n",
    "    SIMROOM_ID,\n",
    ")\n",
    "from src.api.db import Session, engine\n",
    "from src.api.repositories import simrooms_repo\n",
    "from src.api.services import simrooms_service\n",
    "\n",
    "%matplotlib inline"
   ]
  },
  {
   "cell_type": "code",
   "execution_count": 2,
   "id": "0f8d400b",
   "metadata": {},
   "outputs": [],
   "source": [
    "model = YOLO(\"yolo11n-cls.pt\")"
   ]
  },
  {
   "cell_type": "markdown",
   "id": "1f33beef",
   "metadata": {},
   "source": [
    "# Create Training Data\n",
    "\n"
   ]
  },
  {
   "cell_type": "code",
   "execution_count": 3,
   "id": "af64a048",
   "metadata": {},
   "outputs": [],
   "source": [
    "def save_roi(roi: np.ndarray, out_dir: Path, file_idx: int, class_id: str):\n",
    "    \"\"\"\n",
    "    Save an ROI crop in <out_dir>/<class_id>/<file>.png\n",
    "    \"\"\"\n",
    "    class_dir = out_dir / class_id  # one subdir per class\n",
    "    class_dir.mkdir(parents=True, exist_ok=True)\n",
    "\n",
    "    filename = f\"{file_idx:06d}_{class_id}.png\"\n",
    "    cv2.imwrite(str(class_dir / filename), roi)\n",
    "\n",
    "\n",
    "def create_dataset(\n",
    "    session: Session,\n",
    "    calibration_id: int,\n",
    "    tracked_classes: list[SimRoomClassDTO],\n",
    "    dataset_path: Path,\n",
    ") -> None:\n",
    "    \"\"\"\n",
    "    Creates a balanced 90 %/10 % train/val split with no padding.\n",
    "\n",
    "    Resulting structure:\n",
    "        dataset_path/\n",
    "          train/\n",
    "            <class_id>/*.png\n",
    "          val/\n",
    "            <class_id>/*.png\n",
    "    \"\"\"\n",
    "    # start fresh\n",
    "    if dataset_path.exists():\n",
    "        shutil.rmtree(dataset_path)\n",
    "\n",
    "    train_root = dataset_path / \"train\"\n",
    "    val_root = dataset_path / \"val\"\n",
    "    train_root.mkdir(parents=True, exist_ok=True)\n",
    "    val_root.mkdir(parents=True, exist_ok=True)\n",
    "\n",
    "    # -------------------------------------------------------------\n",
    "    # 1. Collect ROIs per class\n",
    "    # -------------------------------------------------------------\n",
    "    rois_per_class: dict[str, list[np.ndarray]] = {}\n",
    "    for tracked_class in tracked_classes:\n",
    "        result_paths = simrooms_repo.get_tracking_result_paths(\n",
    "            session, calibration_id, tracked_class.id\n",
    "        )\n",
    "\n",
    "        cid = str(tracked_class.id)\n",
    "        rois_per_class.setdefault(cid, [])\n",
    "        for npz_path in result_paths:\n",
    "            roi = np.load(npz_path)[\"roi\"]\n",
    "            roi = cv2.cvtColor(roi, cv2.COLOR_BGR2RGB)\n",
    "            rois_per_class[cid].append(roi)\n",
    "\n",
    "    # drop empty classes\n",
    "    rois_per_class = {c: r for c, r in rois_per_class.items() if r}\n",
    "    if not rois_per_class:\n",
    "        raise ValueError(\"No class contains any ROI images.\")\n",
    "\n",
    "    # -------------------------------------------------------------\n",
    "    # 2. Balance by the smallest class size\n",
    "    # -------------------------------------------------------------\n",
    "    min_samples = min(len(r) for r in rois_per_class.values())\n",
    "    rng = np.random.default_rng(seed=42)\n",
    "\n",
    "    # -------------------------------------------------------------\n",
    "    # 3. Split and save\n",
    "    # -------------------------------------------------------------\n",
    "    global_idx = 0\n",
    "    for cid, rois in rois_per_class.items():\n",
    "        idxs = rng.choice(len(rois), size=min_samples, replace=False)\n",
    "        selected = [rois[i] for i in idxs]\n",
    "\n",
    "        split = int(0.9 * min_samples)\n",
    "        train_split, val_split = selected[:split], selected[split:]\n",
    "\n",
    "        for roi in train_split:\n",
    "            save_roi(roi, train_root, global_idx, cid)\n",
    "            global_idx += 1\n",
    "        for roi in val_split:\n",
    "            save_roi(roi, val_root, global_idx, cid)\n",
    "            global_idx += 1"
   ]
  },
  {
   "cell_type": "code",
   "execution_count": 4,
   "id": "09be8dff",
   "metadata": {},
   "outputs": [],
   "source": [
    "with Session(engine) as session:\n",
    "    same_background_calibration_id = simrooms_repo.get_calibration_recording(\n",
    "        db=session, simroom_id=SIMROOM_ID, recording_id=LABELING_REC_SAME_BACKGROUND_ID\n",
    "    ).id\n",
    "\n",
    "    diff_background_calibration_id = simrooms_repo.get_calibration_recording(\n",
    "        db=session, simroom_id=SIMROOM_ID, recording_id=LABELING_REC_DIFF_BACKGROUND_ID\n",
    "    ).id\n",
    "\n",
    "    tracked_classes = simrooms_service.get_tracked_classes(\n",
    "        db=session, calibration_id=same_background_calibration_id\n",
    "    )\n",
    "\n",
    "    tracked_classes_same_background = simrooms_service.get_tracked_classes(\n",
    "        db=session, calibration_id=same_background_calibration_id\n",
    "    )\n",
    "    tracked_classes_diff_background = simrooms_service.get_tracked_classes(\n",
    "        db=session, calibration_id=diff_background_calibration_id\n",
    "    )\n",
    "\n",
    "    all_tracked_classes = (\n",
    "        tracked_classes_same_background + tracked_classes_diff_background\n",
    "    )"
   ]
  },
  {
   "cell_type": "code",
   "execution_count": 5,
   "id": "25d5771f",
   "metadata": {},
   "outputs": [],
   "source": [
    "CREATE_DATASETS = False\n",
    "\n",
    "if CREATE_DATASETS:\n",
    "    create_dataset(\n",
    "        session,\n",
    "        same_background_calibration_id,\n",
    "        tracked_classes_same_background,\n",
    "        TRAINING_DATASETS_PATH / \"same_background\",\n",
    "    )\n",
    "    # create_dataset(tracked_classes_diff_background, TRAINING_DATASETS_PATH / \"diff_background\")\n",
    "    # create_dataset(all_tracked_classes, TRAINING_DATASETS_PATH / \"combined_background\")"
   ]
  },
  {
   "cell_type": "markdown",
   "id": "00ea82a5",
   "metadata": {},
   "source": [
    "# Train Models"
   ]
  },
  {
   "cell_type": "code",
   "execution_count": 6,
   "id": "ca903701",
   "metadata": {},
   "outputs": [
    {
     "name": "stdout",
     "output_type": "stream",
     "text": [
      "New https://pypi.org/project/ultralytics/8.3.137 available 😃 Update with 'pip install -U ultralytics'\n",
      "Ultralytics 8.3.67 🚀 Python-3.10.12 torch-2.5.1+cu121 CUDA:0 (NVIDIA GeForce RTX 4090, 24564MiB)\n",
      "\u001b[34m\u001b[1mengine/trainer: \u001b[0mtask=classify, mode=train, model=yolo11n-cls.pt, data=data/training_datasets/same_background, epochs=100, time=None, patience=100, batch=128, imgsz=224, save=True, save_period=-1, cache=False, device=cuda, workers=8, project=None, name=train12, exist_ok=False, pretrained=True, optimizer=auto, verbose=True, seed=0, deterministic=True, single_cls=False, rect=False, cos_lr=False, close_mosaic=10, resume=False, amp=True, fraction=1.0, profile=False, freeze=None, multi_scale=False, overlap_mask=True, mask_ratio=4, dropout=0.0, val=True, split=val, save_json=False, save_hybrid=False, conf=None, iou=0.7, max_det=300, half=False, dnn=False, plots=True, source=None, vid_stride=1, stream_buffer=False, visualize=False, augment=False, agnostic_nms=False, classes=None, retina_masks=False, embed=None, show=False, save_frames=False, save_txt=False, save_conf=False, save_crop=False, show_labels=True, show_conf=True, show_boxes=True, line_width=None, format=torchscript, keras=False, optimize=False, int8=False, dynamic=False, simplify=True, opset=None, workspace=None, nms=False, lr0=0.01, lrf=0.01, momentum=0.937, weight_decay=0.0005, warmup_epochs=3.0, warmup_momentum=0.8, warmup_bias_lr=0.1, box=7.5, cls=0.5, dfl=1.5, pose=12.0, kobj=1.0, nbs=64, hsv_h=0.015, hsv_s=0.7, hsv_v=0.4, degrees=0.0, translate=0.1, scale=0.5, shear=0.0, perspective=0.0, flipud=0.0, fliplr=0.5, bgr=0.0, mosaic=1.0, mixup=0.0, copy_paste=0.0, copy_paste_mode=flip, auto_augment=randaugment, erasing=0.4, crop_fraction=1.0, cfg=None, tracker=botsort.yaml, save_dir=/home/zilian/projects/bachelorproef/runs/classify/train12\n",
      "\u001b[34m\u001b[1mtrain:\u001b[0m /home/zilian/projects/bachelorproef/experiment/data/training_datasets/same_background/train... found 8745 images in 15 classes ✅ \n",
      "\u001b[34m\u001b[1mval:\u001b[0m /home/zilian/projects/bachelorproef/experiment/data/training_datasets/same_background/val... found 975 images in 15 classes ✅ \n",
      "\u001b[34m\u001b[1mtest:\u001b[0m None...\n"
     ]
    },
    {
     "name": "stderr",
     "output_type": "stream",
     "text": [
      "WARNING: All log messages before absl::InitializeLog() is called are written to STDERR\n",
      "E0000 00:00:1747421408.337990    2465 cuda_dnn.cc:8310] Unable to register cuDNN factory: Attempting to register factory for plugin cuDNN when one has already been registered\n",
      "E0000 00:00:1747421408.351898    2465 cuda_blas.cc:1418] Unable to register cuBLAS factory: Attempting to register factory for plugin cuBLAS when one has already been registered\n"
     ]
    },
    {
     "name": "stdout",
     "output_type": "stream",
     "text": [
      "Overriding model.yaml nc=80 with nc=15\n",
      "\n",
      "                   from  n    params  module                                       arguments                     \n",
      "  0                  -1  1       464  ultralytics.nn.modules.conv.Conv             [3, 16, 3, 2]                 \n",
      "  1                  -1  1      4672  ultralytics.nn.modules.conv.Conv             [16, 32, 3, 2]                \n",
      "  2                  -1  1      6640  ultralytics.nn.modules.block.C3k2            [32, 64, 1, False, 0.25]      \n",
      "  3                  -1  1     36992  ultralytics.nn.modules.conv.Conv             [64, 64, 3, 2]                \n",
      "  4                  -1  1     26080  ultralytics.nn.modules.block.C3k2            [64, 128, 1, False, 0.25]     \n",
      "  5                  -1  1    147712  ultralytics.nn.modules.conv.Conv             [128, 128, 3, 2]              \n",
      "  6                  -1  1     87040  ultralytics.nn.modules.block.C3k2            [128, 128, 1, True]           \n",
      "  7                  -1  1    295424  ultralytics.nn.modules.conv.Conv             [128, 256, 3, 2]              \n",
      "  8                  -1  1    346112  ultralytics.nn.modules.block.C3k2            [256, 256, 1, True]           \n",
      "  9                  -1  1    249728  ultralytics.nn.modules.block.C2PSA           [256, 256, 1]                 \n",
      " 10                  -1  1    349455  ultralytics.nn.modules.head.Classify         [256, 15]                     \n",
      "YOLO11n-cls summary: 151 layers, 1,550,319 parameters, 1,550,319 gradients, 3.3 GFLOPs\n",
      "Transferred 234/236 items from pretrained weights\n",
      "\u001b[34m\u001b[1mTensorBoard: \u001b[0mStart with 'tensorboard --logdir /home/zilian/projects/bachelorproef/runs/classify/train12', view at http://localhost:6006/\n",
      "\u001b[34m\u001b[1mAMP: \u001b[0mrunning Automatic Mixed Precision (AMP) checks...\n",
      "\u001b[34m\u001b[1mAMP: \u001b[0mchecks passed ✅\n"
     ]
    },
    {
     "name": "stderr",
     "output_type": "stream",
     "text": [
      "\u001b[34m\u001b[1mtrain: \u001b[0mScanning /home/zilian/projects/bachelorproef/experiment/data/training_datasets/same_background/train... 8541 images, 204 corrupt: 100%|██████████| 8541/8541 [00:00<?, ?it/s]"
     ]
    },
    {
     "name": "stdout",
     "output_type": "stream",
     "text": [
      "\u001b[34m\u001b[1mtrain: \u001b[0mWARNING ⚠️ /home/zilian/projects/bachelorproef/experiment/data/training_datasets/same_background/train/1/000122_1.png: ignoring corrupt image/label: image size (42, 9) <10 pixels\n",
      "\u001b[34m\u001b[1mtrain: \u001b[0mWARNING ⚠️ /home/zilian/projects/bachelorproef/experiment/data/training_datasets/same_background/train/11/006498_11.png: ignoring corrupt image/label: image size (7, 30) <10 pixels\n",
      "\u001b[34m\u001b[1mtrain: \u001b[0mWARNING ⚠️ /home/zilian/projects/bachelorproef/experiment/data/training_datasets/same_background/train/11/006558_11.png: ignoring corrupt image/label: image size (8, 29) <10 pixels\n",
      "\u001b[34m\u001b[1mtrain: \u001b[0mWARNING ⚠️ /home/zilian/projects/bachelorproef/experiment/data/training_datasets/same_background/train/11/006568_11.png: ignoring corrupt image/label: image size (9, 29) <10 pixels\n",
      "\u001b[34m\u001b[1mtrain: \u001b[0mWARNING ⚠️ /home/zilian/projects/bachelorproef/experiment/data/training_datasets/same_background/train/11/006575_11.png: ignoring corrupt image/label: image size (9, 29) <10 pixels\n",
      "\u001b[34m\u001b[1mtrain: \u001b[0mWARNING ⚠️ /home/zilian/projects/bachelorproef/experiment/data/training_datasets/same_background/train/11/006576_11.png: ignoring corrupt image/label: image size (8, 29) <10 pixels\n",
      "\u001b[34m\u001b[1mtrain: \u001b[0mWARNING ⚠️ /home/zilian/projects/bachelorproef/experiment/data/training_datasets/same_background/train/11/006597_11.png: ignoring corrupt image/label: image size (8, 30) <10 pixels\n",
      "\u001b[34m\u001b[1mtrain: \u001b[0mWARNING ⚠️ /home/zilian/projects/bachelorproef/experiment/data/training_datasets/same_background/train/11/006601_11.png: ignoring corrupt image/label: image size (7, 28) <10 pixels\n",
      "\u001b[34m\u001b[1mtrain: \u001b[0mWARNING ⚠️ /home/zilian/projects/bachelorproef/experiment/data/training_datasets/same_background/train/11/006602_11.png: ignoring corrupt image/label: image size (8, 30) <10 pixels\n",
      "\u001b[34m\u001b[1mtrain: \u001b[0mWARNING ⚠️ /home/zilian/projects/bachelorproef/experiment/data/training_datasets/same_background/train/11/006636_11.png: ignoring corrupt image/label: image size (9, 29) <10 pixels\n",
      "\u001b[34m\u001b[1mtrain: \u001b[0mWARNING ⚠️ /home/zilian/projects/bachelorproef/experiment/data/training_datasets/same_background/train/11/006680_11.png: ignoring corrupt image/label: image size (9, 31) <10 pixels\n",
      "\u001b[34m\u001b[1mtrain: \u001b[0mWARNING ⚠️ /home/zilian/projects/bachelorproef/experiment/data/training_datasets/same_background/train/11/006687_11.png: ignoring corrupt image/label: image size (9, 29) <10 pixels\n",
      "\u001b[34m\u001b[1mtrain: \u001b[0mWARNING ⚠️ /home/zilian/projects/bachelorproef/experiment/data/training_datasets/same_background/train/11/006701_11.png: ignoring corrupt image/label: image size (9, 30) <10 pixels\n",
      "\u001b[34m\u001b[1mtrain: \u001b[0mWARNING ⚠️ /home/zilian/projects/bachelorproef/experiment/data/training_datasets/same_background/train/11/006706_11.png: ignoring corrupt image/label: image size (9, 31) <10 pixels\n",
      "\u001b[34m\u001b[1mtrain: \u001b[0mWARNING ⚠️ /home/zilian/projects/bachelorproef/experiment/data/training_datasets/same_background/train/11/006802_11.png: ignoring corrupt image/label: image size (9, 31) <10 pixels\n",
      "\u001b[34m\u001b[1mtrain: \u001b[0mWARNING ⚠️ /home/zilian/projects/bachelorproef/experiment/data/training_datasets/same_background/train/11/006846_11.png: ignoring corrupt image/label: image size (7, 30) <10 pixels\n",
      "\u001b[34m\u001b[1mtrain: \u001b[0mWARNING ⚠️ /home/zilian/projects/bachelorproef/experiment/data/training_datasets/same_background/train/11/006849_11.png: ignoring corrupt image/label: image size (7, 29) <10 pixels\n",
      "\u001b[34m\u001b[1mtrain: \u001b[0mWARNING ⚠️ /home/zilian/projects/bachelorproef/experiment/data/training_datasets/same_background/train/11/006852_11.png: ignoring corrupt image/label: image size (9, 29) <10 pixels\n",
      "\u001b[34m\u001b[1mtrain: \u001b[0mWARNING ⚠️ /home/zilian/projects/bachelorproef/experiment/data/training_datasets/same_background/train/11/006857_11.png: ignoring corrupt image/label: image size (7, 30) <10 pixels\n",
      "\u001b[34m\u001b[1mtrain: \u001b[0mWARNING ⚠️ /home/zilian/projects/bachelorproef/experiment/data/training_datasets/same_background/train/11/006870_11.png: ignoring corrupt image/label: image size (7, 29) <10 pixels\n",
      "\u001b[34m\u001b[1mtrain: \u001b[0mWARNING ⚠️ /home/zilian/projects/bachelorproef/experiment/data/training_datasets/same_background/train/11/006872_11.png: ignoring corrupt image/label: image size (8, 31) <10 pixels\n",
      "\u001b[34m\u001b[1mtrain: \u001b[0mWARNING ⚠️ /home/zilian/projects/bachelorproef/experiment/data/training_datasets/same_background/train/11/006880_11.png: ignoring corrupt image/label: image size (9, 30) <10 pixels\n",
      "\u001b[34m\u001b[1mtrain: \u001b[0mWARNING ⚠️ /home/zilian/projects/bachelorproef/experiment/data/training_datasets/same_background/train/11/006919_11.png: ignoring corrupt image/label: image size (9, 29) <10 pixels\n",
      "\u001b[34m\u001b[1mtrain: \u001b[0mWARNING ⚠️ /home/zilian/projects/bachelorproef/experiment/data/training_datasets/same_background/train/11/006925_11.png: ignoring corrupt image/label: image size (8, 32) <10 pixels\n",
      "\u001b[34m\u001b[1mtrain: \u001b[0mWARNING ⚠️ /home/zilian/projects/bachelorproef/experiment/data/training_datasets/same_background/train/11/006950_11.png: ignoring corrupt image/label: image size (9, 29) <10 pixels\n",
      "\u001b[34m\u001b[1mtrain: \u001b[0mWARNING ⚠️ /home/zilian/projects/bachelorproef/experiment/data/training_datasets/same_background/train/11/006968_11.png: ignoring corrupt image/label: image size (9, 30) <10 pixels\n",
      "\u001b[34m\u001b[1mtrain: \u001b[0mWARNING ⚠️ /home/zilian/projects/bachelorproef/experiment/data/training_datasets/same_background/train/11/006986_11.png: ignoring corrupt image/label: image size (11, 5) <10 pixels\n",
      "\u001b[34m\u001b[1mtrain: \u001b[0mWARNING ⚠️ /home/zilian/projects/bachelorproef/experiment/data/training_datasets/same_background/train/11/007026_11.png: ignoring corrupt image/label: image size (8, 29) <10 pixels\n",
      "\u001b[34m\u001b[1mtrain: \u001b[0mWARNING ⚠️ /home/zilian/projects/bachelorproef/experiment/data/training_datasets/same_background/train/11/007057_11.png: ignoring corrupt image/label: image size (7, 29) <10 pixels\n",
      "\u001b[34m\u001b[1mtrain: \u001b[0mWARNING ⚠️ /home/zilian/projects/bachelorproef/experiment/data/training_datasets/same_background/train/11/007058_11.png: ignoring corrupt image/label: image size (8, 30) <10 pixels\n",
      "\u001b[34m\u001b[1mtrain: \u001b[0mWARNING ⚠️ /home/zilian/projects/bachelorproef/experiment/data/training_datasets/same_background/train/14/008447_14.png: ignoring corrupt image/label: image size (28, 7) <10 pixels\n",
      "\u001b[34m\u001b[1mtrain: \u001b[0mWARNING ⚠️ /home/zilian/projects/bachelorproef/experiment/data/training_datasets/same_background/train/14/008482_14.png: ignoring corrupt image/label: image size (33, 9) <10 pixels\n",
      "\u001b[34m\u001b[1mtrain: \u001b[0mWARNING ⚠️ /home/zilian/projects/bachelorproef/experiment/data/training_datasets/same_background/train/14/008554_14.png: ignoring corrupt image/label: image size (27, 9) <10 pixels\n",
      "\u001b[34m\u001b[1mtrain: \u001b[0mWARNING ⚠️ /home/zilian/projects/bachelorproef/experiment/data/training_datasets/same_background/train/14/008616_14.png: ignoring corrupt image/label: image size (28, 9) <10 pixels\n",
      "\u001b[34m\u001b[1mtrain: \u001b[0mWARNING ⚠️ /home/zilian/projects/bachelorproef/experiment/data/training_datasets/same_background/train/14/008637_14.png: ignoring corrupt image/label: image size (39, 9) <10 pixels\n",
      "\u001b[34m\u001b[1mtrain: \u001b[0mWARNING ⚠️ /home/zilian/projects/bachelorproef/experiment/data/training_datasets/same_background/train/14/008685_14.png: ignoring corrupt image/label: image size (20, 8) <10 pixels\n",
      "\u001b[34m\u001b[1mtrain: \u001b[0mWARNING ⚠️ /home/zilian/projects/bachelorproef/experiment/data/training_datasets/same_background/train/14/008687_14.png: ignoring corrupt image/label: image size (28, 9) <10 pixels\n",
      "\u001b[34m\u001b[1mtrain: \u001b[0mWARNING ⚠️ /home/zilian/projects/bachelorproef/experiment/data/training_datasets/same_background/train/14/008696_14.png: ignoring corrupt image/label: image size (33, 9) <10 pixels\n",
      "\u001b[34m\u001b[1mtrain: \u001b[0mWARNING ⚠️ /home/zilian/projects/bachelorproef/experiment/data/training_datasets/same_background/train/14/008715_14.png: ignoring corrupt image/label: image size (26, 8) <10 pixels\n",
      "\u001b[34m\u001b[1mtrain: \u001b[0mWARNING ⚠️ /home/zilian/projects/bachelorproef/experiment/data/training_datasets/same_background/train/14/008781_14.png: ignoring corrupt image/label: image size (38, 9) <10 pixels\n",
      "\u001b[34m\u001b[1mtrain: \u001b[0mWARNING ⚠️ /home/zilian/projects/bachelorproef/experiment/data/training_datasets/same_background/train/14/008819_14.png: ignoring corrupt image/label: image size (34, 9) <10 pixels\n",
      "\u001b[34m\u001b[1mtrain: \u001b[0mWARNING ⚠️ /home/zilian/projects/bachelorproef/experiment/data/training_datasets/same_background/train/14/008822_14.png: ignoring corrupt image/label: image size (23, 8) <10 pixels\n",
      "\u001b[34m\u001b[1mtrain: \u001b[0mWARNING ⚠️ /home/zilian/projects/bachelorproef/experiment/data/training_datasets/same_background/train/14/008828_14.png: ignoring corrupt image/label: image size (32, 9) <10 pixels\n",
      "\u001b[34m\u001b[1mtrain: \u001b[0mWARNING ⚠️ /home/zilian/projects/bachelorproef/experiment/data/training_datasets/same_background/train/14/008892_14.png: ignoring corrupt image/label: image size (30, 7) <10 pixels\n",
      "\u001b[34m\u001b[1mtrain: \u001b[0mWARNING ⚠️ /home/zilian/projects/bachelorproef/experiment/data/training_datasets/same_background/train/14/008944_14.png: ignoring corrupt image/label: image size (24, 8) <10 pixels\n",
      "\u001b[34m\u001b[1mtrain: \u001b[0mWARNING ⚠️ /home/zilian/projects/bachelorproef/experiment/data/training_datasets/same_background/train/14/008965_14.png: ignoring corrupt image/label: image size (27, 8) <10 pixels\n",
      "\u001b[34m\u001b[1mtrain: \u001b[0mWARNING ⚠️ /home/zilian/projects/bachelorproef/experiment/data/training_datasets/same_background/train/14/008989_14.png: ignoring corrupt image/label: image size (20, 7) <10 pixels\n",
      "\u001b[34m\u001b[1mtrain: \u001b[0mWARNING ⚠️ /home/zilian/projects/bachelorproef/experiment/data/training_datasets/same_background/train/14/008998_14.png: ignoring corrupt image/label: image size (33, 8) <10 pixels\n",
      "\u001b[34m\u001b[1mtrain: \u001b[0mWARNING ⚠️ /home/zilian/projects/bachelorproef/experiment/data/training_datasets/same_background/train/15/009176_15.png: ignoring corrupt image/label: image size (9, 22) <10 pixels\n",
      "\u001b[34m\u001b[1mtrain: \u001b[0mWARNING ⚠️ /home/zilian/projects/bachelorproef/experiment/data/training_datasets/same_background/train/15/009228_15.png: ignoring corrupt image/label: image size (9, 22) <10 pixels\n",
      "\u001b[34m\u001b[1mtrain: \u001b[0mWARNING ⚠️ /home/zilian/projects/bachelorproef/experiment/data/training_datasets/same_background/train/2/000650_2.png: ignoring corrupt image/label: image size (9, 23) <10 pixels\n",
      "\u001b[34m\u001b[1mtrain: \u001b[0mWARNING ⚠️ /home/zilian/projects/bachelorproef/experiment/data/training_datasets/same_background/train/2/000654_2.png: ignoring corrupt image/label: image size (8, 22) <10 pixels\n",
      "\u001b[34m\u001b[1mtrain: \u001b[0mWARNING ⚠️ /home/zilian/projects/bachelorproef/experiment/data/training_datasets/same_background/train/2/000657_2.png: ignoring corrupt image/label: image size (9, 50) <10 pixels\n",
      "\u001b[34m\u001b[1mtrain: \u001b[0mWARNING ⚠️ /home/zilian/projects/bachelorproef/experiment/data/training_datasets/same_background/train/2/000664_2.png: ignoring corrupt image/label: image size (7, 21) <10 pixels\n",
      "\u001b[34m\u001b[1mtrain: \u001b[0mWARNING ⚠️ /home/zilian/projects/bachelorproef/experiment/data/training_datasets/same_background/train/2/000668_2.png: ignoring corrupt image/label: image size (8, 28) <10 pixels\n",
      "\u001b[34m\u001b[1mtrain: \u001b[0mWARNING ⚠️ /home/zilian/projects/bachelorproef/experiment/data/training_datasets/same_background/train/2/000677_2.png: ignoring corrupt image/label: image size (9, 28) <10 pixels\n",
      "\u001b[34m\u001b[1mtrain: \u001b[0mWARNING ⚠️ /home/zilian/projects/bachelorproef/experiment/data/training_datasets/same_background/train/2/000680_2.png: ignoring corrupt image/label: image size (8, 26) <10 pixels\n",
      "\u001b[34m\u001b[1mtrain: \u001b[0mWARNING ⚠️ /home/zilian/projects/bachelorproef/experiment/data/training_datasets/same_background/train/2/000701_2.png: ignoring corrupt image/label: image size (6, 31) <10 pixels\n",
      "\u001b[34m\u001b[1mtrain: \u001b[0mWARNING ⚠️ /home/zilian/projects/bachelorproef/experiment/data/training_datasets/same_background/train/2/000703_2.png: ignoring corrupt image/label: image size (7, 17) <10 pixels\n",
      "\u001b[34m\u001b[1mtrain: \u001b[0mWARNING ⚠️ /home/zilian/projects/bachelorproef/experiment/data/training_datasets/same_background/train/2/000706_2.png: ignoring corrupt image/label: image size (8, 33) <10 pixels\n",
      "\u001b[34m\u001b[1mtrain: \u001b[0mWARNING ⚠️ /home/zilian/projects/bachelorproef/experiment/data/training_datasets/same_background/train/2/000707_2.png: ignoring corrupt image/label: image size (8, 22) <10 pixels\n",
      "\u001b[34m\u001b[1mtrain: \u001b[0mWARNING ⚠️ /home/zilian/projects/bachelorproef/experiment/data/training_datasets/same_background/train/2/000712_2.png: ignoring corrupt image/label: image size (9, 31) <10 pixels\n",
      "\u001b[34m\u001b[1mtrain: \u001b[0mWARNING ⚠️ /home/zilian/projects/bachelorproef/experiment/data/training_datasets/same_background/train/2/000723_2.png: ignoring corrupt image/label: image size (9, 25) <10 pixels\n",
      "\u001b[34m\u001b[1mtrain: \u001b[0mWARNING ⚠️ /home/zilian/projects/bachelorproef/experiment/data/training_datasets/same_background/train/2/000731_2.png: ignoring corrupt image/label: image size (8, 30) <10 pixels\n",
      "\u001b[34m\u001b[1mtrain: \u001b[0mWARNING ⚠️ /home/zilian/projects/bachelorproef/experiment/data/training_datasets/same_background/train/2/000733_2.png: ignoring corrupt image/label: image size (7, 52) <10 pixels\n",
      "\u001b[34m\u001b[1mtrain: \u001b[0mWARNING ⚠️ /home/zilian/projects/bachelorproef/experiment/data/training_datasets/same_background/train/2/000741_2.png: ignoring corrupt image/label: image size (7, 22) <10 pixels\n",
      "\u001b[34m\u001b[1mtrain: \u001b[0mWARNING ⚠️ /home/zilian/projects/bachelorproef/experiment/data/training_datasets/same_background/train/2/000748_2.png: ignoring corrupt image/label: image size (7, 19) <10 pixels\n",
      "\u001b[34m\u001b[1mtrain: \u001b[0mWARNING ⚠️ /home/zilian/projects/bachelorproef/experiment/data/training_datasets/same_background/train/2/000749_2.png: ignoring corrupt image/label: image size (8, 23) <10 pixels\n",
      "\u001b[34m\u001b[1mtrain: \u001b[0mWARNING ⚠️ /home/zilian/projects/bachelorproef/experiment/data/training_datasets/same_background/train/2/000750_2.png: ignoring corrupt image/label: image size (9, 26) <10 pixels\n",
      "\u001b[34m\u001b[1mtrain: \u001b[0mWARNING ⚠️ /home/zilian/projects/bachelorproef/experiment/data/training_datasets/same_background/train/2/000755_2.png: ignoring corrupt image/label: image size (7, 15) <10 pixels\n",
      "\u001b[34m\u001b[1mtrain: \u001b[0mWARNING ⚠️ /home/zilian/projects/bachelorproef/experiment/data/training_datasets/same_background/train/2/000761_2.png: ignoring corrupt image/label: image size (9, 27) <10 pixels\n",
      "\u001b[34m\u001b[1mtrain: \u001b[0mWARNING ⚠️ /home/zilian/projects/bachelorproef/experiment/data/training_datasets/same_background/train/2/000762_2.png: ignoring corrupt image/label: image size (9, 24) <10 pixels\n",
      "\u001b[34m\u001b[1mtrain: \u001b[0mWARNING ⚠️ /home/zilian/projects/bachelorproef/experiment/data/training_datasets/same_background/train/2/000766_2.png: ignoring corrupt image/label: image size (8, 23) <10 pixels\n",
      "\u001b[34m\u001b[1mtrain: \u001b[0mWARNING ⚠️ /home/zilian/projects/bachelorproef/experiment/data/training_datasets/same_background/train/2/000768_2.png: ignoring corrupt image/label: image size (9, 27) <10 pixels\n",
      "\u001b[34m\u001b[1mtrain: \u001b[0mWARNING ⚠️ /home/zilian/projects/bachelorproef/experiment/data/training_datasets/same_background/train/2/000769_2.png: ignoring corrupt image/label: image size (8, 23) <10 pixels\n",
      "\u001b[34m\u001b[1mtrain: \u001b[0mWARNING ⚠️ /home/zilian/projects/bachelorproef/experiment/data/training_datasets/same_background/train/2/000770_2.png: ignoring corrupt image/label: image size (9, 17) <10 pixels\n",
      "\u001b[34m\u001b[1mtrain: \u001b[0mWARNING ⚠️ /home/zilian/projects/bachelorproef/experiment/data/training_datasets/same_background/train/2/000773_2.png: ignoring corrupt image/label: image size (8, 32) <10 pixels\n",
      "\u001b[34m\u001b[1mtrain: \u001b[0mWARNING ⚠️ /home/zilian/projects/bachelorproef/experiment/data/training_datasets/same_background/train/2/000783_2.png: ignoring corrupt image/label: image size (6, 18) <10 pixels\n",
      "\u001b[34m\u001b[1mtrain: \u001b[0mWARNING ⚠️ /home/zilian/projects/bachelorproef/experiment/data/training_datasets/same_background/train/2/000787_2.png: ignoring corrupt image/label: image size (9, 32) <10 pixels\n",
      "\u001b[34m\u001b[1mtrain: \u001b[0mWARNING ⚠️ /home/zilian/projects/bachelorproef/experiment/data/training_datasets/same_background/train/2/000801_2.png: ignoring corrupt image/label: image size (8, 18) <10 pixels\n",
      "\u001b[34m\u001b[1mtrain: \u001b[0mWARNING ⚠️ /home/zilian/projects/bachelorproef/experiment/data/training_datasets/same_background/train/2/000805_2.png: ignoring corrupt image/label: image size (8, 24) <10 pixels\n",
      "\u001b[34m\u001b[1mtrain: \u001b[0mWARNING ⚠️ /home/zilian/projects/bachelorproef/experiment/data/training_datasets/same_background/train/2/000806_2.png: ignoring corrupt image/label: image size (9, 31) <10 pixels\n",
      "\u001b[34m\u001b[1mtrain: \u001b[0mWARNING ⚠️ /home/zilian/projects/bachelorproef/experiment/data/training_datasets/same_background/train/2/000811_2.png: ignoring corrupt image/label: image size (8, 21) <10 pixels\n",
      "\u001b[34m\u001b[1mtrain: \u001b[0mWARNING ⚠️ /home/zilian/projects/bachelorproef/experiment/data/training_datasets/same_background/train/2/000828_2.png: ignoring corrupt image/label: image size (8, 19) <10 pixels\n",
      "\u001b[34m\u001b[1mtrain: \u001b[0mWARNING ⚠️ /home/zilian/projects/bachelorproef/experiment/data/training_datasets/same_background/train/2/000846_2.png: ignoring corrupt image/label: image size (6, 18) <10 pixels\n",
      "\u001b[34m\u001b[1mtrain: \u001b[0mWARNING ⚠️ /home/zilian/projects/bachelorproef/experiment/data/training_datasets/same_background/train/2/000847_2.png: ignoring corrupt image/label: image size (8, 23) <10 pixels\n",
      "\u001b[34m\u001b[1mtrain: \u001b[0mWARNING ⚠️ /home/zilian/projects/bachelorproef/experiment/data/training_datasets/same_background/train/2/000848_2.png: ignoring corrupt image/label: image size (9, 27) <10 pixels\n",
      "\u001b[34m\u001b[1mtrain: \u001b[0mWARNING ⚠️ /home/zilian/projects/bachelorproef/experiment/data/training_datasets/same_background/train/2/000850_2.png: ignoring corrupt image/label: image size (9, 33) <10 pixels\n",
      "\u001b[34m\u001b[1mtrain: \u001b[0mWARNING ⚠️ /home/zilian/projects/bachelorproef/experiment/data/training_datasets/same_background/train/2/000863_2.png: ignoring corrupt image/label: image size (9, 31) <10 pixels\n",
      "\u001b[34m\u001b[1mtrain: \u001b[0mWARNING ⚠️ /home/zilian/projects/bachelorproef/experiment/data/training_datasets/same_background/train/2/000896_2.png: ignoring corrupt image/label: image size (7, 20) <10 pixels\n",
      "\u001b[34m\u001b[1mtrain: \u001b[0mWARNING ⚠️ /home/zilian/projects/bachelorproef/experiment/data/training_datasets/same_background/train/2/000897_2.png: ignoring corrupt image/label: image size (9, 28) <10 pixels\n",
      "\u001b[34m\u001b[1mtrain: \u001b[0mWARNING ⚠️ /home/zilian/projects/bachelorproef/experiment/data/training_datasets/same_background/train/2/000900_2.png: ignoring corrupt image/label: image size (6, 10) <10 pixels\n",
      "\u001b[34m\u001b[1mtrain: \u001b[0mWARNING ⚠️ /home/zilian/projects/bachelorproef/experiment/data/training_datasets/same_background/train/2/000904_2.png: ignoring corrupt image/label: image size (8, 21) <10 pixels\n",
      "\u001b[34m\u001b[1mtrain: \u001b[0mWARNING ⚠️ /home/zilian/projects/bachelorproef/experiment/data/training_datasets/same_background/train/2/000908_2.png: ignoring corrupt image/label: image size (8, 21) <10 pixels\n",
      "\u001b[34m\u001b[1mtrain: \u001b[0mWARNING ⚠️ /home/zilian/projects/bachelorproef/experiment/data/training_datasets/same_background/train/2/000914_2.png: ignoring corrupt image/label: image size (7, 22) <10 pixels\n",
      "\u001b[34m\u001b[1mtrain: \u001b[0mWARNING ⚠️ /home/zilian/projects/bachelorproef/experiment/data/training_datasets/same_background/train/2/000919_2.png: ignoring corrupt image/label: image size (8, 24) <10 pixels\n",
      "\u001b[34m\u001b[1mtrain: \u001b[0mWARNING ⚠️ /home/zilian/projects/bachelorproef/experiment/data/training_datasets/same_background/train/2/000923_2.png: ignoring corrupt image/label: image size (9, 33) <10 pixels\n",
      "\u001b[34m\u001b[1mtrain: \u001b[0mWARNING ⚠️ /home/zilian/projects/bachelorproef/experiment/data/training_datasets/same_background/train/2/000940_2.png: ignoring corrupt image/label: image size (7, 23) <10 pixels\n",
      "\u001b[34m\u001b[1mtrain: \u001b[0mWARNING ⚠️ /home/zilian/projects/bachelorproef/experiment/data/training_datasets/same_background/train/2/000952_2.png: ignoring corrupt image/label: image size (7, 22) <10 pixels\n",
      "\u001b[34m\u001b[1mtrain: \u001b[0mWARNING ⚠️ /home/zilian/projects/bachelorproef/experiment/data/training_datasets/same_background/train/2/000957_2.png: ignoring corrupt image/label: image size (6, 13) <10 pixels\n",
      "\u001b[34m\u001b[1mtrain: \u001b[0mWARNING ⚠️ /home/zilian/projects/bachelorproef/experiment/data/training_datasets/same_background/train/2/000966_2.png: ignoring corrupt image/label: image size (8, 17) <10 pixels\n",
      "\u001b[34m\u001b[1mtrain: \u001b[0mWARNING ⚠️ /home/zilian/projects/bachelorproef/experiment/data/training_datasets/same_background/train/2/000969_2.png: ignoring corrupt image/label: image size (9, 34) <10 pixels\n",
      "\u001b[34m\u001b[1mtrain: \u001b[0mWARNING ⚠️ /home/zilian/projects/bachelorproef/experiment/data/training_datasets/same_background/train/2/000977_2.png: ignoring corrupt image/label: image size (8, 19) <10 pixels\n",
      "\u001b[34m\u001b[1mtrain: \u001b[0mWARNING ⚠️ /home/zilian/projects/bachelorproef/experiment/data/training_datasets/same_background/train/2/000999_2.png: ignoring corrupt image/label: image size (9, 20) <10 pixels\n",
      "\u001b[34m\u001b[1mtrain: \u001b[0mWARNING ⚠️ /home/zilian/projects/bachelorproef/experiment/data/training_datasets/same_background/train/2/001004_2.png: ignoring corrupt image/label: image size (8, 32) <10 pixels\n",
      "\u001b[34m\u001b[1mtrain: \u001b[0mWARNING ⚠️ /home/zilian/projects/bachelorproef/experiment/data/training_datasets/same_background/train/2/001005_2.png: ignoring corrupt image/label: image size (9, 25) <10 pixels\n",
      "\u001b[34m\u001b[1mtrain: \u001b[0mWARNING ⚠️ /home/zilian/projects/bachelorproef/experiment/data/training_datasets/same_background/train/2/001006_2.png: ignoring corrupt image/label: image size (8, 17) <10 pixels\n",
      "\u001b[34m\u001b[1mtrain: \u001b[0mWARNING ⚠️ /home/zilian/projects/bachelorproef/experiment/data/training_datasets/same_background/train/2/001013_2.png: ignoring corrupt image/label: image size (9, 31) <10 pixels\n",
      "\u001b[34m\u001b[1mtrain: \u001b[0mWARNING ⚠️ /home/zilian/projects/bachelorproef/experiment/data/training_datasets/same_background/train/2/001019_2.png: ignoring corrupt image/label: image size (9, 26) <10 pixels\n",
      "\u001b[34m\u001b[1mtrain: \u001b[0mWARNING ⚠️ /home/zilian/projects/bachelorproef/experiment/data/training_datasets/same_background/train/2/001027_2.png: ignoring corrupt image/label: image size (9, 19) <10 pixels\n",
      "\u001b[34m\u001b[1mtrain: \u001b[0mWARNING ⚠️ /home/zilian/projects/bachelorproef/experiment/data/training_datasets/same_background/train/2/001035_2.png: ignoring corrupt image/label: image size (9, 27) <10 pixels\n",
      "\u001b[34m\u001b[1mtrain: \u001b[0mWARNING ⚠️ /home/zilian/projects/bachelorproef/experiment/data/training_datasets/same_background/train/2/001038_2.png: ignoring corrupt image/label: image size (9, 26) <10 pixels\n",
      "\u001b[34m\u001b[1mtrain: \u001b[0mWARNING ⚠️ /home/zilian/projects/bachelorproef/experiment/data/training_datasets/same_background/train/2/001040_2.png: ignoring corrupt image/label: image size (6, 16) <10 pixels\n",
      "\u001b[34m\u001b[1mtrain: \u001b[0mWARNING ⚠️ /home/zilian/projects/bachelorproef/experiment/data/training_datasets/same_background/train/2/001043_2.png: ignoring corrupt image/label: image size (9, 34) <10 pixels\n",
      "\u001b[34m\u001b[1mtrain: \u001b[0mWARNING ⚠️ /home/zilian/projects/bachelorproef/experiment/data/training_datasets/same_background/train/2/001047_2.png: ignoring corrupt image/label: image size (9, 22) <10 pixels\n",
      "\u001b[34m\u001b[1mtrain: \u001b[0mWARNING ⚠️ /home/zilian/projects/bachelorproef/experiment/data/training_datasets/same_background/train/2/001059_2.png: ignoring corrupt image/label: image size (9, 25) <10 pixels\n",
      "\u001b[34m\u001b[1mtrain: \u001b[0mWARNING ⚠️ /home/zilian/projects/bachelorproef/experiment/data/training_datasets/same_background/train/2/001065_2.png: ignoring corrupt image/label: image size (9, 22) <10 pixels\n",
      "\u001b[34m\u001b[1mtrain: \u001b[0mWARNING ⚠️ /home/zilian/projects/bachelorproef/experiment/data/training_datasets/same_background/train/2/001069_2.png: ignoring corrupt image/label: image size (8, 22) <10 pixels\n",
      "\u001b[34m\u001b[1mtrain: \u001b[0mWARNING ⚠️ /home/zilian/projects/bachelorproef/experiment/data/training_datasets/same_background/train/2/001078_2.png: ignoring corrupt image/label: image size (8, 24) <10 pixels\n",
      "\u001b[34m\u001b[1mtrain: \u001b[0mWARNING ⚠️ /home/zilian/projects/bachelorproef/experiment/data/training_datasets/same_background/train/2/001089_2.png: ignoring corrupt image/label: image size (9, 34) <10 pixels\n",
      "\u001b[34m\u001b[1mtrain: \u001b[0mWARNING ⚠️ /home/zilian/projects/bachelorproef/experiment/data/training_datasets/same_background/train/2/001093_2.png: ignoring corrupt image/label: image size (7, 21) <10 pixels\n",
      "\u001b[34m\u001b[1mtrain: \u001b[0mWARNING ⚠️ /home/zilian/projects/bachelorproef/experiment/data/training_datasets/same_background/train/2/001094_2.png: ignoring corrupt image/label: image size (9, 19) <10 pixels\n",
      "\u001b[34m\u001b[1mtrain: \u001b[0mWARNING ⚠️ /home/zilian/projects/bachelorproef/experiment/data/training_datasets/same_background/train/2/001112_2.png: ignoring corrupt image/label: image size (6, 15) <10 pixels\n",
      "\u001b[34m\u001b[1mtrain: \u001b[0mWARNING ⚠️ /home/zilian/projects/bachelorproef/experiment/data/training_datasets/same_background/train/2/001113_2.png: ignoring corrupt image/label: image size (9, 17) <10 pixels\n",
      "\u001b[34m\u001b[1mtrain: \u001b[0mWARNING ⚠️ /home/zilian/projects/bachelorproef/experiment/data/training_datasets/same_background/train/2/001115_2.png: ignoring corrupt image/label: image size (9, 31) <10 pixels\n",
      "\u001b[34m\u001b[1mtrain: \u001b[0mWARNING ⚠️ /home/zilian/projects/bachelorproef/experiment/data/training_datasets/same_background/train/2/001118_2.png: ignoring corrupt image/label: image size (7, 27) <10 pixels\n",
      "\u001b[34m\u001b[1mtrain: \u001b[0mWARNING ⚠️ /home/zilian/projects/bachelorproef/experiment/data/training_datasets/same_background/train/2/001121_2.png: ignoring corrupt image/label: image size (9, 29) <10 pixels\n",
      "\u001b[34m\u001b[1mtrain: \u001b[0mWARNING ⚠️ /home/zilian/projects/bachelorproef/experiment/data/training_datasets/same_background/train/2/001133_2.png: ignoring corrupt image/label: image size (9, 27) <10 pixels\n",
      "\u001b[34m\u001b[1mtrain: \u001b[0mWARNING ⚠️ /home/zilian/projects/bachelorproef/experiment/data/training_datasets/same_background/train/2/001139_2.png: ignoring corrupt image/label: image size (6, 17) <10 pixels\n",
      "\u001b[34m\u001b[1mtrain: \u001b[0mWARNING ⚠️ /home/zilian/projects/bachelorproef/experiment/data/training_datasets/same_background/train/2/001146_2.png: ignoring corrupt image/label: image size (9, 24) <10 pixels\n",
      "\u001b[34m\u001b[1mtrain: \u001b[0mWARNING ⚠️ /home/zilian/projects/bachelorproef/experiment/data/training_datasets/same_background/train/2/001148_2.png: ignoring corrupt image/label: image size (7, 25) <10 pixels\n",
      "\u001b[34m\u001b[1mtrain: \u001b[0mWARNING ⚠️ /home/zilian/projects/bachelorproef/experiment/data/training_datasets/same_background/train/2/001150_2.png: ignoring corrupt image/label: image size (9, 27) <10 pixels\n",
      "\u001b[34m\u001b[1mtrain: \u001b[0mWARNING ⚠️ /home/zilian/projects/bachelorproef/experiment/data/training_datasets/same_background/train/2/001154_2.png: ignoring corrupt image/label: image size (9, 21) <10 pixels\n",
      "\u001b[34m\u001b[1mtrain: \u001b[0mWARNING ⚠️ /home/zilian/projects/bachelorproef/experiment/data/training_datasets/same_background/train/2/001161_2.png: ignoring corrupt image/label: image size (9, 30) <10 pixels\n",
      "\u001b[34m\u001b[1mtrain: \u001b[0mWARNING ⚠️ /home/zilian/projects/bachelorproef/experiment/data/training_datasets/same_background/train/2/001177_2.png: ignoring corrupt image/label: image size (8, 16) <10 pixels\n",
      "\u001b[34m\u001b[1mtrain: \u001b[0mWARNING ⚠️ /home/zilian/projects/bachelorproef/experiment/data/training_datasets/same_background/train/2/001178_2.png: ignoring corrupt image/label: image size (7, 29) <10 pixels\n",
      "\u001b[34m\u001b[1mtrain: \u001b[0mWARNING ⚠️ /home/zilian/projects/bachelorproef/experiment/data/training_datasets/same_background/train/2/001182_2.png: ignoring corrupt image/label: image size (6, 22) <10 pixels\n",
      "\u001b[34m\u001b[1mtrain: \u001b[0mWARNING ⚠️ /home/zilian/projects/bachelorproef/experiment/data/training_datasets/same_background/train/2/001183_2.png: ignoring corrupt image/label: image size (8, 26) <10 pixels\n",
      "\u001b[34m\u001b[1mtrain: \u001b[0mWARNING ⚠️ /home/zilian/projects/bachelorproef/experiment/data/training_datasets/same_background/train/2/001191_2.png: ignoring corrupt image/label: image size (9, 24) <10 pixels\n",
      "\u001b[34m\u001b[1mtrain: \u001b[0mWARNING ⚠️ /home/zilian/projects/bachelorproef/experiment/data/training_datasets/same_background/train/2/001196_2.png: ignoring corrupt image/label: image size (7, 20) <10 pixels\n",
      "\u001b[34m\u001b[1mtrain: \u001b[0mWARNING ⚠️ /home/zilian/projects/bachelorproef/experiment/data/training_datasets/same_background/train/2/001211_2.png: ignoring corrupt image/label: image size (8, 18) <10 pixels\n",
      "\u001b[34m\u001b[1mtrain: \u001b[0mWARNING ⚠️ /home/zilian/projects/bachelorproef/experiment/data/training_datasets/same_background/train/2/001226_2.png: ignoring corrupt image/label: image size (9, 20) <10 pixels\n",
      "\u001b[34m\u001b[1mtrain: \u001b[0mWARNING ⚠️ /home/zilian/projects/bachelorproef/experiment/data/training_datasets/same_background/train/3/001306_3.png: ignoring corrupt image/label: image size (9, 90) <10 pixels\n",
      "\u001b[34m\u001b[1mtrain: \u001b[0mWARNING ⚠️ /home/zilian/projects/bachelorproef/experiment/data/training_datasets/same_background/train/3/001354_3.png: ignoring corrupt image/label: image size (8, 91) <10 pixels\n",
      "\u001b[34m\u001b[1mtrain: \u001b[0mWARNING ⚠️ /home/zilian/projects/bachelorproef/experiment/data/training_datasets/same_background/train/3/001497_3.png: ignoring corrupt image/label: image size (9, 104) <10 pixels\n",
      "\u001b[34m\u001b[1mtrain: \u001b[0mWARNING ⚠️ /home/zilian/projects/bachelorproef/experiment/data/training_datasets/same_background/train/3/001635_3.png: ignoring corrupt image/label: image size (9, 108) <10 pixels\n",
      "\u001b[34m\u001b[1mtrain: \u001b[0mWARNING ⚠️ /home/zilian/projects/bachelorproef/experiment/data/training_datasets/same_background/train/3/001793_3.png: ignoring corrupt image/label: image size (9, 71) <10 pixels\n",
      "\u001b[34m\u001b[1mtrain: \u001b[0mWARNING ⚠️ /home/zilian/projects/bachelorproef/experiment/data/training_datasets/same_background/train/3/001816_3.png: ignoring corrupt image/label: image size (9, 109) <10 pixels\n",
      "\u001b[34m\u001b[1mtrain: \u001b[0mWARNING ⚠️ /home/zilian/projects/bachelorproef/experiment/data/training_datasets/same_background/train/7/003893_7.png: ignoring corrupt image/label: image size (9, 13) <10 pixels\n",
      "\u001b[34m\u001b[1mtrain: \u001b[0mWARNING ⚠️ /home/zilian/projects/bachelorproef/experiment/data/training_datasets/same_background/train/7/003895_7.png: ignoring corrupt image/label: image size (8, 16) <10 pixels\n",
      "\u001b[34m\u001b[1mtrain: \u001b[0mWARNING ⚠️ /home/zilian/projects/bachelorproef/experiment/data/training_datasets/same_background/train/7/003912_7.png: ignoring corrupt image/label: image size (9, 26) <10 pixels\n",
      "\u001b[34m\u001b[1mtrain: \u001b[0mWARNING ⚠️ /home/zilian/projects/bachelorproef/experiment/data/training_datasets/same_background/train/7/003915_7.png: ignoring corrupt image/label: image size (9, 28) <10 pixels\n",
      "\u001b[34m\u001b[1mtrain: \u001b[0mWARNING ⚠️ /home/zilian/projects/bachelorproef/experiment/data/training_datasets/same_background/train/7/003917_7.png: ignoring corrupt image/label: image size (6, 11) <10 pixels\n",
      "\u001b[34m\u001b[1mtrain: \u001b[0mWARNING ⚠️ /home/zilian/projects/bachelorproef/experiment/data/training_datasets/same_background/train/7/003918_7.png: ignoring corrupt image/label: image size (8, 12) <10 pixels\n",
      "\u001b[34m\u001b[1mtrain: \u001b[0mWARNING ⚠️ /home/zilian/projects/bachelorproef/experiment/data/training_datasets/same_background/train/7/003930_7.png: ignoring corrupt image/label: image size (7, 14) <10 pixels\n",
      "\u001b[34m\u001b[1mtrain: \u001b[0mWARNING ⚠️ /home/zilian/projects/bachelorproef/experiment/data/training_datasets/same_background/train/7/003934_7.png: ignoring corrupt image/label: image size (8, 13) <10 pixels\n",
      "\u001b[34m\u001b[1mtrain: \u001b[0mWARNING ⚠️ /home/zilian/projects/bachelorproef/experiment/data/training_datasets/same_background/train/7/003935_7.png: ignoring corrupt image/label: image size (9, 19) <10 pixels\n",
      "\u001b[34m\u001b[1mtrain: \u001b[0mWARNING ⚠️ /home/zilian/projects/bachelorproef/experiment/data/training_datasets/same_background/train/7/003938_7.png: ignoring corrupt image/label: image size (7, 11) <10 pixels\n",
      "\u001b[34m\u001b[1mtrain: \u001b[0mWARNING ⚠️ /home/zilian/projects/bachelorproef/experiment/data/training_datasets/same_background/train/7/003970_7.png: ignoring corrupt image/label: image size (7, 10) <10 pixels\n",
      "\u001b[34m\u001b[1mtrain: \u001b[0mWARNING ⚠️ /home/zilian/projects/bachelorproef/experiment/data/training_datasets/same_background/train/7/003973_7.png: ignoring corrupt image/label: image size (8, 11) <10 pixels\n",
      "\u001b[34m\u001b[1mtrain: \u001b[0mWARNING ⚠️ /home/zilian/projects/bachelorproef/experiment/data/training_datasets/same_background/train/7/003977_7.png: ignoring corrupt image/label: image size (9, 13) <10 pixels\n",
      "\u001b[34m\u001b[1mtrain: \u001b[0mWARNING ⚠️ /home/zilian/projects/bachelorproef/experiment/data/training_datasets/same_background/train/7/003981_7.png: ignoring corrupt image/label: image size (8, 12) <10 pixels\n",
      "\u001b[34m\u001b[1mtrain: \u001b[0mWARNING ⚠️ /home/zilian/projects/bachelorproef/experiment/data/training_datasets/same_background/train/7/003985_7.png: ignoring corrupt image/label: image size (8, 13) <10 pixels\n",
      "\u001b[34m\u001b[1mtrain: \u001b[0mWARNING ⚠️ /home/zilian/projects/bachelorproef/experiment/data/training_datasets/same_background/train/7/003986_7.png: ignoring corrupt image/label: image size (9, 29) <10 pixels\n",
      "\u001b[34m\u001b[1mtrain: \u001b[0mWARNING ⚠️ /home/zilian/projects/bachelorproef/experiment/data/training_datasets/same_background/train/7/004021_7.png: ignoring corrupt image/label: image size (8, 28) <10 pixels\n",
      "\u001b[34m\u001b[1mtrain: \u001b[0mWARNING ⚠️ /home/zilian/projects/bachelorproef/experiment/data/training_datasets/same_background/train/7/004023_7.png: ignoring corrupt image/label: image size (9, 14) <10 pixels\n",
      "\u001b[34m\u001b[1mtrain: \u001b[0mWARNING ⚠️ /home/zilian/projects/bachelorproef/experiment/data/training_datasets/same_background/train/7/004033_7.png: ignoring corrupt image/label: image size (9, 18) <10 pixels\n",
      "\u001b[34m\u001b[1mtrain: \u001b[0mWARNING ⚠️ /home/zilian/projects/bachelorproef/experiment/data/training_datasets/same_background/train/7/004049_7.png: ignoring corrupt image/label: image size (9, 20) <10 pixels\n",
      "\u001b[34m\u001b[1mtrain: \u001b[0mWARNING ⚠️ /home/zilian/projects/bachelorproef/experiment/data/training_datasets/same_background/train/7/004054_7.png: ignoring corrupt image/label: image size (8, 13) <10 pixels\n",
      "\u001b[34m\u001b[1mtrain: \u001b[0mWARNING ⚠️ /home/zilian/projects/bachelorproef/experiment/data/training_datasets/same_background/train/7/004069_7.png: ignoring corrupt image/label: image size (9, 27) <10 pixels\n",
      "\u001b[34m\u001b[1mtrain: \u001b[0mWARNING ⚠️ /home/zilian/projects/bachelorproef/experiment/data/training_datasets/same_background/train/7/004074_7.png: ignoring corrupt image/label: image size (9, 19) <10 pixels\n",
      "\u001b[34m\u001b[1mtrain: \u001b[0mWARNING ⚠️ /home/zilian/projects/bachelorproef/experiment/data/training_datasets/same_background/train/7/004078_7.png: ignoring corrupt image/label: image size (9, 20) <10 pixels\n",
      "\u001b[34m\u001b[1mtrain: \u001b[0mWARNING ⚠️ /home/zilian/projects/bachelorproef/experiment/data/training_datasets/same_background/train/7/004082_7.png: ignoring corrupt image/label: image size (9, 19) <10 pixels\n",
      "\u001b[34m\u001b[1mtrain: \u001b[0mWARNING ⚠️ /home/zilian/projects/bachelorproef/experiment/data/training_datasets/same_background/train/7/004097_7.png: ignoring corrupt image/label: image size (9, 15) <10 pixels\n",
      "\u001b[34m\u001b[1mtrain: \u001b[0mWARNING ⚠️ /home/zilian/projects/bachelorproef/experiment/data/training_datasets/same_background/train/7/004106_7.png: ignoring corrupt image/label: image size (5, 10) <10 pixels\n",
      "\u001b[34m\u001b[1mtrain: \u001b[0mWARNING ⚠️ /home/zilian/projects/bachelorproef/experiment/data/training_datasets/same_background/train/7/004114_7.png: ignoring corrupt image/label: image size (9, 19) <10 pixels\n",
      "\u001b[34m\u001b[1mtrain: \u001b[0mWARNING ⚠️ /home/zilian/projects/bachelorproef/experiment/data/training_datasets/same_background/train/7/004125_7.png: ignoring corrupt image/label: image size (8, 29) <10 pixels\n",
      "\u001b[34m\u001b[1mtrain: \u001b[0mWARNING ⚠️ /home/zilian/projects/bachelorproef/experiment/data/training_datasets/same_background/train/7/004130_7.png: ignoring corrupt image/label: image size (9, 13) <10 pixels\n",
      "\u001b[34m\u001b[1mtrain: \u001b[0mWARNING ⚠️ /home/zilian/projects/bachelorproef/experiment/data/training_datasets/same_background/train/7/004157_7.png: ignoring corrupt image/label: image size (7, 10) <10 pixels\n",
      "\u001b[34m\u001b[1mtrain: \u001b[0mWARNING ⚠️ /home/zilian/projects/bachelorproef/experiment/data/training_datasets/same_background/train/7/004158_7.png: ignoring corrupt image/label: image size (9, 20) <10 pixels\n",
      "\u001b[34m\u001b[1mtrain: \u001b[0mWARNING ⚠️ /home/zilian/projects/bachelorproef/experiment/data/training_datasets/same_background/train/7/004164_7.png: ignoring corrupt image/label: image size (9, 16) <10 pixels\n",
      "\u001b[34m\u001b[1mtrain: \u001b[0mWARNING ⚠️ /home/zilian/projects/bachelorproef/experiment/data/training_datasets/same_background/train/7/004174_7.png: ignoring corrupt image/label: image size (9, 29) <10 pixels\n",
      "\u001b[34m\u001b[1mtrain: \u001b[0mWARNING ⚠️ /home/zilian/projects/bachelorproef/experiment/data/training_datasets/same_background/train/7/004176_7.png: ignoring corrupt image/label: image size (7, 8) <10 pixels\n",
      "\u001b[34m\u001b[1mtrain: \u001b[0mWARNING ⚠️ /home/zilian/projects/bachelorproef/experiment/data/training_datasets/same_background/train/7/004183_7.png: ignoring corrupt image/label: image size (9, 28) <10 pixels\n",
      "\u001b[34m\u001b[1mtrain: \u001b[0mWARNING ⚠️ /home/zilian/projects/bachelorproef/experiment/data/training_datasets/same_background/train/7/004190_7.png: ignoring corrupt image/label: image size (9, 29) <10 pixels\n",
      "\u001b[34m\u001b[1mtrain: \u001b[0mWARNING ⚠️ /home/zilian/projects/bachelorproef/experiment/data/training_datasets/same_background/train/7/004207_7.png: ignoring corrupt image/label: image size (9, 29) <10 pixels\n",
      "\u001b[34m\u001b[1mtrain: \u001b[0mWARNING ⚠️ /home/zilian/projects/bachelorproef/experiment/data/training_datasets/same_background/train/7/004217_7.png: ignoring corrupt image/label: image size (7, 11) <10 pixels\n",
      "\u001b[34m\u001b[1mtrain: \u001b[0mWARNING ⚠️ /home/zilian/projects/bachelorproef/experiment/data/training_datasets/same_background/train/7/004236_7.png: ignoring corrupt image/label: image size (8, 28) <10 pixels\n",
      "\u001b[34m\u001b[1mtrain: \u001b[0mWARNING ⚠️ /home/zilian/projects/bachelorproef/experiment/data/training_datasets/same_background/train/7/004253_7.png: ignoring corrupt image/label: image size (9, 11) <10 pixels\n",
      "\u001b[34m\u001b[1mtrain: \u001b[0mWARNING ⚠️ /home/zilian/projects/bachelorproef/experiment/data/training_datasets/same_background/train/7/004282_7.png: ignoring corrupt image/label: image size (8, 10) <10 pixels\n",
      "\u001b[34m\u001b[1mtrain: \u001b[0mWARNING ⚠️ /home/zilian/projects/bachelorproef/experiment/data/training_datasets/same_background/train/7/004318_7.png: ignoring corrupt image/label: image size (8, 11) <10 pixels\n",
      "\u001b[34m\u001b[1mtrain: \u001b[0mWARNING ⚠️ /home/zilian/projects/bachelorproef/experiment/data/training_datasets/same_background/train/7/004332_7.png: ignoring corrupt image/label: image size (5, 10) <10 pixels\n",
      "\u001b[34m\u001b[1mtrain: \u001b[0mWARNING ⚠️ /home/zilian/projects/bachelorproef/experiment/data/training_datasets/same_background/train/7/004339_7.png: ignoring corrupt image/label: image size (9, 10) <10 pixels\n",
      "\u001b[34m\u001b[1mtrain: \u001b[0mWARNING ⚠️ /home/zilian/projects/bachelorproef/experiment/data/training_datasets/same_background/train/7/004345_7.png: ignoring corrupt image/label: image size (7, 11) <10 pixels\n",
      "\u001b[34m\u001b[1mtrain: \u001b[0mWARNING ⚠️ /home/zilian/projects/bachelorproef/experiment/data/training_datasets/same_background/train/7/004360_7.png: ignoring corrupt image/label: image size (6, 11) <10 pixels\n",
      "\u001b[34m\u001b[1mtrain: \u001b[0mWARNING ⚠️ /home/zilian/projects/bachelorproef/experiment/data/training_datasets/same_background/train/7/004373_7.png: ignoring corrupt image/label: image size (6, 10) <10 pixels\n",
      "\u001b[34m\u001b[1mtrain: \u001b[0mWARNING ⚠️ /home/zilian/projects/bachelorproef/experiment/data/training_datasets/same_background/train/7/004384_7.png: ignoring corrupt image/label: image size (6, 11) <10 pixels\n",
      "\u001b[34m\u001b[1mtrain: \u001b[0mWARNING ⚠️ /home/zilian/projects/bachelorproef/experiment/data/training_datasets/same_background/train/7/004389_7.png: ignoring corrupt image/label: image size (9, 28) <10 pixels\n",
      "\u001b[34m\u001b[1mtrain: \u001b[0mWARNING ⚠️ /home/zilian/projects/bachelorproef/experiment/data/training_datasets/same_background/train/7/004390_7.png: ignoring corrupt image/label: image size (7, 13) <10 pixels\n",
      "\u001b[34m\u001b[1mtrain: \u001b[0mWARNING ⚠️ /home/zilian/projects/bachelorproef/experiment/data/training_datasets/same_background/train/7/004397_7.png: ignoring corrupt image/label: image size (9, 19) <10 pixels\n",
      "\u001b[34m\u001b[1mtrain: \u001b[0mWARNING ⚠️ /home/zilian/projects/bachelorproef/experiment/data/training_datasets/same_background/train/7/004425_7.png: ignoring corrupt image/label: image size (8, 10) <10 pixels\n",
      "\u001b[34m\u001b[1mtrain: \u001b[0mWARNING ⚠️ /home/zilian/projects/bachelorproef/experiment/data/training_datasets/same_background/train/7/004457_7.png: ignoring corrupt image/label: image size (7, 21) <10 pixels\n",
      "\u001b[34m\u001b[1mtrain: \u001b[0mWARNING ⚠️ /home/zilian/projects/bachelorproef/experiment/data/training_datasets/same_background/train/7/004466_7.png: ignoring corrupt image/label: image size (9, 13) <10 pixels\n",
      "\u001b[34m\u001b[1mtrain: \u001b[0mWARNING ⚠️ /home/zilian/projects/bachelorproef/experiment/data/training_datasets/same_background/train/8/004968_8.png: ignoring corrupt image/label: image size (27, 9) <10 pixels\n"
     ]
    },
    {
     "name": "stderr",
     "output_type": "stream",
     "text": [
      "\n",
      "\u001b[34m\u001b[1mval: \u001b[0mScanning /home/zilian/projects/bachelorproef/experiment/data/training_datasets/same_background/val... 961 images, 14 corrupt: 100%|██████████| 961/961 [00:00<?, ?it/s]"
     ]
    },
    {
     "name": "stdout",
     "output_type": "stream",
     "text": [
      "\u001b[34m\u001b[1mval: \u001b[0mWARNING ⚠️ /home/zilian/projects/bachelorproef/experiment/data/training_datasets/same_background/val/11/007066_11.png: ignoring corrupt image/label: image size (9, 28) <10 pixels\n",
      "\u001b[34m\u001b[1mval: \u001b[0mWARNING ⚠️ /home/zilian/projects/bachelorproef/experiment/data/training_datasets/same_background/val/11/007069_11.png: ignoring corrupt image/label: image size (9, 30) <10 pixels\n",
      "\u001b[34m\u001b[1mval: \u001b[0mWARNING ⚠️ /home/zilian/projects/bachelorproef/experiment/data/training_datasets/same_background/val/11/007108_11.png: ignoring corrupt image/label: image size (9, 30) <10 pixels\n",
      "\u001b[34m\u001b[1mval: \u001b[0mWARNING ⚠️ /home/zilian/projects/bachelorproef/experiment/data/training_datasets/same_background/val/11/007114_11.png: ignoring corrupt image/label: image size (9, 30) <10 pixels\n",
      "\u001b[34m\u001b[1mval: \u001b[0mWARNING ⚠️ /home/zilian/projects/bachelorproef/experiment/data/training_datasets/same_background/val/11/007122_11.png: ignoring corrupt image/label: image size (7, 28) <10 pixels\n",
      "\u001b[34m\u001b[1mval: \u001b[0mWARNING ⚠️ /home/zilian/projects/bachelorproef/experiment/data/training_datasets/same_background/val/2/001243_2.png: ignoring corrupt image/label: image size (6, 20) <10 pixels\n",
      "\u001b[34m\u001b[1mval: \u001b[0mWARNING ⚠️ /home/zilian/projects/bachelorproef/experiment/data/training_datasets/same_background/val/2/001255_2.png: ignoring corrupt image/label: image size (9, 35) <10 pixels\n",
      "\u001b[34m\u001b[1mval: \u001b[0mWARNING ⚠️ /home/zilian/projects/bachelorproef/experiment/data/training_datasets/same_background/val/2/001277_2.png: ignoring corrupt image/label: image size (8, 25) <10 pixels\n",
      "\u001b[34m\u001b[1mval: \u001b[0mWARNING ⚠️ /home/zilian/projects/bachelorproef/experiment/data/training_datasets/same_background/val/2/001279_2.png: ignoring corrupt image/label: image size (8, 24) <10 pixels\n",
      "\u001b[34m\u001b[1mval: \u001b[0mWARNING ⚠️ /home/zilian/projects/bachelorproef/experiment/data/training_datasets/same_background/val/2/001282_2.png: ignoring corrupt image/label: image size (9, 22) <10 pixels\n",
      "\u001b[34m\u001b[1mval: \u001b[0mWARNING ⚠️ /home/zilian/projects/bachelorproef/experiment/data/training_datasets/same_background/val/7/004483_7.png: ignoring corrupt image/label: image size (7, 13) <10 pixels\n",
      "\u001b[34m\u001b[1mval: \u001b[0mWARNING ⚠️ /home/zilian/projects/bachelorproef/experiment/data/training_datasets/same_background/val/7/004509_7.png: ignoring corrupt image/label: image size (8, 13) <10 pixels\n",
      "\u001b[34m\u001b[1mval: \u001b[0mWARNING ⚠️ /home/zilian/projects/bachelorproef/experiment/data/training_datasets/same_background/val/7/004522_7.png: ignoring corrupt image/label: image size (8, 12) <10 pixels\n",
      "\u001b[34m\u001b[1mval: \u001b[0mWARNING ⚠️ /home/zilian/projects/bachelorproef/experiment/data/training_datasets/same_background/val/7/004532_7.png: ignoring corrupt image/label: image size (9, 11) <10 pixels\n"
     ]
    },
    {
     "name": "stderr",
     "output_type": "stream",
     "text": [
      "\n"
     ]
    },
    {
     "name": "stdout",
     "output_type": "stream",
     "text": [
      "\u001b[34m\u001b[1moptimizer:\u001b[0m 'optimizer=auto' found, ignoring 'lr0=0.01' and 'momentum=0.937' and determining best 'optimizer', 'lr0' and 'momentum' automatically... \n",
      "\u001b[34m\u001b[1moptimizer:\u001b[0m AdamW(lr=0.000526, momentum=0.9) with parameter groups 39 weight(decay=0.0), 40 weight(decay=0.001), 40 bias(decay=0.0)\n",
      "\u001b[34m\u001b[1mTensorBoard: \u001b[0mmodel graph visualization added ✅\n",
      "Image sizes 224 train, 224 val\n",
      "Using 8 dataloader workers\n",
      "Logging results to \u001b[1m/home/zilian/projects/bachelorproef/runs/classify/train12\u001b[0m\n",
      "Starting training for 100 epochs...\n",
      "\n",
      "      Epoch    GPU_mem       loss  Instances       Size\n"
     ]
    },
    {
     "name": "stderr",
     "output_type": "stream",
     "text": [
      "      1/100      1.62G       1.84         93        224: 100%|██████████| 67/67 [00:05<00:00, 12.54it/s]\n",
      "               classes   top1_acc   top5_acc: 100%|██████████| 4/4 [00:00<00:00, 20.36it/s]\n"
     ]
    },
    {
     "name": "stdout",
     "output_type": "stream",
     "text": [
      "                   all      0.924      0.991\n",
      "\n",
      "      Epoch    GPU_mem       loss  Instances       Size\n"
     ]
    },
    {
     "name": "stderr",
     "output_type": "stream",
     "text": [
      "      2/100      1.63G     0.2626         93        224: 100%|██████████| 67/67 [00:05<00:00, 13.28it/s]\n",
      "               classes   top1_acc   top5_acc: 100%|██████████| 4/4 [00:00<00:00, 45.32it/s]"
     ]
    },
    {
     "name": "stdout",
     "output_type": "stream",
     "text": [
      "                   all      0.949      0.993\n"
     ]
    },
    {
     "name": "stderr",
     "output_type": "stream",
     "text": [
      "\n"
     ]
    },
    {
     "name": "stdout",
     "output_type": "stream",
     "text": [
      "\n",
      "      Epoch    GPU_mem       loss  Instances       Size\n"
     ]
    },
    {
     "name": "stderr",
     "output_type": "stream",
     "text": [
      "      3/100      1.61G     0.1265         93        224: 100%|██████████| 67/67 [00:04<00:00, 15.18it/s]\n",
      "               classes   top1_acc   top5_acc: 100%|██████████| 4/4 [00:00<00:00, 45.70it/s]"
     ]
    },
    {
     "name": "stdout",
     "output_type": "stream",
     "text": [
      "                   all      0.725      0.875\n"
     ]
    },
    {
     "name": "stderr",
     "output_type": "stream",
     "text": [
      "\n"
     ]
    },
    {
     "name": "stdout",
     "output_type": "stream",
     "text": [
      "\n",
      "      Epoch    GPU_mem       loss  Instances       Size\n"
     ]
    },
    {
     "name": "stderr",
     "output_type": "stream",
     "text": [
      "      4/100      1.61G    0.09243         93        224: 100%|██████████| 67/67 [00:04<00:00, 15.09it/s]\n",
      "               classes   top1_acc   top5_acc: 100%|██████████| 4/4 [00:00<00:00, 42.35it/s]"
     ]
    },
    {
     "name": "stdout",
     "output_type": "stream",
     "text": [
      "                   all      0.863      0.975\n"
     ]
    },
    {
     "name": "stderr",
     "output_type": "stream",
     "text": [
      "\n"
     ]
    },
    {
     "name": "stdout",
     "output_type": "stream",
     "text": [
      "\n",
      "      Epoch    GPU_mem       loss  Instances       Size\n"
     ]
    },
    {
     "name": "stderr",
     "output_type": "stream",
     "text": [
      "      5/100      1.61G    0.08003         93        224: 100%|██████████| 67/67 [00:04<00:00, 15.68it/s]\n",
      "               classes   top1_acc   top5_acc: 100%|██████████| 4/4 [00:00<00:00, 54.03it/s]"
     ]
    },
    {
     "name": "stdout",
     "output_type": "stream",
     "text": [
      "                   all      0.958      0.998\n"
     ]
    },
    {
     "name": "stderr",
     "output_type": "stream",
     "text": [
      "\n"
     ]
    },
    {
     "name": "stdout",
     "output_type": "stream",
     "text": [
      "\n",
      "      Epoch    GPU_mem       loss  Instances       Size\n"
     ]
    },
    {
     "name": "stderr",
     "output_type": "stream",
     "text": [
      "      6/100      1.61G    0.06166         93        224: 100%|██████████| 67/67 [00:04<00:00, 16.51it/s]\n",
      "               classes   top1_acc   top5_acc: 100%|██████████| 4/4 [00:00<00:00, 49.13it/s]"
     ]
    },
    {
     "name": "stdout",
     "output_type": "stream",
     "text": [
      "                   all      0.977      0.996\n"
     ]
    },
    {
     "name": "stderr",
     "output_type": "stream",
     "text": [
      "\n"
     ]
    },
    {
     "name": "stdout",
     "output_type": "stream",
     "text": [
      "\n",
      "      Epoch    GPU_mem       loss  Instances       Size\n"
     ]
    },
    {
     "name": "stderr",
     "output_type": "stream",
     "text": [
      "      7/100      1.61G    0.05724         93        224: 100%|██████████| 67/67 [00:03<00:00, 20.52it/s]\n",
      "               classes   top1_acc   top5_acc: 100%|██████████| 4/4 [00:00<00:00, 49.84it/s]"
     ]
    },
    {
     "name": "stdout",
     "output_type": "stream",
     "text": [
      "                   all      0.929      0.995\n"
     ]
    },
    {
     "name": "stderr",
     "output_type": "stream",
     "text": [
      "\n"
     ]
    },
    {
     "name": "stdout",
     "output_type": "stream",
     "text": [
      "\n",
      "      Epoch    GPU_mem       loss  Instances       Size\n"
     ]
    },
    {
     "name": "stderr",
     "output_type": "stream",
     "text": [
      "      8/100      1.61G    0.04906         93        224: 100%|██████████| 67/67 [00:03<00:00, 20.28it/s]\n",
      "               classes   top1_acc   top5_acc: 100%|██████████| 4/4 [00:00<00:00, 51.63it/s]"
     ]
    },
    {
     "name": "stdout",
     "output_type": "stream",
     "text": [
      "                   all      0.981          1\n"
     ]
    },
    {
     "name": "stderr",
     "output_type": "stream",
     "text": [
      "\n"
     ]
    },
    {
     "name": "stdout",
     "output_type": "stream",
     "text": [
      "\n",
      "      Epoch    GPU_mem       loss  Instances       Size\n"
     ]
    },
    {
     "name": "stderr",
     "output_type": "stream",
     "text": [
      "      9/100      1.61G    0.03756         93        224: 100%|██████████| 67/67 [00:03<00:00, 19.29it/s]\n",
      "               classes   top1_acc   top5_acc: 100%|██████████| 4/4 [00:00<00:00, 56.37it/s]"
     ]
    },
    {
     "name": "stdout",
     "output_type": "stream",
     "text": [
      "                   all      0.869      0.971\n"
     ]
    },
    {
     "name": "stderr",
     "output_type": "stream",
     "text": [
      "\n"
     ]
    },
    {
     "name": "stdout",
     "output_type": "stream",
     "text": [
      "\n",
      "      Epoch    GPU_mem       loss  Instances       Size\n"
     ]
    },
    {
     "name": "stderr",
     "output_type": "stream",
     "text": [
      "     10/100      1.61G    0.03602         93        224: 100%|██████████| 67/67 [00:03<00:00, 18.84it/s]\n",
      "               classes   top1_acc   top5_acc: 100%|██████████| 4/4 [00:00<00:00, 53.86it/s]"
     ]
    },
    {
     "name": "stdout",
     "output_type": "stream",
     "text": [
      "                   all      0.931      0.999\n"
     ]
    },
    {
     "name": "stderr",
     "output_type": "stream",
     "text": [
      "\n"
     ]
    },
    {
     "name": "stdout",
     "output_type": "stream",
     "text": [
      "\n",
      "      Epoch    GPU_mem       loss  Instances       Size\n"
     ]
    },
    {
     "name": "stderr",
     "output_type": "stream",
     "text": [
      "     11/100      1.61G    0.03339         93        224: 100%|██████████| 67/67 [00:03<00:00, 19.71it/s]\n",
      "               classes   top1_acc   top5_acc: 100%|██████████| 4/4 [00:00<00:00, 53.13it/s]"
     ]
    },
    {
     "name": "stdout",
     "output_type": "stream",
     "text": [
      "                   all       0.98      0.998\n"
     ]
    },
    {
     "name": "stderr",
     "output_type": "stream",
     "text": [
      "\n"
     ]
    },
    {
     "name": "stdout",
     "output_type": "stream",
     "text": [
      "\n",
      "      Epoch    GPU_mem       loss  Instances       Size\n"
     ]
    },
    {
     "name": "stderr",
     "output_type": "stream",
     "text": [
      "     12/100      1.61G    0.04129         93        224: 100%|██████████| 67/67 [00:03<00:00, 19.56it/s]\n",
      "               classes   top1_acc   top5_acc: 100%|██████████| 4/4 [00:00<00:00, 54.19it/s]"
     ]
    },
    {
     "name": "stdout",
     "output_type": "stream",
     "text": [
      "                   all      0.829      0.975\n"
     ]
    },
    {
     "name": "stderr",
     "output_type": "stream",
     "text": [
      "\n"
     ]
    },
    {
     "name": "stdout",
     "output_type": "stream",
     "text": [
      "\n",
      "      Epoch    GPU_mem       loss  Instances       Size\n"
     ]
    },
    {
     "name": "stderr",
     "output_type": "stream",
     "text": [
      "     13/100      1.61G    0.04127         93        224: 100%|██████████| 67/67 [00:03<00:00, 19.95it/s]\n",
      "               classes   top1_acc   top5_acc: 100%|██████████| 4/4 [00:00<00:00, 53.07it/s]"
     ]
    },
    {
     "name": "stdout",
     "output_type": "stream",
     "text": [
      "                   all      0.956      0.999\n"
     ]
    },
    {
     "name": "stderr",
     "output_type": "stream",
     "text": [
      "\n"
     ]
    },
    {
     "name": "stdout",
     "output_type": "stream",
     "text": [
      "\n",
      "      Epoch    GPU_mem       loss  Instances       Size\n"
     ]
    },
    {
     "name": "stderr",
     "output_type": "stream",
     "text": [
      "     14/100      1.61G    0.03956         93        224: 100%|██████████| 67/67 [00:03<00:00, 17.67it/s]\n",
      "               classes   top1_acc   top5_acc: 100%|██████████| 4/4 [00:00<00:00, 51.44it/s]"
     ]
    },
    {
     "name": "stdout",
     "output_type": "stream",
     "text": [
      "                   all      0.923      0.981\n"
     ]
    },
    {
     "name": "stderr",
     "output_type": "stream",
     "text": [
      "\n"
     ]
    },
    {
     "name": "stdout",
     "output_type": "stream",
     "text": [
      "\n",
      "      Epoch    GPU_mem       loss  Instances       Size\n"
     ]
    },
    {
     "name": "stderr",
     "output_type": "stream",
     "text": [
      "     15/100      1.61G    0.03486         93        224: 100%|██████████| 67/67 [00:03<00:00, 19.68it/s]\n",
      "               classes   top1_acc   top5_acc: 100%|██████████| 4/4 [00:00<00:00, 48.71it/s]"
     ]
    },
    {
     "name": "stdout",
     "output_type": "stream",
     "text": [
      "                   all      0.995          1\n"
     ]
    },
    {
     "name": "stderr",
     "output_type": "stream",
     "text": [
      "\n"
     ]
    },
    {
     "name": "stdout",
     "output_type": "stream",
     "text": [
      "\n",
      "      Epoch    GPU_mem       loss  Instances       Size\n"
     ]
    },
    {
     "name": "stderr",
     "output_type": "stream",
     "text": [
      "     16/100      1.61G    0.02834         93        224: 100%|██████████| 67/67 [00:03<00:00, 19.78it/s]\n",
      "               classes   top1_acc   top5_acc: 100%|██████████| 4/4 [00:00<00:00, 50.48it/s]"
     ]
    },
    {
     "name": "stdout",
     "output_type": "stream",
     "text": [
      "                   all      0.991      0.999\n"
     ]
    },
    {
     "name": "stderr",
     "output_type": "stream",
     "text": [
      "\n"
     ]
    },
    {
     "name": "stdout",
     "output_type": "stream",
     "text": [
      "\n",
      "      Epoch    GPU_mem       loss  Instances       Size\n"
     ]
    },
    {
     "name": "stderr",
     "output_type": "stream",
     "text": [
      "     17/100      1.61G    0.02208         93        224: 100%|██████████| 67/67 [00:03<00:00, 20.75it/s]\n",
      "               classes   top1_acc   top5_acc: 100%|██████████| 4/4 [00:00<00:00, 51.96it/s]"
     ]
    },
    {
     "name": "stdout",
     "output_type": "stream",
     "text": [
      "                   all      0.993          1\n"
     ]
    },
    {
     "name": "stderr",
     "output_type": "stream",
     "text": [
      "\n"
     ]
    },
    {
     "name": "stdout",
     "output_type": "stream",
     "text": [
      "\n",
      "      Epoch    GPU_mem       loss  Instances       Size\n"
     ]
    },
    {
     "name": "stderr",
     "output_type": "stream",
     "text": [
      "     18/100      1.61G    0.02289         93        224: 100%|██████████| 67/67 [00:03<00:00, 18.77it/s]\n",
      "               classes   top1_acc   top5_acc: 100%|██████████| 4/4 [00:00<00:00, 43.11it/s]"
     ]
    },
    {
     "name": "stdout",
     "output_type": "stream",
     "text": [
      "                   all      0.793      0.972\n"
     ]
    },
    {
     "name": "stderr",
     "output_type": "stream",
     "text": [
      "\n"
     ]
    },
    {
     "name": "stdout",
     "output_type": "stream",
     "text": [
      "\n",
      "      Epoch    GPU_mem       loss  Instances       Size\n"
     ]
    },
    {
     "name": "stderr",
     "output_type": "stream",
     "text": [
      "     19/100      1.61G    0.03336         93        224: 100%|██████████| 67/67 [00:03<00:00, 18.88it/s]\n",
      "               classes   top1_acc   top5_acc: 100%|██████████| 4/4 [00:00<00:00, 47.51it/s]"
     ]
    },
    {
     "name": "stdout",
     "output_type": "stream",
     "text": [
      "                   all      0.988          1\n"
     ]
    },
    {
     "name": "stderr",
     "output_type": "stream",
     "text": [
      "\n"
     ]
    },
    {
     "name": "stdout",
     "output_type": "stream",
     "text": [
      "\n",
      "      Epoch    GPU_mem       loss  Instances       Size\n"
     ]
    },
    {
     "name": "stderr",
     "output_type": "stream",
     "text": [
      "     20/100      1.61G    0.03219         93        224: 100%|██████████| 67/67 [00:03<00:00, 17.91it/s]\n",
      "               classes   top1_acc   top5_acc: 100%|██████████| 4/4 [00:00<00:00, 45.80it/s]"
     ]
    },
    {
     "name": "stdout",
     "output_type": "stream",
     "text": [
      "                   all       0.89       0.98\n"
     ]
    },
    {
     "name": "stderr",
     "output_type": "stream",
     "text": [
      "\n"
     ]
    },
    {
     "name": "stdout",
     "output_type": "stream",
     "text": [
      "\n",
      "      Epoch    GPU_mem       loss  Instances       Size\n"
     ]
    },
    {
     "name": "stderr",
     "output_type": "stream",
     "text": [
      "     21/100      1.61G    0.02624         93        224: 100%|██████████| 67/67 [00:03<00:00, 18.36it/s]\n",
      "               classes   top1_acc   top5_acc: 100%|██████████| 4/4 [00:00<00:00, 51.52it/s]"
     ]
    },
    {
     "name": "stdout",
     "output_type": "stream",
     "text": [
      "                   all      0.993          1\n"
     ]
    },
    {
     "name": "stderr",
     "output_type": "stream",
     "text": [
      "\n"
     ]
    },
    {
     "name": "stdout",
     "output_type": "stream",
     "text": [
      "\n",
      "      Epoch    GPU_mem       loss  Instances       Size\n"
     ]
    },
    {
     "name": "stderr",
     "output_type": "stream",
     "text": [
      "     22/100      1.61G    0.02038         93        224: 100%|██████████| 67/67 [00:04<00:00, 16.11it/s]\n",
      "               classes   top1_acc   top5_acc: 100%|██████████| 4/4 [00:00<00:00, 50.47it/s]"
     ]
    },
    {
     "name": "stdout",
     "output_type": "stream",
     "text": [
      "                   all      0.997          1\n"
     ]
    },
    {
     "name": "stderr",
     "output_type": "stream",
     "text": [
      "\n"
     ]
    },
    {
     "name": "stdout",
     "output_type": "stream",
     "text": [
      "\n",
      "      Epoch    GPU_mem       loss  Instances       Size\n"
     ]
    },
    {
     "name": "stderr",
     "output_type": "stream",
     "text": [
      "     23/100      1.61G    0.01729         93        224: 100%|██████████| 67/67 [00:03<00:00, 19.05it/s]\n",
      "               classes   top1_acc   top5_acc: 100%|██████████| 4/4 [00:00<00:00, 52.33it/s]\n"
     ]
    },
    {
     "name": "stdout",
     "output_type": "stream",
     "text": [
      "                   all       0.99          1\n",
      "\n",
      "      Epoch    GPU_mem       loss  Instances       Size\n"
     ]
    },
    {
     "name": "stderr",
     "output_type": "stream",
     "text": [
      "     24/100      1.61G    0.02066         93        224: 100%|██████████| 67/67 [00:03<00:00, 18.72it/s]\n",
      "               classes   top1_acc   top5_acc: 100%|██████████| 4/4 [00:00<00:00, 50.52it/s]"
     ]
    },
    {
     "name": "stdout",
     "output_type": "stream",
     "text": [
      "                   all      0.994      0.999\n"
     ]
    },
    {
     "name": "stderr",
     "output_type": "stream",
     "text": [
      "\n"
     ]
    },
    {
     "name": "stdout",
     "output_type": "stream",
     "text": [
      "\n",
      "      Epoch    GPU_mem       loss  Instances       Size\n"
     ]
    },
    {
     "name": "stderr",
     "output_type": "stream",
     "text": [
      "     25/100      1.61G    0.01726         93        224: 100%|██████████| 67/67 [00:03<00:00, 19.36it/s]\n",
      "               classes   top1_acc   top5_acc: 100%|██████████| 4/4 [00:00<00:00, 48.79it/s]"
     ]
    },
    {
     "name": "stdout",
     "output_type": "stream",
     "text": [
      "                   all      0.985          1\n"
     ]
    },
    {
     "name": "stderr",
     "output_type": "stream",
     "text": [
      "\n"
     ]
    },
    {
     "name": "stdout",
     "output_type": "stream",
     "text": [
      "\n",
      "      Epoch    GPU_mem       loss  Instances       Size\n"
     ]
    },
    {
     "name": "stderr",
     "output_type": "stream",
     "text": [
      "     26/100      1.61G    0.02051         93        224: 100%|██████████| 67/67 [00:03<00:00, 18.73it/s]\n",
      "               classes   top1_acc   top5_acc: 100%|██████████| 4/4 [00:00<00:00, 52.62it/s]"
     ]
    },
    {
     "name": "stdout",
     "output_type": "stream",
     "text": [
      "                   all      0.994      0.998\n"
     ]
    },
    {
     "name": "stderr",
     "output_type": "stream",
     "text": [
      "\n"
     ]
    },
    {
     "name": "stdout",
     "output_type": "stream",
     "text": [
      "\n",
      "      Epoch    GPU_mem       loss  Instances       Size\n"
     ]
    },
    {
     "name": "stderr",
     "output_type": "stream",
     "text": [
      "     27/100      1.61G    0.01656         93        224: 100%|██████████| 67/67 [00:03<00:00, 18.74it/s]\n",
      "               classes   top1_acc   top5_acc: 100%|██████████| 4/4 [00:00<00:00, 44.91it/s]"
     ]
    },
    {
     "name": "stdout",
     "output_type": "stream",
     "text": [
      "                   all      0.994          1\n"
     ]
    },
    {
     "name": "stderr",
     "output_type": "stream",
     "text": [
      "\n"
     ]
    },
    {
     "name": "stdout",
     "output_type": "stream",
     "text": [
      "\n",
      "      Epoch    GPU_mem       loss  Instances       Size\n"
     ]
    },
    {
     "name": "stderr",
     "output_type": "stream",
     "text": [
      "     28/100      1.61G     0.0288         93        224: 100%|██████████| 67/67 [00:03<00:00, 18.84it/s]\n",
      "               classes   top1_acc   top5_acc: 100%|██████████| 4/4 [00:00<00:00, 52.27it/s]"
     ]
    },
    {
     "name": "stdout",
     "output_type": "stream",
     "text": [
      "                   all      0.985          1\n"
     ]
    },
    {
     "name": "stderr",
     "output_type": "stream",
     "text": [
      "\n"
     ]
    },
    {
     "name": "stdout",
     "output_type": "stream",
     "text": [
      "\n",
      "      Epoch    GPU_mem       loss  Instances       Size\n"
     ]
    },
    {
     "name": "stderr",
     "output_type": "stream",
     "text": [
      "     29/100      1.61G    0.02317         93        224: 100%|██████████| 67/67 [00:04<00:00, 16.51it/s]\n",
      "               classes   top1_acc   top5_acc: 100%|██████████| 4/4 [00:00<00:00, 44.98it/s]"
     ]
    },
    {
     "name": "stdout",
     "output_type": "stream",
     "text": [
      "                   all      0.989          1\n"
     ]
    },
    {
     "name": "stderr",
     "output_type": "stream",
     "text": [
      "\n"
     ]
    },
    {
     "name": "stdout",
     "output_type": "stream",
     "text": [
      "\n",
      "      Epoch    GPU_mem       loss  Instances       Size\n"
     ]
    },
    {
     "name": "stderr",
     "output_type": "stream",
     "text": [
      "     30/100      1.61G    0.01899         93        224: 100%|██████████| 67/67 [00:03<00:00, 18.09it/s]\n",
      "               classes   top1_acc   top5_acc: 100%|██████████| 4/4 [00:00<00:00, 51.11it/s]"
     ]
    },
    {
     "name": "stdout",
     "output_type": "stream",
     "text": [
      "                   all      0.733      0.924\n"
     ]
    },
    {
     "name": "stderr",
     "output_type": "stream",
     "text": [
      "\n"
     ]
    },
    {
     "name": "stdout",
     "output_type": "stream",
     "text": [
      "\n",
      "      Epoch    GPU_mem       loss  Instances       Size\n"
     ]
    },
    {
     "name": "stderr",
     "output_type": "stream",
     "text": [
      "     31/100      1.61G    0.01789         93        224: 100%|██████████| 67/67 [00:03<00:00, 18.90it/s]\n",
      "               classes   top1_acc   top5_acc: 100%|██████████| 4/4 [00:00<00:00, 52.30it/s]"
     ]
    },
    {
     "name": "stdout",
     "output_type": "stream",
     "text": [
      "                   all      0.981      0.998\n"
     ]
    },
    {
     "name": "stderr",
     "output_type": "stream",
     "text": [
      "\n"
     ]
    },
    {
     "name": "stdout",
     "output_type": "stream",
     "text": [
      "\n",
      "      Epoch    GPU_mem       loss  Instances       Size\n"
     ]
    },
    {
     "name": "stderr",
     "output_type": "stream",
     "text": [
      "     32/100      1.61G    0.01967         93        224: 100%|██████████| 67/67 [00:03<00:00, 19.07it/s]\n",
      "               classes   top1_acc   top5_acc: 100%|██████████| 4/4 [00:00<00:00, 58.00it/s]"
     ]
    },
    {
     "name": "stdout",
     "output_type": "stream",
     "text": [
      "                   all      0.992      0.999\n"
     ]
    },
    {
     "name": "stderr",
     "output_type": "stream",
     "text": [
      "\n"
     ]
    },
    {
     "name": "stdout",
     "output_type": "stream",
     "text": [
      "\n",
      "      Epoch    GPU_mem       loss  Instances       Size\n"
     ]
    },
    {
     "name": "stderr",
     "output_type": "stream",
     "text": [
      "     33/100      1.61G    0.01855         93        224: 100%|██████████| 67/67 [00:03<00:00, 18.86it/s]\n",
      "               classes   top1_acc   top5_acc: 100%|██████████| 4/4 [00:00<00:00, 50.05it/s]"
     ]
    },
    {
     "name": "stdout",
     "output_type": "stream",
     "text": [
      "                   all      0.975      0.997\n"
     ]
    },
    {
     "name": "stderr",
     "output_type": "stream",
     "text": [
      "\n"
     ]
    },
    {
     "name": "stdout",
     "output_type": "stream",
     "text": [
      "\n",
      "      Epoch    GPU_mem       loss  Instances       Size\n"
     ]
    },
    {
     "name": "stderr",
     "output_type": "stream",
     "text": [
      "     34/100      1.61G    0.01932         93        224: 100%|██████████| 67/67 [00:03<00:00, 19.00it/s]\n",
      "               classes   top1_acc   top5_acc: 100%|██████████| 4/4 [00:00<00:00, 50.96it/s]"
     ]
    },
    {
     "name": "stdout",
     "output_type": "stream",
     "text": [
      "                   all      0.913      0.996\n"
     ]
    },
    {
     "name": "stderr",
     "output_type": "stream",
     "text": [
      "\n"
     ]
    },
    {
     "name": "stdout",
     "output_type": "stream",
     "text": [
      "\n",
      "      Epoch    GPU_mem       loss  Instances       Size\n"
     ]
    },
    {
     "name": "stderr",
     "output_type": "stream",
     "text": [
      "     35/100      1.61G    0.01488         93        224: 100%|██████████| 67/67 [00:03<00:00, 18.84it/s]\n",
      "               classes   top1_acc   top5_acc: 100%|██████████| 4/4 [00:00<00:00, 56.50it/s]"
     ]
    },
    {
     "name": "stdout",
     "output_type": "stream",
     "text": [
      "                   all      0.991          1\n"
     ]
    },
    {
     "name": "stderr",
     "output_type": "stream",
     "text": [
      "\n"
     ]
    },
    {
     "name": "stdout",
     "output_type": "stream",
     "text": [
      "\n",
      "      Epoch    GPU_mem       loss  Instances       Size\n"
     ]
    },
    {
     "name": "stderr",
     "output_type": "stream",
     "text": [
      "     36/100      1.61G    0.01585         93        224: 100%|██████████| 67/67 [00:03<00:00, 18.85it/s]\n",
      "               classes   top1_acc   top5_acc: 100%|██████████| 4/4 [00:00<00:00, 51.57it/s]"
     ]
    },
    {
     "name": "stdout",
     "output_type": "stream",
     "text": [
      "                   all      0.996          1\n"
     ]
    },
    {
     "name": "stderr",
     "output_type": "stream",
     "text": [
      "\n"
     ]
    },
    {
     "name": "stdout",
     "output_type": "stream",
     "text": [
      "\n",
      "      Epoch    GPU_mem       loss  Instances       Size\n"
     ]
    },
    {
     "name": "stderr",
     "output_type": "stream",
     "text": [
      "     37/100      1.61G    0.01745         93        224: 100%|██████████| 67/67 [00:04<00:00, 16.61it/s]\n",
      "               classes   top1_acc   top5_acc: 100%|██████████| 4/4 [00:00<00:00, 49.47it/s]\n"
     ]
    },
    {
     "name": "stdout",
     "output_type": "stream",
     "text": [
      "                   all      0.996          1\n",
      "\n",
      "      Epoch    GPU_mem       loss  Instances       Size\n"
     ]
    },
    {
     "name": "stderr",
     "output_type": "stream",
     "text": [
      "     38/100      1.61G    0.01341         93        224: 100%|██████████| 67/67 [00:03<00:00, 19.37it/s]\n",
      "               classes   top1_acc   top5_acc: 100%|██████████| 4/4 [00:00<00:00, 50.60it/s]"
     ]
    },
    {
     "name": "stdout",
     "output_type": "stream",
     "text": [
      "                   all      0.992          1\n"
     ]
    },
    {
     "name": "stderr",
     "output_type": "stream",
     "text": [
      "\n"
     ]
    },
    {
     "name": "stdout",
     "output_type": "stream",
     "text": [
      "\n",
      "      Epoch    GPU_mem       loss  Instances       Size\n"
     ]
    },
    {
     "name": "stderr",
     "output_type": "stream",
     "text": [
      "     39/100      1.61G     0.0115         93        224: 100%|██████████| 67/67 [00:03<00:00, 19.01it/s]\n",
      "               classes   top1_acc   top5_acc: 100%|██████████| 4/4 [00:00<00:00, 43.18it/s]"
     ]
    },
    {
     "name": "stdout",
     "output_type": "stream",
     "text": [
      "                   all      0.992          1\n"
     ]
    },
    {
     "name": "stderr",
     "output_type": "stream",
     "text": [
      "\n"
     ]
    },
    {
     "name": "stdout",
     "output_type": "stream",
     "text": [
      "\n",
      "      Epoch    GPU_mem       loss  Instances       Size\n"
     ]
    },
    {
     "name": "stderr",
     "output_type": "stream",
     "text": [
      "     40/100      1.61G    0.01185         93        224: 100%|██████████| 67/67 [00:03<00:00, 19.10it/s]\n",
      "               classes   top1_acc   top5_acc: 100%|██████████| 4/4 [00:00<00:00, 45.97it/s]"
     ]
    },
    {
     "name": "stdout",
     "output_type": "stream",
     "text": [
      "                   all      0.985          1\n"
     ]
    },
    {
     "name": "stderr",
     "output_type": "stream",
     "text": [
      "\n"
     ]
    },
    {
     "name": "stdout",
     "output_type": "stream",
     "text": [
      "\n",
      "      Epoch    GPU_mem       loss  Instances       Size\n"
     ]
    },
    {
     "name": "stderr",
     "output_type": "stream",
     "text": [
      "     41/100      1.61G    0.01575         93        224: 100%|██████████| 67/67 [00:03<00:00, 18.81it/s]\n",
      "               classes   top1_acc   top5_acc: 100%|██████████| 4/4 [00:00<00:00, 49.35it/s]"
     ]
    },
    {
     "name": "stdout",
     "output_type": "stream",
     "text": [
      "                   all      0.971      0.996\n"
     ]
    },
    {
     "name": "stderr",
     "output_type": "stream",
     "text": [
      "\n"
     ]
    },
    {
     "name": "stdout",
     "output_type": "stream",
     "text": [
      "\n",
      "      Epoch    GPU_mem       loss  Instances       Size\n"
     ]
    },
    {
     "name": "stderr",
     "output_type": "stream",
     "text": [
      "     42/100      1.61G    0.01202         93        224: 100%|██████████| 67/67 [00:03<00:00, 19.17it/s]\n",
      "               classes   top1_acc   top5_acc: 100%|██████████| 4/4 [00:00<00:00, 53.17it/s]"
     ]
    },
    {
     "name": "stdout",
     "output_type": "stream",
     "text": [
      "                   all      0.998      0.999\n"
     ]
    },
    {
     "name": "stderr",
     "output_type": "stream",
     "text": [
      "\n"
     ]
    },
    {
     "name": "stdout",
     "output_type": "stream",
     "text": [
      "\n",
      "      Epoch    GPU_mem       loss  Instances       Size\n"
     ]
    },
    {
     "name": "stderr",
     "output_type": "stream",
     "text": [
      "     43/100      1.61G    0.01069         93        224: 100%|██████████| 67/67 [00:03<00:00, 18.09it/s]\n",
      "               classes   top1_acc   top5_acc: 100%|██████████| 4/4 [00:00<00:00, 50.21it/s]"
     ]
    },
    {
     "name": "stdout",
     "output_type": "stream",
     "text": [
      "                   all       0.88       0.99\n"
     ]
    },
    {
     "name": "stderr",
     "output_type": "stream",
     "text": [
      "\n"
     ]
    },
    {
     "name": "stdout",
     "output_type": "stream",
     "text": [
      "\n",
      "      Epoch    GPU_mem       loss  Instances       Size\n"
     ]
    },
    {
     "name": "stderr",
     "output_type": "stream",
     "text": [
      "     44/100      1.61G    0.01276         93        224: 100%|██████████| 67/67 [00:03<00:00, 18.07it/s]\n",
      "               classes   top1_acc   top5_acc: 100%|██████████| 4/4 [00:00<00:00, 50.49it/s]"
     ]
    },
    {
     "name": "stdout",
     "output_type": "stream",
     "text": [
      "                   all      0.989          1\n"
     ]
    },
    {
     "name": "stderr",
     "output_type": "stream",
     "text": [
      "\n"
     ]
    },
    {
     "name": "stdout",
     "output_type": "stream",
     "text": [
      "\n",
      "      Epoch    GPU_mem       loss  Instances       Size\n"
     ]
    },
    {
     "name": "stderr",
     "output_type": "stream",
     "text": [
      "     45/100      1.61G    0.01307         93        224: 100%|██████████| 67/67 [00:04<00:00, 15.43it/s]\n",
      "               classes   top1_acc   top5_acc: 100%|██████████| 4/4 [00:00<00:00, 44.87it/s]"
     ]
    },
    {
     "name": "stdout",
     "output_type": "stream",
     "text": [
      "                   all       0.98      0.999\n"
     ]
    },
    {
     "name": "stderr",
     "output_type": "stream",
     "text": [
      "\n"
     ]
    },
    {
     "name": "stdout",
     "output_type": "stream",
     "text": [
      "\n",
      "      Epoch    GPU_mem       loss  Instances       Size\n"
     ]
    },
    {
     "name": "stderr",
     "output_type": "stream",
     "text": [
      "     46/100      1.61G    0.01233         93        224: 100%|██████████| 67/67 [00:03<00:00, 18.72it/s]\n",
      "               classes   top1_acc   top5_acc: 100%|██████████| 4/4 [00:00<00:00, 52.38it/s]"
     ]
    },
    {
     "name": "stdout",
     "output_type": "stream",
     "text": [
      "                   all      0.933          1\n"
     ]
    },
    {
     "name": "stderr",
     "output_type": "stream",
     "text": [
      "\n"
     ]
    },
    {
     "name": "stdout",
     "output_type": "stream",
     "text": [
      "\n",
      "      Epoch    GPU_mem       loss  Instances       Size\n"
     ]
    },
    {
     "name": "stderr",
     "output_type": "stream",
     "text": [
      "     47/100      1.61G    0.01147         93        224: 100%|██████████| 67/67 [00:03<00:00, 18.80it/s]\n",
      "               classes   top1_acc   top5_acc: 100%|██████████| 4/4 [00:00<00:00, 45.52it/s]"
     ]
    },
    {
     "name": "stdout",
     "output_type": "stream",
     "text": [
      "                   all      0.997          1\n"
     ]
    },
    {
     "name": "stderr",
     "output_type": "stream",
     "text": [
      "\n"
     ]
    },
    {
     "name": "stdout",
     "output_type": "stream",
     "text": [
      "\n",
      "      Epoch    GPU_mem       loss  Instances       Size\n"
     ]
    },
    {
     "name": "stderr",
     "output_type": "stream",
     "text": [
      "     48/100      1.61G    0.01104         93        224: 100%|██████████| 67/67 [00:03<00:00, 19.33it/s]\n",
      "               classes   top1_acc   top5_acc: 100%|██████████| 4/4 [00:00<00:00, 49.46it/s]"
     ]
    },
    {
     "name": "stdout",
     "output_type": "stream",
     "text": [
      "                   all      0.972      0.997\n"
     ]
    },
    {
     "name": "stderr",
     "output_type": "stream",
     "text": [
      "\n"
     ]
    },
    {
     "name": "stdout",
     "output_type": "stream",
     "text": [
      "\n",
      "      Epoch    GPU_mem       loss  Instances       Size\n"
     ]
    },
    {
     "name": "stderr",
     "output_type": "stream",
     "text": [
      "     49/100      1.61G    0.01206         93        224: 100%|██████████| 67/67 [00:03<00:00, 17.53it/s]\n",
      "               classes   top1_acc   top5_acc: 100%|██████████| 4/4 [00:00<00:00, 52.94it/s]"
     ]
    },
    {
     "name": "stdout",
     "output_type": "stream",
     "text": [
      "                   all      0.996          1\n"
     ]
    },
    {
     "name": "stderr",
     "output_type": "stream",
     "text": [
      "\n"
     ]
    },
    {
     "name": "stdout",
     "output_type": "stream",
     "text": [
      "\n",
      "      Epoch    GPU_mem       loss  Instances       Size\n"
     ]
    },
    {
     "name": "stderr",
     "output_type": "stream",
     "text": [
      "     50/100      1.61G    0.01117         93        224: 100%|██████████| 67/67 [00:03<00:00, 18.98it/s]\n",
      "               classes   top1_acc   top5_acc: 100%|██████████| 4/4 [00:00<00:00, 44.70it/s]"
     ]
    },
    {
     "name": "stdout",
     "output_type": "stream",
     "text": [
      "                   all      0.995          1\n"
     ]
    },
    {
     "name": "stderr",
     "output_type": "stream",
     "text": [
      "\n"
     ]
    },
    {
     "name": "stdout",
     "output_type": "stream",
     "text": [
      "\n",
      "      Epoch    GPU_mem       loss  Instances       Size\n"
     ]
    },
    {
     "name": "stderr",
     "output_type": "stream",
     "text": [
      "     51/100      1.61G    0.01013         93        224: 100%|██████████| 67/67 [00:03<00:00, 17.80it/s]\n",
      "               classes   top1_acc   top5_acc: 100%|██████████| 4/4 [00:00<00:00, 50.87it/s]"
     ]
    },
    {
     "name": "stdout",
     "output_type": "stream",
     "text": [
      "                   all      0.994          1\n"
     ]
    },
    {
     "name": "stderr",
     "output_type": "stream",
     "text": [
      "\n"
     ]
    },
    {
     "name": "stdout",
     "output_type": "stream",
     "text": [
      "\n",
      "      Epoch    GPU_mem       loss  Instances       Size\n"
     ]
    },
    {
     "name": "stderr",
     "output_type": "stream",
     "text": [
      "     52/100      1.61G    0.01107         93        224: 100%|██████████| 67/67 [00:03<00:00, 19.23it/s]\n",
      "               classes   top1_acc   top5_acc: 100%|██████████| 4/4 [00:00<00:00, 47.15it/s]"
     ]
    },
    {
     "name": "stdout",
     "output_type": "stream",
     "text": [
      "                   all      0.997          1\n"
     ]
    },
    {
     "name": "stderr",
     "output_type": "stream",
     "text": [
      "\n"
     ]
    },
    {
     "name": "stdout",
     "output_type": "stream",
     "text": [
      "\n",
      "      Epoch    GPU_mem       loss  Instances       Size\n"
     ]
    },
    {
     "name": "stderr",
     "output_type": "stream",
     "text": [
      "     53/100      1.61G    0.00719         93        224: 100%|██████████| 67/67 [00:03<00:00, 19.55it/s]\n",
      "               classes   top1_acc   top5_acc: 100%|██████████| 4/4 [00:00<00:00, 50.59it/s]"
     ]
    },
    {
     "name": "stdout",
     "output_type": "stream",
     "text": [
      "                   all      0.993      0.999\n"
     ]
    },
    {
     "name": "stderr",
     "output_type": "stream",
     "text": [
      "\n"
     ]
    },
    {
     "name": "stdout",
     "output_type": "stream",
     "text": [
      "\n",
      "      Epoch    GPU_mem       loss  Instances       Size\n"
     ]
    },
    {
     "name": "stderr",
     "output_type": "stream",
     "text": [
      "     54/100      1.61G   0.005247         93        224: 100%|██████████| 67/67 [00:03<00:00, 19.76it/s]\n",
      "               classes   top1_acc   top5_acc: 100%|██████████| 4/4 [00:00<00:00, 43.68it/s]"
     ]
    },
    {
     "name": "stdout",
     "output_type": "stream",
     "text": [
      "                   all      0.997          1\n"
     ]
    },
    {
     "name": "stderr",
     "output_type": "stream",
     "text": [
      "\n"
     ]
    },
    {
     "name": "stdout",
     "output_type": "stream",
     "text": [
      "\n",
      "      Epoch    GPU_mem       loss  Instances       Size\n"
     ]
    },
    {
     "name": "stderr",
     "output_type": "stream",
     "text": [
      "     55/100      1.61G   0.006721         93        224: 100%|██████████| 67/67 [00:03<00:00, 18.66it/s]\n",
      "               classes   top1_acc   top5_acc: 100%|██████████| 4/4 [00:00<00:00, 57.14it/s]"
     ]
    },
    {
     "name": "stdout",
     "output_type": "stream",
     "text": [
      "                   all      0.996          1\n"
     ]
    },
    {
     "name": "stderr",
     "output_type": "stream",
     "text": [
      "\n"
     ]
    },
    {
     "name": "stdout",
     "output_type": "stream",
     "text": [
      "\n",
      "      Epoch    GPU_mem       loss  Instances       Size\n"
     ]
    },
    {
     "name": "stderr",
     "output_type": "stream",
     "text": [
      "     56/100      1.61G    0.01031         93        224: 100%|██████████| 67/67 [00:03<00:00, 18.58it/s]\n",
      "               classes   top1_acc   top5_acc: 100%|██████████| 4/4 [00:00<00:00, 51.80it/s]"
     ]
    },
    {
     "name": "stdout",
     "output_type": "stream",
     "text": [
      "                   all      0.993          1\n"
     ]
    },
    {
     "name": "stderr",
     "output_type": "stream",
     "text": [
      "\n"
     ]
    },
    {
     "name": "stdout",
     "output_type": "stream",
     "text": [
      "\n",
      "      Epoch    GPU_mem       loss  Instances       Size\n"
     ]
    },
    {
     "name": "stderr",
     "output_type": "stream",
     "text": [
      "     57/100      1.61G   0.009858         93        224: 100%|██████████| 67/67 [00:03<00:00, 18.71it/s]\n",
      "               classes   top1_acc   top5_acc: 100%|██████████| 4/4 [00:00<00:00, 52.48it/s]"
     ]
    },
    {
     "name": "stdout",
     "output_type": "stream",
     "text": [
      "                   all      0.995          1\n"
     ]
    },
    {
     "name": "stderr",
     "output_type": "stream",
     "text": [
      "\n"
     ]
    },
    {
     "name": "stdout",
     "output_type": "stream",
     "text": [
      "\n",
      "      Epoch    GPU_mem       loss  Instances       Size\n"
     ]
    },
    {
     "name": "stderr",
     "output_type": "stream",
     "text": [
      "     58/100      1.61G   0.006848         93        224: 100%|██████████| 67/67 [00:03<00:00, 19.37it/s]\n",
      "               classes   top1_acc   top5_acc: 100%|██████████| 4/4 [00:00<00:00, 50.08it/s]"
     ]
    },
    {
     "name": "stdout",
     "output_type": "stream",
     "text": [
      "                   all      0.996          1\n"
     ]
    },
    {
     "name": "stderr",
     "output_type": "stream",
     "text": [
      "\n"
     ]
    },
    {
     "name": "stdout",
     "output_type": "stream",
     "text": [
      "\n",
      "      Epoch    GPU_mem       loss  Instances       Size\n"
     ]
    },
    {
     "name": "stderr",
     "output_type": "stream",
     "text": [
      "     59/100      1.61G   0.009373         93        224: 100%|██████████| 67/67 [00:03<00:00, 18.65it/s]\n",
      "               classes   top1_acc   top5_acc: 100%|██████████| 4/4 [00:00<00:00, 53.26it/s]"
     ]
    },
    {
     "name": "stdout",
     "output_type": "stream",
     "text": [
      "                   all      0.996          1\n"
     ]
    },
    {
     "name": "stderr",
     "output_type": "stream",
     "text": [
      "\n"
     ]
    },
    {
     "name": "stdout",
     "output_type": "stream",
     "text": [
      "\n",
      "      Epoch    GPU_mem       loss  Instances       Size\n"
     ]
    },
    {
     "name": "stderr",
     "output_type": "stream",
     "text": [
      "     60/100      1.61G    0.01164         93        224: 100%|██████████| 67/67 [00:04<00:00, 15.93it/s]\n",
      "               classes   top1_acc   top5_acc: 100%|██████████| 4/4 [00:00<00:00, 48.99it/s]"
     ]
    },
    {
     "name": "stdout",
     "output_type": "stream",
     "text": [
      "                   all      0.991          1\n"
     ]
    },
    {
     "name": "stderr",
     "output_type": "stream",
     "text": [
      "\n"
     ]
    },
    {
     "name": "stdout",
     "output_type": "stream",
     "text": [
      "\n",
      "      Epoch    GPU_mem       loss  Instances       Size\n"
     ]
    },
    {
     "name": "stderr",
     "output_type": "stream",
     "text": [
      "     61/100      1.61G   0.007929         93        224: 100%|██████████| 67/67 [00:03<00:00, 18.65it/s]\n",
      "               classes   top1_acc   top5_acc: 100%|██████████| 4/4 [00:00<00:00, 53.46it/s]"
     ]
    },
    {
     "name": "stdout",
     "output_type": "stream",
     "text": [
      "                   all      0.996          1\n"
     ]
    },
    {
     "name": "stderr",
     "output_type": "stream",
     "text": [
      "\n"
     ]
    },
    {
     "name": "stdout",
     "output_type": "stream",
     "text": [
      "\n",
      "      Epoch    GPU_mem       loss  Instances       Size\n"
     ]
    },
    {
     "name": "stderr",
     "output_type": "stream",
     "text": [
      "     62/100      1.61G   0.005649         93        224: 100%|██████████| 67/67 [00:03<00:00, 17.27it/s]\n",
      "               classes   top1_acc   top5_acc: 100%|██████████| 4/4 [00:00<00:00, 52.67it/s]"
     ]
    },
    {
     "name": "stdout",
     "output_type": "stream",
     "text": [
      "                   all      0.998          1\n"
     ]
    },
    {
     "name": "stderr",
     "output_type": "stream",
     "text": [
      "\n"
     ]
    },
    {
     "name": "stdout",
     "output_type": "stream",
     "text": [
      "\n",
      "      Epoch    GPU_mem       loss  Instances       Size\n"
     ]
    },
    {
     "name": "stderr",
     "output_type": "stream",
     "text": [
      "     63/100      1.61G   0.008556         93        224: 100%|██████████| 67/67 [00:03<00:00, 19.11it/s]\n",
      "               classes   top1_acc   top5_acc: 100%|██████████| 4/4 [00:00<00:00, 46.79it/s]"
     ]
    },
    {
     "name": "stdout",
     "output_type": "stream",
     "text": [
      "                   all      0.996          1\n"
     ]
    },
    {
     "name": "stderr",
     "output_type": "stream",
     "text": [
      "\n"
     ]
    },
    {
     "name": "stdout",
     "output_type": "stream",
     "text": [
      "\n",
      "      Epoch    GPU_mem       loss  Instances       Size\n"
     ]
    },
    {
     "name": "stderr",
     "output_type": "stream",
     "text": [
      "     64/100      1.61G   0.007769         93        224: 100%|██████████| 67/67 [00:03<00:00, 18.72it/s]\n",
      "               classes   top1_acc   top5_acc: 100%|██████████| 4/4 [00:00<00:00, 55.73it/s]"
     ]
    },
    {
     "name": "stdout",
     "output_type": "stream",
     "text": [
      "                   all      0.996          1\n"
     ]
    },
    {
     "name": "stderr",
     "output_type": "stream",
     "text": [
      "\n"
     ]
    },
    {
     "name": "stdout",
     "output_type": "stream",
     "text": [
      "\n",
      "      Epoch    GPU_mem       loss  Instances       Size\n"
     ]
    },
    {
     "name": "stderr",
     "output_type": "stream",
     "text": [
      "     65/100      1.61G   0.005779         93        224: 100%|██████████| 67/67 [00:03<00:00, 19.97it/s]\n",
      "               classes   top1_acc   top5_acc: 100%|██████████| 4/4 [00:00<00:00, 52.12it/s]\n"
     ]
    },
    {
     "name": "stdout",
     "output_type": "stream",
     "text": [
      "                   all      0.998          1\n",
      "\n",
      "      Epoch    GPU_mem       loss  Instances       Size\n"
     ]
    },
    {
     "name": "stderr",
     "output_type": "stream",
     "text": [
      "     66/100      1.61G   0.006395         93        224: 100%|██████████| 67/67 [00:03<00:00, 18.58it/s]\n",
      "               classes   top1_acc   top5_acc: 100%|██████████| 4/4 [00:00<00:00, 52.67it/s]"
     ]
    },
    {
     "name": "stdout",
     "output_type": "stream",
     "text": [
      "                   all      0.998          1\n"
     ]
    },
    {
     "name": "stderr",
     "output_type": "stream",
     "text": [
      "\n"
     ]
    },
    {
     "name": "stdout",
     "output_type": "stream",
     "text": [
      "\n",
      "      Epoch    GPU_mem       loss  Instances       Size\n"
     ]
    },
    {
     "name": "stderr",
     "output_type": "stream",
     "text": [
      "     67/100      1.61G   0.003299         93        224: 100%|██████████| 67/67 [00:03<00:00, 17.97it/s]\n",
      "               classes   top1_acc   top5_acc: 100%|██████████| 4/4 [00:00<00:00, 56.38it/s]"
     ]
    },
    {
     "name": "stdout",
     "output_type": "stream",
     "text": [
      "                   all      0.997          1\n"
     ]
    },
    {
     "name": "stderr",
     "output_type": "stream",
     "text": [
      "\n"
     ]
    },
    {
     "name": "stdout",
     "output_type": "stream",
     "text": [
      "\n",
      "      Epoch    GPU_mem       loss  Instances       Size\n"
     ]
    },
    {
     "name": "stderr",
     "output_type": "stream",
     "text": [
      "     68/100      1.61G   0.008194         93        224: 100%|██████████| 67/67 [00:04<00:00, 15.82it/s]\n",
      "               classes   top1_acc   top5_acc: 100%|██████████| 4/4 [00:00<00:00, 50.22it/s]"
     ]
    },
    {
     "name": "stdout",
     "output_type": "stream",
     "text": [
      "                   all      0.996          1\n"
     ]
    },
    {
     "name": "stderr",
     "output_type": "stream",
     "text": [
      "\n"
     ]
    },
    {
     "name": "stdout",
     "output_type": "stream",
     "text": [
      "\n",
      "      Epoch    GPU_mem       loss  Instances       Size\n"
     ]
    },
    {
     "name": "stderr",
     "output_type": "stream",
     "text": [
      "     69/100      1.61G   0.004511         93        224: 100%|██████████| 67/67 [00:03<00:00, 19.34it/s]\n",
      "               classes   top1_acc   top5_acc: 100%|██████████| 4/4 [00:00<00:00, 47.56it/s]"
     ]
    },
    {
     "name": "stdout",
     "output_type": "stream",
     "text": [
      "                   all      0.998          1\n"
     ]
    },
    {
     "name": "stderr",
     "output_type": "stream",
     "text": [
      "\n"
     ]
    },
    {
     "name": "stdout",
     "output_type": "stream",
     "text": [
      "\n",
      "      Epoch    GPU_mem       loss  Instances       Size\n"
     ]
    },
    {
     "name": "stderr",
     "output_type": "stream",
     "text": [
      "     70/100      1.61G   0.002419         93        224: 100%|██████████| 67/67 [00:03<00:00, 19.06it/s]\n",
      "               classes   top1_acc   top5_acc: 100%|██████████| 4/4 [00:00<00:00, 43.55it/s]"
     ]
    },
    {
     "name": "stdout",
     "output_type": "stream",
     "text": [
      "                   all      0.998          1\n"
     ]
    },
    {
     "name": "stderr",
     "output_type": "stream",
     "text": [
      "\n"
     ]
    },
    {
     "name": "stdout",
     "output_type": "stream",
     "text": [
      "\n",
      "      Epoch    GPU_mem       loss  Instances       Size\n"
     ]
    },
    {
     "name": "stderr",
     "output_type": "stream",
     "text": [
      "     71/100      1.61G   0.003675         93        224: 100%|██████████| 67/67 [00:03<00:00, 19.11it/s]\n",
      "               classes   top1_acc   top5_acc: 100%|██████████| 4/4 [00:00<00:00, 44.81it/s]"
     ]
    },
    {
     "name": "stdout",
     "output_type": "stream",
     "text": [
      "                   all      0.978      0.998\n"
     ]
    },
    {
     "name": "stderr",
     "output_type": "stream",
     "text": [
      "\n"
     ]
    },
    {
     "name": "stdout",
     "output_type": "stream",
     "text": [
      "\n",
      "      Epoch    GPU_mem       loss  Instances       Size\n"
     ]
    },
    {
     "name": "stderr",
     "output_type": "stream",
     "text": [
      "     72/100      1.61G   0.005758         93        224: 100%|██████████| 67/67 [00:03<00:00, 17.81it/s]\n",
      "               classes   top1_acc   top5_acc: 100%|██████████| 4/4 [00:00<00:00, 39.40it/s]"
     ]
    },
    {
     "name": "stdout",
     "output_type": "stream",
     "text": [
      "                   all      0.997          1\n"
     ]
    },
    {
     "name": "stderr",
     "output_type": "stream",
     "text": [
      "\n"
     ]
    },
    {
     "name": "stdout",
     "output_type": "stream",
     "text": [
      "\n",
      "      Epoch    GPU_mem       loss  Instances       Size\n"
     ]
    },
    {
     "name": "stderr",
     "output_type": "stream",
     "text": [
      "     73/100      1.61G   0.005506         93        224: 100%|██████████| 67/67 [00:03<00:00, 18.16it/s]\n",
      "               classes   top1_acc   top5_acc: 100%|██████████| 4/4 [00:00<00:00, 55.06it/s]"
     ]
    },
    {
     "name": "stdout",
     "output_type": "stream",
     "text": [
      "                   all      0.997          1\n"
     ]
    },
    {
     "name": "stderr",
     "output_type": "stream",
     "text": [
      "\n"
     ]
    },
    {
     "name": "stdout",
     "output_type": "stream",
     "text": [
      "\n",
      "      Epoch    GPU_mem       loss  Instances       Size\n"
     ]
    },
    {
     "name": "stderr",
     "output_type": "stream",
     "text": [
      "     74/100      1.61G   0.004228         93        224: 100%|██████████| 67/67 [00:03<00:00, 18.48it/s]\n",
      "               classes   top1_acc   top5_acc: 100%|██████████| 4/4 [00:00<00:00, 51.99it/s]"
     ]
    },
    {
     "name": "stdout",
     "output_type": "stream",
     "text": [
      "                   all      0.998          1\n"
     ]
    },
    {
     "name": "stderr",
     "output_type": "stream",
     "text": [
      "\n"
     ]
    },
    {
     "name": "stdout",
     "output_type": "stream",
     "text": [
      "\n",
      "      Epoch    GPU_mem       loss  Instances       Size\n"
     ]
    },
    {
     "name": "stderr",
     "output_type": "stream",
     "text": [
      "     75/100      1.61G   0.002742         93        224: 100%|██████████| 67/67 [00:03<00:00, 17.02it/s]\n",
      "               classes   top1_acc   top5_acc: 100%|██████████| 4/4 [00:00<00:00, 53.56it/s]"
     ]
    },
    {
     "name": "stdout",
     "output_type": "stream",
     "text": [
      "                   all      0.997          1\n"
     ]
    },
    {
     "name": "stderr",
     "output_type": "stream",
     "text": [
      "\n"
     ]
    },
    {
     "name": "stdout",
     "output_type": "stream",
     "text": [
      "\n",
      "      Epoch    GPU_mem       loss  Instances       Size\n"
     ]
    },
    {
     "name": "stderr",
     "output_type": "stream",
     "text": [
      "     76/100      1.61G   0.003662         93        224: 100%|██████████| 67/67 [00:03<00:00, 18.03it/s]\n",
      "               classes   top1_acc   top5_acc: 100%|██████████| 4/4 [00:00<00:00, 53.26it/s]\n"
     ]
    },
    {
     "name": "stdout",
     "output_type": "stream",
     "text": [
      "                   all      0.998          1\n",
      "\n",
      "      Epoch    GPU_mem       loss  Instances       Size\n"
     ]
    },
    {
     "name": "stderr",
     "output_type": "stream",
     "text": [
      "     77/100      1.61G   0.004125         93        224: 100%|██████████| 67/67 [00:03<00:00, 18.07it/s]\n",
      "               classes   top1_acc   top5_acc: 100%|██████████| 4/4 [00:00<00:00, 51.79it/s]"
     ]
    },
    {
     "name": "stdout",
     "output_type": "stream",
     "text": [
      "                   all      0.998          1\n"
     ]
    },
    {
     "name": "stderr",
     "output_type": "stream",
     "text": [
      "\n"
     ]
    },
    {
     "name": "stdout",
     "output_type": "stream",
     "text": [
      "\n",
      "      Epoch    GPU_mem       loss  Instances       Size\n"
     ]
    },
    {
     "name": "stderr",
     "output_type": "stream",
     "text": [
      "     78/100      1.61G   0.005024         93        224: 100%|██████████| 67/67 [00:03<00:00, 19.38it/s]\n",
      "               classes   top1_acc   top5_acc: 100%|██████████| 4/4 [00:00<00:00, 52.68it/s]"
     ]
    },
    {
     "name": "stdout",
     "output_type": "stream",
     "text": [
      "                   all      0.997          1\n"
     ]
    },
    {
     "name": "stderr",
     "output_type": "stream",
     "text": [
      "\n"
     ]
    },
    {
     "name": "stdout",
     "output_type": "stream",
     "text": [
      "\n",
      "      Epoch    GPU_mem       loss  Instances       Size\n"
     ]
    },
    {
     "name": "stderr",
     "output_type": "stream",
     "text": [
      "     79/100      1.61G   0.004003         93        224: 100%|██████████| 67/67 [00:03<00:00, 18.88it/s]\n",
      "               classes   top1_acc   top5_acc: 100%|██████████| 4/4 [00:00<00:00, 42.56it/s]"
     ]
    },
    {
     "name": "stdout",
     "output_type": "stream",
     "text": [
      "                   all      0.996          1\n"
     ]
    },
    {
     "name": "stderr",
     "output_type": "stream",
     "text": [
      "\n"
     ]
    },
    {
     "name": "stdout",
     "output_type": "stream",
     "text": [
      "\n",
      "      Epoch    GPU_mem       loss  Instances       Size\n"
     ]
    },
    {
     "name": "stderr",
     "output_type": "stream",
     "text": [
      "     80/100      1.61G   0.002873         93        224: 100%|██████████| 67/67 [00:03<00:00, 19.22it/s]\n",
      "               classes   top1_acc   top5_acc: 100%|██████████| 4/4 [00:00<00:00, 50.62it/s]"
     ]
    },
    {
     "name": "stdout",
     "output_type": "stream",
     "text": [
      "                   all      0.998          1\n"
     ]
    },
    {
     "name": "stderr",
     "output_type": "stream",
     "text": [
      "\n"
     ]
    },
    {
     "name": "stdout",
     "output_type": "stream",
     "text": [
      "\n",
      "      Epoch    GPU_mem       loss  Instances       Size\n"
     ]
    },
    {
     "name": "stderr",
     "output_type": "stream",
     "text": [
      "     81/100      1.61G   0.003805         93        224: 100%|██████████| 67/67 [00:03<00:00, 19.19it/s]\n",
      "               classes   top1_acc   top5_acc: 100%|██████████| 4/4 [00:00<00:00, 48.08it/s]"
     ]
    },
    {
     "name": "stdout",
     "output_type": "stream",
     "text": [
      "                   all      0.998          1\n"
     ]
    },
    {
     "name": "stderr",
     "output_type": "stream",
     "text": [
      "\n"
     ]
    },
    {
     "name": "stdout",
     "output_type": "stream",
     "text": [
      "\n",
      "      Epoch    GPU_mem       loss  Instances       Size\n"
     ]
    },
    {
     "name": "stderr",
     "output_type": "stream",
     "text": [
      "     82/100      1.61G   0.002803         93        224: 100%|██████████| 67/67 [00:03<00:00, 18.59it/s]\n",
      "               classes   top1_acc   top5_acc: 100%|██████████| 4/4 [00:00<00:00, 42.44it/s]"
     ]
    },
    {
     "name": "stdout",
     "output_type": "stream",
     "text": [
      "                   all      0.998          1\n"
     ]
    },
    {
     "name": "stderr",
     "output_type": "stream",
     "text": [
      "\n"
     ]
    },
    {
     "name": "stdout",
     "output_type": "stream",
     "text": [
      "\n",
      "      Epoch    GPU_mem       loss  Instances       Size\n"
     ]
    },
    {
     "name": "stderr",
     "output_type": "stream",
     "text": [
      "     83/100      1.61G   0.003265         93        224: 100%|██████████| 67/67 [00:04<00:00, 16.42it/s]\n",
      "               classes   top1_acc   top5_acc: 100%|██████████| 4/4 [00:00<00:00, 52.45it/s]"
     ]
    },
    {
     "name": "stdout",
     "output_type": "stream",
     "text": [
      "                   all      0.998          1\n"
     ]
    },
    {
     "name": "stderr",
     "output_type": "stream",
     "text": [
      "\n"
     ]
    },
    {
     "name": "stdout",
     "output_type": "stream",
     "text": [
      "\n",
      "      Epoch    GPU_mem       loss  Instances       Size\n"
     ]
    },
    {
     "name": "stderr",
     "output_type": "stream",
     "text": [
      "     84/100      1.61G   0.004339         93        224: 100%|██████████| 67/67 [00:03<00:00, 19.47it/s]\n",
      "               classes   top1_acc   top5_acc: 100%|██████████| 4/4 [00:00<00:00, 52.58it/s]"
     ]
    },
    {
     "name": "stdout",
     "output_type": "stream",
     "text": [
      "                   all      0.998          1\n"
     ]
    },
    {
     "name": "stderr",
     "output_type": "stream",
     "text": [
      "\n"
     ]
    },
    {
     "name": "stdout",
     "output_type": "stream",
     "text": [
      "\n",
      "      Epoch    GPU_mem       loss  Instances       Size\n"
     ]
    },
    {
     "name": "stderr",
     "output_type": "stream",
     "text": [
      "     85/100      1.61G   0.002223         93        224: 100%|██████████| 67/67 [00:03<00:00, 18.73it/s]\n",
      "               classes   top1_acc   top5_acc: 100%|██████████| 4/4 [00:00<00:00, 52.63it/s]"
     ]
    },
    {
     "name": "stdout",
     "output_type": "stream",
     "text": [
      "                   all      0.998          1\n"
     ]
    },
    {
     "name": "stderr",
     "output_type": "stream",
     "text": [
      "\n"
     ]
    },
    {
     "name": "stdout",
     "output_type": "stream",
     "text": [
      "\n",
      "      Epoch    GPU_mem       loss  Instances       Size\n"
     ]
    },
    {
     "name": "stderr",
     "output_type": "stream",
     "text": [
      "     86/100      1.61G    0.00436         93        224: 100%|██████████| 67/67 [00:03<00:00, 19.18it/s]\n",
      "               classes   top1_acc   top5_acc: 100%|██████████| 4/4 [00:00<00:00, 51.46it/s]"
     ]
    },
    {
     "name": "stdout",
     "output_type": "stream",
     "text": [
      "                   all      0.999          1\n"
     ]
    },
    {
     "name": "stderr",
     "output_type": "stream",
     "text": [
      "\n"
     ]
    },
    {
     "name": "stdout",
     "output_type": "stream",
     "text": [
      "\n",
      "      Epoch    GPU_mem       loss  Instances       Size\n"
     ]
    },
    {
     "name": "stderr",
     "output_type": "stream",
     "text": [
      "     87/100      1.61G   0.003964         93        224: 100%|██████████| 67/67 [00:03<00:00, 19.12it/s]\n",
      "               classes   top1_acc   top5_acc: 100%|██████████| 4/4 [00:00<00:00, 45.49it/s]"
     ]
    },
    {
     "name": "stdout",
     "output_type": "stream",
     "text": [
      "                   all      0.998          1\n"
     ]
    },
    {
     "name": "stderr",
     "output_type": "stream",
     "text": [
      "\n"
     ]
    },
    {
     "name": "stdout",
     "output_type": "stream",
     "text": [
      "\n",
      "      Epoch    GPU_mem       loss  Instances       Size\n"
     ]
    },
    {
     "name": "stderr",
     "output_type": "stream",
     "text": [
      "     88/100      1.61G   0.001965         93        224: 100%|██████████| 67/67 [00:03<00:00, 19.23it/s]\n",
      "               classes   top1_acc   top5_acc: 100%|██████████| 4/4 [00:00<00:00, 38.48it/s]"
     ]
    },
    {
     "name": "stdout",
     "output_type": "stream",
     "text": [
      "                   all      0.998          1\n"
     ]
    },
    {
     "name": "stderr",
     "output_type": "stream",
     "text": [
      "\n"
     ]
    },
    {
     "name": "stdout",
     "output_type": "stream",
     "text": [
      "\n",
      "      Epoch    GPU_mem       loss  Instances       Size\n"
     ]
    },
    {
     "name": "stderr",
     "output_type": "stream",
     "text": [
      "     89/100      1.61G   0.002621         93        224: 100%|██████████| 67/67 [00:03<00:00, 19.49it/s]\n",
      "               classes   top1_acc   top5_acc: 100%|██████████| 4/4 [00:00<00:00, 47.67it/s]"
     ]
    },
    {
     "name": "stdout",
     "output_type": "stream",
     "text": [
      "                   all      0.998          1\n"
     ]
    },
    {
     "name": "stderr",
     "output_type": "stream",
     "text": [
      "\n"
     ]
    },
    {
     "name": "stdout",
     "output_type": "stream",
     "text": [
      "\n",
      "      Epoch    GPU_mem       loss  Instances       Size\n"
     ]
    },
    {
     "name": "stderr",
     "output_type": "stream",
     "text": [
      "     90/100      1.61G   0.002215         93        224: 100%|██████████| 67/67 [00:03<00:00, 19.06it/s]\n",
      "               classes   top1_acc   top5_acc: 100%|██████████| 4/4 [00:00<00:00, 47.83it/s]"
     ]
    },
    {
     "name": "stdout",
     "output_type": "stream",
     "text": [
      "                   all      0.998          1\n"
     ]
    },
    {
     "name": "stderr",
     "output_type": "stream",
     "text": [
      "\n"
     ]
    },
    {
     "name": "stdout",
     "output_type": "stream",
     "text": [
      "\n",
      "      Epoch    GPU_mem       loss  Instances       Size\n"
     ]
    },
    {
     "name": "stderr",
     "output_type": "stream",
     "text": [
      "     91/100      1.61G   0.001494         93        224: 100%|██████████| 67/67 [00:04<00:00, 14.03it/s]\n",
      "               classes   top1_acc   top5_acc: 100%|██████████| 4/4 [00:00<00:00, 53.60it/s]"
     ]
    },
    {
     "name": "stdout",
     "output_type": "stream",
     "text": [
      "                   all      0.997          1\n"
     ]
    },
    {
     "name": "stderr",
     "output_type": "stream",
     "text": [
      "\n"
     ]
    },
    {
     "name": "stdout",
     "output_type": "stream",
     "text": [
      "\n",
      "      Epoch    GPU_mem       loss  Instances       Size\n"
     ]
    },
    {
     "name": "stderr",
     "output_type": "stream",
     "text": [
      "     92/100      1.61G   0.002226         93        224: 100%|██████████| 67/67 [00:03<00:00, 18.54it/s]\n",
      "               classes   top1_acc   top5_acc: 100%|██████████| 4/4 [00:00<00:00, 48.69it/s]"
     ]
    },
    {
     "name": "stdout",
     "output_type": "stream",
     "text": [
      "                   all      0.998          1\n"
     ]
    },
    {
     "name": "stderr",
     "output_type": "stream",
     "text": [
      "\n"
     ]
    },
    {
     "name": "stdout",
     "output_type": "stream",
     "text": [
      "\n",
      "      Epoch    GPU_mem       loss  Instances       Size\n"
     ]
    },
    {
     "name": "stderr",
     "output_type": "stream",
     "text": [
      "     93/100      1.61G   0.001599         93        224: 100%|██████████| 67/67 [00:03<00:00, 18.91it/s]\n",
      "               classes   top1_acc   top5_acc: 100%|██████████| 4/4 [00:00<00:00, 52.07it/s]"
     ]
    },
    {
     "name": "stdout",
     "output_type": "stream",
     "text": [
      "                   all      0.998          1\n"
     ]
    },
    {
     "name": "stderr",
     "output_type": "stream",
     "text": [
      "\n"
     ]
    },
    {
     "name": "stdout",
     "output_type": "stream",
     "text": [
      "\n",
      "      Epoch    GPU_mem       loss  Instances       Size\n"
     ]
    },
    {
     "name": "stderr",
     "output_type": "stream",
     "text": [
      "     94/100      1.61G   0.002255         93        224: 100%|██████████| 67/67 [00:03<00:00, 19.31it/s]\n",
      "               classes   top1_acc   top5_acc: 100%|██████████| 4/4 [00:00<00:00, 49.16it/s]"
     ]
    },
    {
     "name": "stdout",
     "output_type": "stream",
     "text": [
      "                   all      0.998          1\n"
     ]
    },
    {
     "name": "stderr",
     "output_type": "stream",
     "text": [
      "\n"
     ]
    },
    {
     "name": "stdout",
     "output_type": "stream",
     "text": [
      "\n",
      "      Epoch    GPU_mem       loss  Instances       Size\n"
     ]
    },
    {
     "name": "stderr",
     "output_type": "stream",
     "text": [
      "     95/100      1.61G   0.002166         93        224: 100%|██████████| 67/67 [00:03<00:00, 19.21it/s]\n",
      "               classes   top1_acc   top5_acc: 100%|██████████| 4/4 [00:00<00:00, 52.62it/s]"
     ]
    },
    {
     "name": "stdout",
     "output_type": "stream",
     "text": [
      "                   all      0.998          1\n"
     ]
    },
    {
     "name": "stderr",
     "output_type": "stream",
     "text": [
      "\n"
     ]
    },
    {
     "name": "stdout",
     "output_type": "stream",
     "text": [
      "\n",
      "      Epoch    GPU_mem       loss  Instances       Size\n"
     ]
    },
    {
     "name": "stderr",
     "output_type": "stream",
     "text": [
      "     96/100      1.61G   0.001954         93        224: 100%|██████████| 67/67 [00:03<00:00, 19.08it/s]\n",
      "               classes   top1_acc   top5_acc: 100%|██████████| 4/4 [00:00<00:00, 45.61it/s]"
     ]
    },
    {
     "name": "stdout",
     "output_type": "stream",
     "text": [
      "                   all      0.998          1\n"
     ]
    },
    {
     "name": "stderr",
     "output_type": "stream",
     "text": [
      "\n"
     ]
    },
    {
     "name": "stdout",
     "output_type": "stream",
     "text": [
      "\n",
      "      Epoch    GPU_mem       loss  Instances       Size\n"
     ]
    },
    {
     "name": "stderr",
     "output_type": "stream",
     "text": [
      "     97/100      1.61G  0.0008826         93        224: 100%|██████████| 67/67 [00:03<00:00, 18.89it/s]\n",
      "               classes   top1_acc   top5_acc: 100%|██████████| 4/4 [00:00<00:00, 56.61it/s]"
     ]
    },
    {
     "name": "stdout",
     "output_type": "stream",
     "text": [
      "                   all      0.998          1\n"
     ]
    },
    {
     "name": "stderr",
     "output_type": "stream",
     "text": [
      "\n"
     ]
    },
    {
     "name": "stdout",
     "output_type": "stream",
     "text": [
      "\n",
      "      Epoch    GPU_mem       loss  Instances       Size\n"
     ]
    },
    {
     "name": "stderr",
     "output_type": "stream",
     "text": [
      "     98/100      1.61G   0.001017         93        224: 100%|██████████| 67/67 [00:03<00:00, 18.91it/s]\n",
      "               classes   top1_acc   top5_acc: 100%|██████████| 4/4 [00:00<00:00, 48.53it/s]"
     ]
    },
    {
     "name": "stdout",
     "output_type": "stream",
     "text": [
      "                   all      0.998          1\n"
     ]
    },
    {
     "name": "stderr",
     "output_type": "stream",
     "text": [
      "\n"
     ]
    },
    {
     "name": "stdout",
     "output_type": "stream",
     "text": [
      "\n",
      "      Epoch    GPU_mem       loss  Instances       Size\n"
     ]
    },
    {
     "name": "stderr",
     "output_type": "stream",
     "text": [
      "     99/100      1.61G   0.001434         93        224: 100%|██████████| 67/67 [00:04<00:00, 16.39it/s]\n",
      "               classes   top1_acc   top5_acc: 100%|██████████| 4/4 [00:00<00:00, 49.02it/s]"
     ]
    },
    {
     "name": "stdout",
     "output_type": "stream",
     "text": [
      "                   all      0.998          1\n"
     ]
    },
    {
     "name": "stderr",
     "output_type": "stream",
     "text": [
      "\n"
     ]
    },
    {
     "name": "stdout",
     "output_type": "stream",
     "text": [
      "\n",
      "      Epoch    GPU_mem       loss  Instances       Size\n"
     ]
    },
    {
     "name": "stderr",
     "output_type": "stream",
     "text": [
      "    100/100      1.61G   0.001155         93        224: 100%|██████████| 67/67 [00:03<00:00, 19.13it/s]\n",
      "               classes   top1_acc   top5_acc: 100%|██████████| 4/4 [00:00<00:00, 46.18it/s]"
     ]
    },
    {
     "name": "stdout",
     "output_type": "stream",
     "text": [
      "                   all      0.998          1\n"
     ]
    },
    {
     "name": "stderr",
     "output_type": "stream",
     "text": [
      "\n"
     ]
    },
    {
     "name": "stdout",
     "output_type": "stream",
     "text": [
      "\n",
      "100 epochs completed in 0.120 hours.\n",
      "Optimizer stripped from /home/zilian/projects/bachelorproef/runs/classify/train12/weights/last.pt, 3.2MB\n",
      "Optimizer stripped from /home/zilian/projects/bachelorproef/runs/classify/train12/weights/best.pt, 3.2MB\n",
      "\n",
      "Validating /home/zilian/projects/bachelorproef/runs/classify/train12/weights/best.pt...\n",
      "Ultralytics 8.3.67 🚀 Python-3.10.12 torch-2.5.1+cu121 CUDA:0 (NVIDIA GeForce RTX 4090, 24564MiB)\n",
      "YOLO11n-cls summary (fused): 112 layers, 1,545,239 parameters, 0 gradients, 3.2 GFLOPs\n",
      "\u001b[34m\u001b[1mtrain:\u001b[0m /home/zilian/projects/bachelorproef/experiment/data/training_datasets/same_background/train... found 8745 images in 15 classes ✅ \n",
      "\u001b[34m\u001b[1mval:\u001b[0m /home/zilian/projects/bachelorproef/experiment/data/training_datasets/same_background/val... found 975 images in 15 classes ✅ \n",
      "\u001b[34m\u001b[1mtest:\u001b[0m None...\n"
     ]
    },
    {
     "name": "stderr",
     "output_type": "stream",
     "text": [
      "               classes   top1_acc   top5_acc: 100%|██████████| 4/4 [00:00<00:00, 38.50it/s]\n"
     ]
    },
    {
     "name": "stdout",
     "output_type": "stream",
     "text": [
      "                   all      0.999          1\n",
      "Speed: 0.0ms preprocess, 0.1ms inference, 0.0ms loss, 0.0ms postprocess per image\n",
      "Results saved to \u001b[1m/home/zilian/projects/bachelorproef/runs/classify/train12\u001b[0m\n",
      "Speed: 0.0ms preprocess, 0.1ms inference, 0.0ms loss, 0.0ms postprocess per image\n",
      "Results saved to \u001b[1m/home/zilian/projects/bachelorproef/runs/classify/train12\u001b[0m\n"
     ]
    }
   ],
   "source": [
    "class_ids = [str(anno.id) for anno in tracked_classes_same_background]\n",
    "results = model.train(\n",
    "    data=TRAINING_DATASETS_PATH / \"same_background\",\n",
    "    epochs=100,\n",
    "    imgsz=224,\n",
    "    device=\"cuda\",\n",
    "    batch=128,\n",
    ")"
   ]
  },
  {
   "cell_type": "code",
   "execution_count": 22,
   "id": "74c4ba44",
   "metadata": {},
   "outputs": [],
   "source": [
    "if YOLO_MODELS_PATH.exists():\n",
    "    shutil.rmtree(YOLO_MODELS_PATH)\n",
    "YOLO_MODELS_PATH.mkdir(parents=True, exist_ok=True)\n",
    "\n",
    "model.save(\n",
    "    str(YOLO_MODELS_PATH / \"yolo11n-cls-same-background.pt\"),\n",
    ")"
   ]
  },
  {
   "cell_type": "code",
   "execution_count": 23,
   "id": "c506b280",
   "metadata": {},
   "outputs": [
    {
     "data": {
      "text/plain": [
       "{0: '1',\n",
       " 1: '10',\n",
       " 2: '11',\n",
       " 3: '12',\n",
       " 4: '13',\n",
       " 5: '14',\n",
       " 6: '15',\n",
       " 7: '2',\n",
       " 8: '3',\n",
       " 9: '4',\n",
       " 10: '5',\n",
       " 11: '6',\n",
       " 12: '7',\n",
       " 13: '8',\n",
       " 14: '9'}"
      ]
     },
     "execution_count": 23,
     "metadata": {},
     "output_type": "execute_result"
    }
   ],
   "source": [
    "model = YOLO(str(YOLO_MODELS_PATH / \"yolo11n-cls-same-background.pt\"))\n",
    "\n",
    "model.names"
   ]
  },
  {
   "cell_type": "markdown",
   "id": "8686ddbf",
   "metadata": {},
   "source": [
    "# Test Models"
   ]
  },
  {
   "cell_type": "code",
   "execution_count": 24,
   "id": "5cc268f8",
   "metadata": {},
   "outputs": [
    {
     "data": {
      "text/html": [
       "<div>\n",
       "<style scoped>\n",
       "    .dataframe tbody tr th:only-of-type {\n",
       "        vertical-align: middle;\n",
       "    }\n",
       "\n",
       "    .dataframe tbody tr th {\n",
       "        vertical-align: top;\n",
       "    }\n",
       "\n",
       "    .dataframe thead th {\n",
       "        text-align: right;\n",
       "    }\n",
       "</style>\n",
       "<table border=\"1\" class=\"dataframe\">\n",
       "  <thead>\n",
       "    <tr style=\"text-align: right;\">\n",
       "      <th></th>\n",
       "      <th>recording_id</th>\n",
       "      <th>frame_idx</th>\n",
       "      <th>class_id</th>\n",
       "      <th>mask_area</th>\n",
       "      <th>laplacian_variance</th>\n",
       "      <th>x1</th>\n",
       "      <th>y1</th>\n",
       "      <th>x2</th>\n",
       "      <th>y2</th>\n",
       "    </tr>\n",
       "  </thead>\n",
       "  <tbody>\n",
       "    <tr>\n",
       "      <th>0</th>\n",
       "      <td>67b71a70-da64-467a-9fb6-91bc29265fd1</td>\n",
       "      <td>223</td>\n",
       "      <td>1</td>\n",
       "      <td>5437</td>\n",
       "      <td>55.662777</td>\n",
       "      <td>1046</td>\n",
       "      <td>467</td>\n",
       "      <td>1108</td>\n",
       "      <td>567</td>\n",
       "    </tr>\n",
       "    <tr>\n",
       "      <th>1</th>\n",
       "      <td>67b71a70-da64-467a-9fb6-91bc29265fd1</td>\n",
       "      <td>42</td>\n",
       "      <td>1</td>\n",
       "      <td>1431</td>\n",
       "      <td>144.979676</td>\n",
       "      <td>645</td>\n",
       "      <td>451</td>\n",
       "      <td>679</td>\n",
       "      <td>498</td>\n",
       "    </tr>\n",
       "    <tr>\n",
       "      <th>2</th>\n",
       "      <td>67b71a70-da64-467a-9fb6-91bc29265fd1</td>\n",
       "      <td>86</td>\n",
       "      <td>1</td>\n",
       "      <td>1408</td>\n",
       "      <td>166.952593</td>\n",
       "      <td>665</td>\n",
       "      <td>437</td>\n",
       "      <td>698</td>\n",
       "      <td>485</td>\n",
       "    </tr>\n",
       "    <tr>\n",
       "      <th>3</th>\n",
       "      <td>67b71a70-da64-467a-9fb6-91bc29265fd1</td>\n",
       "      <td>242</td>\n",
       "      <td>1</td>\n",
       "      <td>8198</td>\n",
       "      <td>54.435912</td>\n",
       "      <td>902</td>\n",
       "      <td>449</td>\n",
       "      <td>978</td>\n",
       "      <td>572</td>\n",
       "    </tr>\n",
       "    <tr>\n",
       "      <th>4</th>\n",
       "      <td>67b71a70-da64-467a-9fb6-91bc29265fd1</td>\n",
       "      <td>21</td>\n",
       "      <td>1</td>\n",
       "      <td>1426</td>\n",
       "      <td>164.828114</td>\n",
       "      <td>642</td>\n",
       "      <td>450</td>\n",
       "      <td>676</td>\n",
       "      <td>497</td>\n",
       "    </tr>\n",
       "  </tbody>\n",
       "</table>\n",
       "</div>"
      ],
      "text/plain": [
       "                           recording_id  frame_idx  class_id  mask_area  \\\n",
       "0  67b71a70-da64-467a-9fb6-91bc29265fd1        223         1       5437   \n",
       "1  67b71a70-da64-467a-9fb6-91bc29265fd1         42         1       1431   \n",
       "2  67b71a70-da64-467a-9fb6-91bc29265fd1         86         1       1408   \n",
       "3  67b71a70-da64-467a-9fb6-91bc29265fd1        242         1       8198   \n",
       "4  67b71a70-da64-467a-9fb6-91bc29265fd1         21         1       1426   \n",
       "\n",
       "   laplacian_variance    x1   y1    x2   y2  \n",
       "0           55.662777  1046  467  1108  567  \n",
       "1          144.979676   645  451   679  498  \n",
       "2          166.952593   665  437   698  485  \n",
       "3           54.435912   902  449   978  572  \n",
       "4          164.828114   642  450   676  497  "
      ]
     },
     "execution_count": 24,
     "metadata": {},
     "output_type": "execute_result"
    }
   ],
   "source": [
    "GROUND_TRUTH_PATH = Path(\"data/ground_truth.csv\")\n",
    "ground_truth_df = pd.read_csv(GROUND_TRUTH_PATH)\n",
    "ground_truth_df.head()"
   ]
  },
  {
   "cell_type": "code",
   "execution_count": 25,
   "id": "6f8ac028",
   "metadata": {},
   "outputs": [],
   "source": [
    "object_rois_per_recording = {}\n",
    "object_df_per_recording = {}\n",
    "\n",
    "for trial_recording_id in FULLY_LABELED_RECORDINGS:\n",
    "    object_rois = {}\n",
    "\n",
    "    gaze_segmentation_results_path = GAZE_SEGMENTATION_RESULTS_PATH / trial_recording_id\n",
    "    gaze_segmentation_results = list(gaze_segmentation_results_path.iterdir())\n",
    "    gaze_segmentation_results.sort(key=lambda x: int(x.stem))\n",
    "    gaze_segmentation_results = [\n",
    "        np.load(result, allow_pickle=True) for result in gaze_segmentation_results\n",
    "    ]\n",
    "\n",
    "    object_df = pd.read_csv(OBJECT_DATASETS_PATH / f\"{trial_recording_id}.csv\")\n",
    "    object_df = object_df.drop(columns=[\"embedding\"])\n",
    "    viewed_object_ids = object_df[\"object_id\"].unique()\n",
    "    object_df_per_recording[trial_recording_id] = object_df\n",
    "\n",
    "    for result in gaze_segmentation_results:\n",
    "        frame_idx = int(result[\"frame_idx\"])\n",
    "        for i, object_id in enumerate(result[\"object_ids\"]):\n",
    "            if object_id not in viewed_object_ids:\n",
    "                continue\n",
    "\n",
    "            object_rois[f\"{object_id}_{frame_idx}\"] = result[\"rois\"][i]\n",
    "\n",
    "    object_rois_per_recording[trial_recording_id] = object_rois"
   ]
  },
  {
   "cell_type": "code",
   "execution_count": 47,
   "id": "4d533d6c",
   "metadata": {},
   "outputs": [],
   "source": [
    "def fuse_track(object_rows, rois, model, conf_threshold: float):\n",
    "    \"\"\"\n",
    "    Select final class by quality‑weighted fusion, then report\n",
    "    confidence as the *unweighted* mean probability for that class.\n",
    "    \"\"\"\n",
    "    # 1) model prediction → (N, C) tensor → numpy\n",
    "    results = model(rois, device=\"cuda\", verbose=False)\n",
    "    probs = np.stack([r.probs.data.cpu().numpy() for r in results])  # (N, C)\n",
    "\n",
    "    # 2) quality weights\n",
    "    mask = object_rows[\"mask_area\"].to_numpy(np.float32)\n",
    "    det_conf = object_rows[\"confidence\"].to_numpy(np.float32)\n",
    "    mask_n = mask / mask.max() if mask.max() > 0 else np.ones_like(mask)\n",
    "    weights = mask_n * det_conf  # (N,)\n",
    "\n",
    "    if weights.sum() == 0:  # all zeros guard\n",
    "        weights = np.ones_like(weights)\n",
    "\n",
    "    # 3) pick class with highest weighted avg prob\n",
    "    weighted_avg = (weights[:, None] * probs).sum(axis=0) / weights.sum()\n",
    "    class_id = int(weighted_avg.argmax())\n",
    "\n",
    "    # 4) track confidence = mean of *original* probs for this class\n",
    "    track_conf = float(probs[:, class_id].mean())\n",
    "\n",
    "    # 5) rejection rule\n",
    "    if track_conf < conf_threshold:\n",
    "        return UNKNOWN_CLASS_ID, 0.0\n",
    "\n",
    "    return int(model.names[class_id]), track_conf\n",
    "\n",
    "\n",
    "def fuse_track_by_majority_vote(object_rows, rois, model, conf_threshold: float):\n",
    "    \"\"\"\n",
    "    Majority‑vote fusion **without frame weighting**.\n",
    "\n",
    "    Workflow\n",
    "    --------\n",
    "    1. Run the model once on all ROI crops → (N_frames, N_classes) soft‑max.\n",
    "    2. Each frame votes for the class with the highest probability.\n",
    "    3. The class with the most votes = final class_id.\n",
    "    4. Track‑level confidence = **mean soft‑max probability of that class\n",
    "       across all frames** (not the vote share).\n",
    "    5. If that mean‑prob < conf_threshold → label as UNKNOWN_CLASS_ID.\n",
    "\n",
    "    Returns\n",
    "    -------\n",
    "    (predicted_class_name_or_unknown, confidence)\n",
    "    \"\"\"\n",
    "    # 1) batched inference\n",
    "    results = model(rois, device=\"cuda\", verbose=False)\n",
    "    probs = np.stack([r.probs.data.cpu().numpy() for r in results])  # (N, C)\n",
    "\n",
    "    # 2) per‑frame winner\n",
    "    frame_preds = probs.argmax(axis=1)  # (N,)\n",
    "\n",
    "    # 3) majority vote\n",
    "    counts = np.bincount(frame_preds, minlength=probs.shape[1])\n",
    "    class_id = int(counts.argmax())\n",
    "\n",
    "    # 4) confidence = average probability for that class\n",
    "    avg_prob = float(probs[:, class_id].mean())  # 0‑1\n",
    "\n",
    "    # 5) rejection rule\n",
    "    if avg_prob < conf_threshold:\n",
    "        return UNKNOWN_CLASS_ID, 0.0\n",
    "\n",
    "    return int(model.names[class_id]), avg_prob\n",
    "\n",
    "\n",
    "def process_grid_combination(params):\n",
    "    cm = create_confusion_matrix()\n",
    "\n",
    "    (conf,) = params\n",
    "\n",
    "    for trial_recording_id in FULLY_LABELED_RECORDINGS:\n",
    "        object_rois = object_rois_per_recording[trial_recording_id]\n",
    "        object_df = object_df_per_recording[trial_recording_id]\n",
    "        object_ids = object_df[\"object_id\"].unique()\n",
    "\n",
    "        predictions_df = object_df.copy()\n",
    "        for object_id in object_ids:\n",
    "            object_rows = object_df[object_df[\"object_id\"] == object_id]\n",
    "            rois = [\n",
    "                object_rois[f\"{object_id}_{int(row['frame_idx'])}\"]\n",
    "                for _, row in object_rows.iterrows()\n",
    "            ]\n",
    "\n",
    "            cls_id, cls_conf = fuse_track_by_majority_vote(\n",
    "                object_rows, rois, model, conf_threshold=conf\n",
    "            )\n",
    "\n",
    "            # add predicted_class_id and prediction_confidence to object_df based on object_id\n",
    "            predictions_df.loc[\n",
    "                object_df[\"object_id\"] == object_id, \"predicted_class_id\"\n",
    "            ] = cls_id\n",
    "            predictions_df.loc[\n",
    "                object_df[\"object_id\"] == object_id, \"prediction_confidence\"\n",
    "            ] = cls_conf\n",
    "\n",
    "        gt_df = ground_truth_df[\n",
    "            ground_truth_df[\"recording_id\"] == trial_recording_id\n",
    "        ].copy()\n",
    "\n",
    "        predictions_df.to_csv(f\"predictions_{trial_recording_id}.csv\", index=False)\n",
    "\n",
    "        evaluation_df = evaluate_predictions(predictions_df, gt_df, iou_threshold=0.5)\n",
    "\n",
    "        update_confusion_matrix(cm, evaluation_df)\n",
    "\n",
    "        fp_per_class = {class_id: 0 for class_id in CLASS_ID_TO_NAME.keys()}\n",
    "        fn_per_class = {class_id: 0 for class_id in CLASS_ID_TO_NAME.keys()}\n",
    "        for _, row in evaluation_df.iterrows():\n",
    "            true = row.get(\"true_class_id\")\n",
    "            pred = row.get(\"predicted_class_id\")\n",
    "\n",
    "            if pd.isna(true) and pred != UNKNOWN_CLASS_ID:\n",
    "                # A missing true class indicates a false positive\n",
    "                fp_per_class[pred] += 1\n",
    "\n",
    "            if pd.isna(pred):\n",
    "                # A missing predicted class indicates a false negative\n",
    "                fn_per_class[true] += 1\n",
    "\n",
    "    metrics = calculate_metrics(cm)\n",
    "    return params, cm, metrics, fp_per_class, fn_per_class"
   ]
  },
  {
   "cell_type": "code",
   "execution_count": 49,
   "id": "16d2a087",
   "metadata": {},
   "outputs": [
    {
     "name": "stdout",
     "output_type": "stream",
     "text": [
      "Processing 1 possibilities using multiprocessing...\n",
      "Processing possibility 1/1...\n",
      "All done!\n"
     ]
    }
   ],
   "source": [
    "conf_values = [0.5]  # , 0.6, 0.7, 0.8, 0.9]\n",
    "\n",
    "total_possibilities = len(conf_values)\n",
    "num_possibilities_tried = 0\n",
    "\n",
    "params_list = list(itertools.product(conf_values))\n",
    "total_possibilities = len(params_list)\n",
    "\n",
    "print(f\"Processing {total_possibilities} possibilities using multiprocessing...\")\n",
    "\n",
    "grid_search_results = {}\n",
    "for params in params_list:\n",
    "    num_possibilities_tried += 1\n",
    "    print(f\"Processing possibility {num_possibilities_tried}/{total_possibilities}...\")\n",
    "\n",
    "    params, cm, metrics, fp_per_class, fn_per_class = process_grid_combination(params)\n",
    "\n",
    "    result = {\n",
    "        \"cm\": cm,\n",
    "        \"metrics\": metrics,\n",
    "        \"fp_per_class\": fp_per_class,\n",
    "        \"fn_per_class\": fn_per_class,\n",
    "    }\n",
    "    grid_search_results[params] = result\n",
    "\n",
    "print(\"All done!\")"
   ]
  },
  {
   "cell_type": "code",
   "execution_count": 50,
   "id": "4488aa71",
   "metadata": {},
   "outputs": [
    {
     "data": {
      "image/png": "[encoded data removed]",
      "text/plain": [
       "<Figure size 960x960 with 2 Axes>"
      ]
     },
     "metadata": {},
     "output_type": "display_data"
    },
    {
     "name": "stdout",
     "output_type": "stream",
     "text": [
      "Best grid key: (0.5,)\n"
     ]
    },
    {
     "data": {
      "image/png": "[encoded data removed]",
      "text/plain": [
       "<Figure size 1000x800 with 1 Axes>"
      ]
     },
     "metadata": {},
     "output_type": "display_data"
    },
    {
     "data": {
      "image/png": "[encoded data removed]",
      "text/plain": [
       "<Figure size 1000x800 with 1 Axes>"
      ]
     },
     "metadata": {},
     "output_type": "display_data"
    }
   ],
   "source": [
    "# Select the grid key with the highest overall F1 score.\n",
    "max_f1 = -1\n",
    "best_key = None\n",
    "for key, result in grid_search_results.items():\n",
    "    f1 = result[\"metrics\"][\"micro\"][\"f1\"]\n",
    "    if f1 > max_f1:\n",
    "        max_f1 = f1\n",
    "        best_key = key\n",
    "\n",
    "best_metrics = grid_search_results[best_key][\"metrics\"]\n",
    "best_confusion_matrix = grid_search_results[best_key][\"cm\"]\n",
    "\n",
    "# Display confusion matrix\n",
    "render_confusion_matrix(best_confusion_matrix)\n",
    "print(f\"Best grid key: {best_key}\")\n",
    "\n",
    "\n",
    "# Render false positives per class using matplotlib\n",
    "def render_per_class_metrics(fp_per_class: dict[str, int], title: str, ylabel: str):\n",
    "    fig, ax = plt.subplots(figsize=(10, 8))\n",
    "    ax.set_title(title)\n",
    "    ax.set_xlabel(\"Class\")\n",
    "    ax.set_ylabel(ylabel)\n",
    "\n",
    "    # Sort pairs by descending count\n",
    "    pairs = sorted(fp_per_class.items(), key=lambda x: x[1], reverse=True)\n",
    "    class_ids = [int(p[0]) for p in pairs]\n",
    "    counts = [p[1] for p in pairs]\n",
    "    labels = [CLASS_ID_TO_NAME.get(cid, f\"Unknown {cid}\") for cid in class_ids]\n",
    "\n",
    "    indices = range(len(pairs))  # bar positions\n",
    "\n",
    "    ax.bar(indices, counts)\n",
    "    ax.set_xticks(indices)\n",
    "    ax.set_xticklabels(labels, rotation=45)\n",
    "\n",
    "    plt.tight_layout()\n",
    "    plt.show()\n",
    "\n",
    "\n",
    "render_per_class_metrics(\n",
    "    grid_search_results[best_key][\"fp_per_class\"],\n",
    "    title=\"False Positives per Class\",\n",
    "    ylabel=\"Number of False Positives\",\n",
    ")\n",
    "\n",
    "render_per_class_metrics(\n",
    "    grid_search_results[best_key][\"fn_per_class\"],\n",
    "    title=\"False Negatives per Class\",\n",
    "    ylabel=\"Number of False Negatives\",\n",
    ")"
   ]
  },
  {
   "cell_type": "code",
   "execution_count": 14,
   "id": "45c3f348",
   "metadata": {},
   "outputs": [
    {
     "ename": "NameError",
     "evalue": "name 'per_class_metrics_df' is not defined",
     "output_type": "error",
     "traceback": [
      "\u001b[0;31m---------------------------------------------------------------------------\u001b[0m",
      "\u001b[0;31mNameError\u001b[0m                                 Traceback (most recent call last)",
      "Cell \u001b[0;32mIn[14], line 8\u001b[0m\n\u001b[1;32m      5\u001b[0m metrics \u001b[38;5;241m=\u001b[39m [\u001b[38;5;124m\"\u001b[39m\u001b[38;5;124mprecision\u001b[39m\u001b[38;5;124m\"\u001b[39m, \u001b[38;5;124m\"\u001b[39m\u001b[38;5;124mrecall\u001b[39m\u001b[38;5;124m\"\u001b[39m, \u001b[38;5;124m\"\u001b[39m\u001b[38;5;124mf1\u001b[39m\u001b[38;5;124m\"\u001b[39m, \u001b[38;5;124m\"\u001b[39m\u001b[38;5;124munknown_rate\u001b[39m\u001b[38;5;124m\"\u001b[39m]\n\u001b[1;32m      7\u001b[0m \u001b[38;5;66;03m# Loop over elke class in de DataFrame.\u001b[39;00m\n\u001b[0;32m----> 8\u001b[0m \u001b[38;5;28;01mfor\u001b[39;00m class_id \u001b[38;5;129;01min\u001b[39;00m \u001b[43mper_class_metrics_df\u001b[49m[\u001b[38;5;124m\"\u001b[39m\u001b[38;5;124mclass_id\u001b[39m\u001b[38;5;124m\"\u001b[39m]\u001b[38;5;241m.\u001b[39munique():\n\u001b[1;32m      9\u001b[0m     \u001b[38;5;66;03m# Filter de DataFrame voor de huidige class.\u001b[39;00m\n\u001b[1;32m     10\u001b[0m     df_class \u001b[38;5;241m=\u001b[39m per_class_metrics_df[per_class_metrics_df[\u001b[38;5;124m\"\u001b[39m\u001b[38;5;124mclass_id\u001b[39m\u001b[38;5;124m\"\u001b[39m] \u001b[38;5;241m==\u001b[39m class_id]\n\u001b[1;32m     12\u001b[0m     \u001b[38;5;66;03m# Maak een figuur met horizontaal gestapelde subplots (één per grid parameter).\u001b[39;00m\n",
      "\u001b[0;31mNameError\u001b[0m: name 'per_class_metrics_df' is not defined"
     ]
    }
   ],
   "source": [
    "import matplotlib.lines as mlines\n",
    "\n",
    "# Definieer de grid parameters en de metrics die je wilt plotten.\n",
    "grid_params = [\"sample_count\", \"k\", \"confidence\", \"min_mask_area_size\"]\n",
    "metrics = [\"precision\", \"recall\", \"f1\", \"unknown_rate\"]\n",
    "\n",
    "# Loop over elke class in de DataFrame.\n",
    "for class_id in per_class_metrics_df[\"class_id\"].unique():\n",
    "    # Filter de DataFrame voor de huidige class.\n",
    "    df_class = per_class_metrics_df[per_class_metrics_df[\"class_id\"] == class_id]\n",
    "\n",
    "    # Maak een figuur met horizontaal gestapelde subplots (één per grid parameter).\n",
    "    fig, axes = plt.subplots(\n",
    "        1, len(grid_params), figsize=(5 * len(grid_params), 4), sharey=True\n",
    "    )\n",
    "\n",
    "    # Zorg dat axes altijd een lijst is.\n",
    "    if len(grid_params) == 1:\n",
    "        axes = [axes]\n",
    "\n",
    "    # Per subplot: groepeer op de huidige parameter en plot de lijnen voor elke metric.\n",
    "    for ax, param in zip(axes, grid_params, strict=False):\n",
    "        grouped = df_class.groupby(param)[metrics].mean().reset_index()\n",
    "\n",
    "        for met in metrics:\n",
    "            ax.plot(grouped[param], grouped[met], marker=\"o\", color=color_mapping[met])\n",
    "\n",
    "        ax.set_xlabel(param)\n",
    "        ax.grid(True)\n",
    "        ax.set_title(f\"{CLASS_ID_TO_NAME.get(class_id, class_id)} - {param}\")\n",
    "\n",
    "    axes[0].set_ylabel(\"Metric waarde\")\n",
    "\n",
    "    # Maak één globale legende met vaste kleuren.\n",
    "    legend_handles = []\n",
    "    for met in metrics:\n",
    "        line = mlines.Line2D(\n",
    "            [], [], color=color_mapping[met], marker=\"o\", markersize=4, label=met\n",
    "        )\n",
    "        legend_handles.append(line)\n",
    "\n",
    "    fig.legend(\n",
    "        handles=legend_handles,\n",
    "        loc=\"upper center\",\n",
    "        ncol=len(metrics),\n",
    "        bbox_to_anchor=(0.5, 1.05),\n",
    "    )\n",
    "    fig.suptitle(\n",
    "        f\"Metrics vs Parameters for {CLASS_ID_TO_NAME.get(class_id, class_id)}\", y=1.12\n",
    "    )\n",
    "    plt.tight_layout()\n",
    "    plt.show()"
   ]
  },
  {
   "cell_type": "code",
   "execution_count": null,
   "id": "1023c767",
   "metadata": {},
   "outputs": [],
   "source": [
    "if FINAL_PREDICTIONS_PATH.exists():\n",
    "    shutil.rmtree(FINAL_PREDICTIONS_PATH)\n",
    "FINAL_PREDICTIONS_PATH.mkdir(parents=True, exist_ok=True)\n",
    "\n",
    "for trial_recording_id in FULLY_LABELED_RECORDINGS:\n",
    "    object_rois = object_rois_per_recording[trial_recording_id]\n",
    "    object_df = object_df_per_recording[trial_recording_id]\n",
    "    object_ids = object_df[\"object_id\"].unique()\n",
    "\n",
    "    predictions_df = object_df.copy()\n",
    "    for object_id in object_ids:\n",
    "        object_rows = object_df[object_df[\"object_id\"] == object_id]\n",
    "        rois = [\n",
    "            object_rois[f\"{object_id}_{int(row['frame_idx'])}\"]\n",
    "            for _, row in object_rows.iterrows()\n",
    "        ]\n",
    "\n",
    "        cls_id, cls_conf = fuse_track_by_majority_vote(\n",
    "            object_rows, rois, model, conf_threshold=0.5\n",
    "        )\n",
    "\n",
    "        # add predicted_class_id and prediction_confidence to object_df based on object_id\n",
    "        predictions_df.loc[object_df[\"object_id\"] == object_id, \"predicted_class_id\"] = (\n",
    "            cls_id\n",
    "        )\n",
    "        predictions_df.loc[\n",
    "            object_df[\"object_id\"] == object_id, \"prediction_confidence\"\n",
    "        ] = cls_conf\n",
    "\n",
    "    predictions_df.to_csv(\n",
    "        FINAL_PREDICTIONS_PATH / f\"{trial_recording_id}.csv\", index=False\n",
    "    )"
   ]
  }
 ],
 "metadata": {
  "kernelspec": {
   "display_name": "bachelorproef-py3.10",
   "language": "python",
   "name": "python3"
  },
  "language_info": {
   "codemirror_mode": {
    "name": "ipython",
    "version": 3
   },
   "file_extension": ".py",
   "mimetype": "text/x-python",
   "name": "python",
   "nbconvert_exporter": "python",
   "pygments_lexer": "ipython3",
   "version": "3.10.12"
  }
 },
 "nbformat": 4,
 "nbformat_minor": 5
}
