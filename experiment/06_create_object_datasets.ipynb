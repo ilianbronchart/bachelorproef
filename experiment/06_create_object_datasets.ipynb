{
    "cells": [
        {
            "cell_type": "code",
            "execution_count": null,
            "id": "a111f936",
            "metadata": {},
            "outputs": [
                {
                    "name": "stderr",
                    "output_type": "stream",
                    "text": [
                        "2025-04-15 20:46:45.786858: I tensorflow/core/util/port.cc:153] oneDNN custom operations are on. You may see slightly different numerical results due to floating-point round-off errors from different computation orders. To turn them off, set the environment variable `TF_ENABLE_ONEDNN_OPTS=0`.\n",
                        "2025-04-15 20:46:46.080163: E external/local_xla/xla/stream_executor/cuda/cuda_fft.cc:477] Unable to register cuFFT factory: Attempting to register factory for plugin cuFFT when one has already been registered\n",
                        "WARNING: All log messages before absl::InitializeLog() is called are written to STDERR\n",
                        "E0000 00:00:1744742806.206513  294604 cuda_dnn.cc:8310] Unable to register cuDNN factory: Attempting to register factory for plugin cuDNN when one has already been registered\n",
                        "E0000 00:00:1744742806.241958  294604 cuda_blas.cc:1418] Unable to register cuBLAS factory: Attempting to register factory for plugin cuBLAS when one has already been registered\n",
                        "2025-04-15 20:46:46.519987: I tensorflow/core/platform/cpu_feature_guard.cc:210] This TensorFlow binary is optimized to use available CPU instructions in performance-critical operations.\n",
                        "To enable the following instructions: AVX2 AVX512F AVX512_VNNI AVX512_BF16 FMA, in other operations, rebuild TensorFlow with the appropriate compiler flags.\n",
                        "Using a slow image processor as `use_fast` is unset and a slow processor was saved with this model. `use_fast=True` will be the default behavior in v4.48, even if the model was saved with a slow processor. This will result in minor differences in outputs. You'll still be able to use a slow processor with `use_fast=False`.\n"
                    ]
                }
            ],
            "source": [
                "import shutil\n",
                "from typing import Any\n",
                "\n",
                "import numpy as np\n",
                "import pandas as pd\n",
                "from src.api.services import embeddings_service\n",
                "from tqdm import tqdm\n",
                "\n",
                "from experiment.settings import (\n",
                "    FULLY_LABELED_RECORDINGS,\n",
                "    GAZE_SEGMENTATION_RESULTS_PATH,\n",
                "    OBJECT_DATASETS_PATH,\n",
                "    TRIAL_RECORDING_IDS,\n",
                ")"
            ]
        },
        {
            "cell_type": "code",
            "execution_count": null,
            "id": "5231553a",
            "metadata": {},
            "outputs": [],
            "source": [
                "dinov2 = embeddings_service.load_model()"
            ]
        },
        {
            "cell_type": "code",
            "execution_count": 3,
            "id": "bde5629b",
            "metadata": {},
            "outputs": [
                {
                    "data": {
                        "text/plain": [
                            "['boxes',\n",
                            " 'rois',\n",
                            " 'masks',\n",
                            " 'object_ids',\n",
                            " 'frame_idx',\n",
                            " 'gaze_position',\n",
                            " 'confidences']"
                        ]
                    },
                    "execution_count": 3,
                    "metadata": {},
                    "output_type": "execute_result"
                }
            ],
            "source": [
                "file = np.load(\n",
                "    GAZE_SEGMENTATION_RESULTS_PATH / \"32f02db7-adc0-4556-a2da-ed2ba60a58c9\" / \"4.npz\"\n",
                ")\n",
                "file.files"
            ]
        },
        {
            "cell_type": "code",
            "execution_count": null,
            "id": "37331195",
            "metadata": {},
            "outputs": [],
            "source": [
                "def create_objects_dataframe(gaze_segmentation_results: list[Any]):\n",
                "    object_results = []\n",
                "    for result in gaze_segmentation_results:\n",
                "        # get the first batch of embeddings since we only have one batch\n",
                "        embeddings, _, _ = list(\n",
                "            embeddings_service.get_embeddings(dinov2, result[\"rois\"])\n",
                "        )[0]\n",
                "        boxes = result[\"boxes\"]\n",
                "\n",
                "        for i in range(len(result[\"rois\"])):\n",
                "            x1, y1, x2, y2 = boxes[i]\n",
                "            object_results.append({\n",
                "                \"frame_idx\": result[\"frame_idx\"],\n",
                "                \"object_id\": result[\"object_ids\"][i],\n",
                "                \"confidence\": result[\"confidences\"][i],\n",
                "                \"embedding\": embeddings[i].tolist(),\n",
                "                \"mask_area\": np.sum(result[\"masks\"][i]),\n",
                "                \"x1\": x1,\n",
                "                \"y1\": y1,\n",
                "                \"x2\": x2,\n",
                "                \"y2\": y2,\n",
                "            })\n",
                "\n",
                "    return pd.DataFrame(object_results)"
            ]
        },
        {
            "cell_type": "code",
            "execution_count": null,
            "id": "f97f7806",
            "metadata": {},
            "outputs": [
                {
                    "name": "stderr",
                    "output_type": "stream",
                    "text": [
                        "Processing trial recordings:   0%|          | 0/14 [00:00<?, ?it/s]"
                    ]
                },
                {
                    "name": "stderr",
                    "output_type": "stream",
                    "text": [
                        "Processing trial recordings: 100%|██████████| 14/14 [04:03<00:00, 17.40s/it]\n"
                    ]
                }
            ],
            "source": [
                "if OBJECT_DATASETS_PATH.exists():\n",
                "    shutil.rmtree(OBJECT_DATASETS_PATH)\n",
                "OBJECT_DATASETS_PATH.mkdir(parents=True, exist_ok=True)\n",
                "\n",
                "for trial_recording_id in tqdm(TRIAL_RECORDING_IDS, desc=\"Processing trial recordings\"):\n",
                "    if trial_recording_id not in FULLY_LABELED_RECORDINGS:\n",
                "        continue\n",
                "    # Load gaze segmentation results for this recording\n",
                "    gaze_segmentation_results_path = GAZE_SEGMENTATION_RESULTS_PATH / trial_recording_id\n",
                "    gaze_segmentation_results = list(gaze_segmentation_results_path.iterdir())\n",
                "    gaze_segmentation_results.sort(key=lambda x: int(x.stem))\n",
                "    gaze_segmentation_results = [\n",
                "        np.load(result, allow_pickle=True) for result in gaze_segmentation_results\n",
                "    ]\n",
                "\n",
                "    objects_df = create_objects_dataframe(gaze_segmentation_results)\n",
                "    objects_df.to_csv(OBJECT_DATASETS_PATH / f\"{trial_recording_id}.csv\", index=False)"
            ]
        }
    ],
    "metadata": {
        "kernelspec": {
            "display_name": ".venv",
            "language": "python",
            "name": "python3"
        },
        "language_info": {
            "codemirror_mode": {
                "name": "ipython",
                "version": 3
            },
            "file_extension": ".py",
            "mimetype": "text/x-python",
            "name": "python",
            "nbconvert_exporter": "python",
            "pygments_lexer": "ipython3",
            "version": "3.10.12"
        }
    },
    "nbformat": 4,
    "nbformat_minor": 5
}