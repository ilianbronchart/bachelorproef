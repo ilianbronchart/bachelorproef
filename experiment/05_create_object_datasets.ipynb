{
 "cells": [
  {
   "cell_type": "code",
   "execution_count": 3,
   "id": "a111f936",
   "metadata": {},
   "outputs": [],
   "source": [
    "import os\n",
    "os.environ[\"CHECKPOINTS_PATH\"] = \"../checkpoints\"\n",
    "\n",
    "import shutil\n",
    "from typing import Any\n",
    "\n",
    "import numpy as np\n",
    "import pandas as pd\n",
    "from src.api.services import embeddings_service\n",
    "from tqdm import tqdm\n",
    "\n",
    "from experiment.settings import (\n",
    "    FULLY_LABELED_RECORDINGS,\n",
    "    GAZE_SEGMENTATION_RESULTS_PATH,\n",
    "    OBJECT_DATASETS_PATH,\n",
    "    TRIAL_RECORDING_IDS,\n",
    ")"
   ]
  },
  {
   "cell_type": "code",
   "execution_count": 4,
   "id": "5231553a",
   "metadata": {},
   "outputs": [],
   "source": [
    "dinov2 = embeddings_service.load_model()"
   ]
  },
  {
   "cell_type": "code",
   "execution_count": 5,
   "id": "bde5629b",
   "metadata": {},
   "outputs": [
    {
     "data": {
      "text/plain": [
       "['boxes',\n",
       " 'rois',\n",
       " 'masks',\n",
       " 'object_ids',\n",
       " 'frame_idx',\n",
       " 'gaze_position',\n",
       " 'confidences']"
      ]
     },
     "execution_count": 5,
     "metadata": {},
     "output_type": "execute_result"
    }
   ],
   "source": [
    "file = np.load(\n",
    "    GAZE_SEGMENTATION_RESULTS_PATH / \"32f02db7-adc0-4556-a2da-ed2ba60a58c9\" / \"4.npz\"\n",
    ")\n",
    "file.files"
   ]
  },
  {
   "cell_type": "code",
   "execution_count": 6,
   "id": "37331195",
   "metadata": {},
   "outputs": [],
   "source": [
    "def create_objects_dataframe(gaze_segmentation_results: list[Any]):\n",
    "    object_results = []\n",
    "    for result in gaze_segmentation_results:\n",
    "        # get the first batch of embeddings since we only have one batch\n",
    "        embeddings, _, _ = list(\n",
    "            embeddings_service.get_embeddings(dinov2, result[\"rois\"])\n",
    "        )[0]\n",
    "        boxes = result[\"boxes\"]\n",
    "\n",
    "        for i in range(len(result[\"rois\"])):\n",
    "            x1, y1, x2, y2 = boxes[i]\n",
    "            object_results.append({\n",
    "                \"frame_idx\": result[\"frame_idx\"],\n",
    "                \"object_id\": result[\"object_ids\"][i],\n",
    "                \"confidence\": result[\"confidences\"][i],\n",
    "                \"embedding\": embeddings[i].tolist(),\n",
    "                \"mask_area\": np.sum(result[\"masks\"][i]),\n",
    "                \"x1\": x1,\n",
    "                \"y1\": y1,\n",
    "                \"x2\": x2,\n",
    "                \"y2\": y2,\n",
    "            })\n",
    "\n",
    "    return pd.DataFrame(object_results)"
   ]
  },
  {
   "cell_type": "code",
   "execution_count": 7,
   "id": "f97f7806",
   "metadata": {},
   "outputs": [
    {
     "name": "stderr",
     "output_type": "stream",
     "text": [
      "Processing trial recordings: 100%|██████████| 14/14 [02:08<00:00,  9.20s/it]\n"
     ]
    }
   ],
   "source": [
    "if OBJECT_DATASETS_PATH.exists():\n",
    "    shutil.rmtree(OBJECT_DATASETS_PATH)\n",
    "OBJECT_DATASETS_PATH.mkdir(parents=True, exist_ok=True)\n",
    "\n",
    "for trial_recording_id in tqdm(FULLY_LABELED_RECORDINGS, desc=\"Processing trial recordings\"):\n",
    "    # Load gaze segmentation results for this recording\n",
    "    gaze_segmentation_results_path = GAZE_SEGMENTATION_RESULTS_PATH / trial_recording_id\n",
    "    gaze_segmentation_results = list(gaze_segmentation_results_path.iterdir())\n",
    "    gaze_segmentation_results.sort(key=lambda x: int(x.stem))\n",
    "    gaze_segmentation_results = [\n",
    "        np.load(result, allow_pickle=True) for result in gaze_segmentation_results\n",
    "    ]\n",
    "\n",
    "    objects_df = create_objects_dataframe(gaze_segmentation_results)\n",
    "    objects_df.to_csv(OBJECT_DATASETS_PATH / f\"{trial_recording_id}.csv\", index=False)"
   ]
  }
 ],
 "metadata": {
  "kernelspec": {
   "display_name": "bachelorproef-py3.10",
   "language": "python",
   "name": "python3"
  },
  "language_info": {
   "codemirror_mode": {
    "name": "ipython",
    "version": 3
   },
   "file_extension": ".py",
   "mimetype": "text/x-python",
   "name": "python",
   "nbconvert_exporter": "python",
   "pygments_lexer": "ipython3",
   "version": "3.10.12"
  }
 },
 "nbformat": 4,
 "nbformat_minor": 5
}
