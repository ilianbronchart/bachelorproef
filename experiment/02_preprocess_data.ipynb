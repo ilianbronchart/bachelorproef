{
 "cells": [
  {
   "cell_type": "code",
   "execution_count": null,
   "id": "bea2bb71",
   "metadata": {},
   "outputs": [],
   "source": [
    "import gzip\n",
    "import json\n",
    "import os\n",
    "import shutil\n",
    "from collections import Counter\n",
    "from pathlib import Path\n",
    "\n",
    "from src.utils import extract_frames_to_dir\n",
    "from tqdm import tqdm\n",
    "from settings import RECORDING_FRAMES_PATH"
   ]
  },
  {
   "cell_type": "markdown",
   "id": "5317c0f3",
   "metadata": {},
   "source": [
    "# Check if the expected number of recordings are present"
   ]
  },
  {
   "cell_type": "code",
   "execution_count": 4,
   "id": "052247e8",
   "metadata": {},
   "outputs": [
    {
     "name": "stdout",
     "output_type": "stream",
     "text": [
      "Experiment recordings count: 14\n",
      "Labeling recordings count: 2\n"
     ]
    }
   ],
   "source": [
    "# Define the base paths using absolute paths\n",
    "RAW_EXPERIMENT_RECORDINGS_PATH = os.path.abspath(\"data/raw/experiment_recordings/\")\n",
    "RAW_LABELING_RECORDINGS_PATH = os.path.abspath(\"data/raw/labeling_recordings/\")\n",
    "\n",
    "# List all subdirectories (full paths) in the experiment recordings folder\n",
    "experiment_dirs = [\n",
    "    os.path.join(RAW_EXPERIMENT_RECORDINGS_PATH, d)\n",
    "    for d in os.listdir(RAW_EXPERIMENT_RECORDINGS_PATH)\n",
    "    if os.path.isdir(os.path.join(RAW_EXPERIMENT_RECORDINGS_PATH, d))\n",
    "]\n",
    "\n",
    "# List all subdirectories (full paths) in the labeling recordings folder\n",
    "labeling_dirs = [\n",
    "    os.path.join(RAW_LABELING_RECORDINGS_PATH, d)\n",
    "    for d in os.listdir(RAW_LABELING_RECORDINGS_PATH)\n",
    "    if os.path.isdir(os.path.join(RAW_LABELING_RECORDINGS_PATH, d))\n",
    "]\n",
    "\n",
    "# Assert the counts\n",
    "assert len(experiment_dirs) == 14, (\n",
    "    f\"Expected 14 recordings in experiment recordings folder, but found {len(experiment_dirs)}.\"\n",
    ")\n",
    "assert len(labeling_dirs) == 2, (\n",
    "    f\"Expected 2 recordings in labeling recordings folder, but found {len(labeling_dirs)}.\"\n",
    ")\n",
    "\n",
    "print(\"Experiment recordings count:\", len(experiment_dirs))\n",
    "print(\"Labeling recordings count:\", len(labeling_dirs))"
   ]
  },
  {
   "cell_type": "markdown",
   "id": "73c2ed6f",
   "metadata": {},
   "source": [
    "# Preprocess the necessary recording files and save them to processed directory "
   ]
  },
  {
   "cell_type": "code",
   "execution_count": 5,
   "id": "bc64de26",
   "metadata": {},
   "outputs": [],
   "source": [
    "PROCESSED_RECORDINGS_PATH = Path(\"data/recordings/\")\n",
    "if PROCESSED_RECORDINGS_PATH.exists():\n",
    "    shutil.rmtree(PROCESSED_RECORDINGS_PATH)\n",
    "PROCESSED_RECORDINGS_PATH.mkdir(parents=True, exist_ok=True)"
   ]
  },
  {
   "cell_type": "code",
   "execution_count": 6,
   "id": "4e7995e6",
   "metadata": {},
   "outputs": [],
   "source": [
    "def preprocess_recording(recording_path, output_path, assert_in_metadata=True):\n",
    "    # read metadata\n",
    "    with open(recording_path / \"recording.g3\") as file:\n",
    "        metadata = json.load(file)\n",
    "        recording_id = metadata[\"uuid\"]\n",
    "\n",
    "        if assert_in_metadata:\n",
    "            # Check if the recording id is in the metadata\n",
    "            assert recording_id in recordings_metadata.keys(), (\n",
    "                f\"Recording {recording_id} not found in metadata.\"\n",
    "            )\n",
    "\n",
    "    # copy the recording to the output path with name recording_id.mp4 (from recording_path/scenevideo.mp4)\n",
    "    scene_video_path = recording_path / \"scenevideo.mp4\"\n",
    "    output_video_path = output_path / f\"{recording_id}.mp4\"\n",
    "    shutil.copy(scene_video_path, output_video_path)\n",
    "\n",
    "    # unzip gaze data and save as recording_id.tsv (from recording_path/gazedata.gz)\n",
    "    with gzip.open(recording_path / \"gazedata.gz\") as zipFile:\n",
    "        with open(output_path / f\"{recording_id}.tsv\", \"wb\") as unzippedFile:\n",
    "            for line in zipFile:\n",
    "                unzippedFile.write(line)\n",
    "\n",
    "\n",
    "for recording in experiment_dirs:\n",
    "    preprocess_recording(Path(recording), PROCESSED_RECORDINGS_PATH)\n",
    "\n",
    "for recording in labeling_dirs:\n",
    "    preprocess_recording(\n",
    "        Path(recording), PROCESSED_RECORDINGS_PATH, assert_in_metadata=False\n",
    "    )"
   ]
  },
  {
   "cell_type": "markdown",
   "id": "4aea5dfe",
   "metadata": {},
   "source": [
    "# Extract Frames for all Recordings"
   ]
  },
  {
   "cell_type": "code",
   "execution_count": null,
   "id": "3d2859cb",
   "metadata": {},
   "outputs": [
    {
     "name": "stderr",
     "output_type": "stream",
     "text": [
      "Extracting frames:   0%|          | 0/16 [00:00<?, ?it/s]"
     ]
    },
    {
     "name": "stderr",
     "output_type": "stream",
     "text": [
      "Extracting frames: 100%|██████████| 16/16 [02:28<00:00,  9.31s/it]\n"
     ]
    }
   ],
   "source": [
    "recordings = list(PROCESSED_RECORDINGS_PATH.glob(\"*.mp4\"))\n",
    "recording_ids = [recording.stem for recording in recordings]\n",
    "\n",
    "if RECORDING_FRAMES_PATH.exists():\n",
    "    shutil.rmtree(RECORDING_FRAMES_PATH)\n",
    "RECORDING_FRAMES_PATH.mkdir(parents=True, exist_ok=True)\n",
    "\n",
    "for recording_id in tqdm(recording_ids, desc=\"Extracting frames\"):\n",
    "    recording_video_path = PROCESSED_RECORDINGS_PATH / f\"{recording_id}.mp4\"\n",
    "    recording_frames_path = RECORDING_FRAMES_PATH / recording_id\n",
    "    recording_frames_path.mkdir(parents=True, exist_ok=True)\n",
    "    extract_frames_to_dir(recording_video_path, recording_frames_path)"
   ]
  },
  {
   "cell_type": "markdown",
   "id": "6e562ba7",
   "metadata": {},
   "source": [
    "# Build the sqlite database for the application \n",
    "\n",
    "> # Note: This code is OUTDATED"
   ]
  },
  {
   "cell_type": "code",
   "execution_count": null,
   "id": "556fc5b7",
   "metadata": {},
   "outputs": [],
   "source": [
    "# from datetime import datetime, timedelta\n",
    "\n",
    "# from sqlalchemy.orm import Session\n",
    "# from src.api.db import Base, engine\n",
    "# from src.api.models.db import CalibrationRecording, Recording, SimRoom, SimRoomClass"
   ]
  },
  {
   "cell_type": "code",
   "execution_count": null,
   "id": "230587d9",
   "metadata": {},
   "outputs": [],
   "source": [
    "# # Prepare an empty database\n",
    "# Base.metadata.drop_all(bind=engine)\n",
    "# Base.metadata.create_all(bind=engine)\n",
    "\n",
    "# with Session(engine) as session:\n",
    "#     # Create a SimRoom\n",
    "#     simroom = SimRoom(name=\"Controlled Experiment Room\")\n",
    "#     session.add()\n",
    "#     # Flush to get the ID without committing the transaction\n",
    "#     session.flush()\n",
    "\n",
    "#     # Create Classes:\n",
    "#     for i, object_name in enumerate(object_counter.keys()):\n",
    "#         simroom_class = SimRoomClass(\n",
    "#             id=i + 1,\n",
    "#             simroom_id=simroom.id,\n",
    "#             class_name=object_name,\n",
    "#         )\n",
    "#         session.add(simroom_class)\n",
    "\n",
    "#     # Create recordings\n",
    "#     for recording_path in experiment_dirs + labeling_dirs:\n",
    "#         with open(os.path.join(recording_path, \"recording.g3\")) as file:\n",
    "#             metadata = json.load(file)\n",
    "#             recording_id = metadata[\"uuid\"]\n",
    "#             visible_name = metadata[\"name\"]\n",
    "#             created = datetime.strptime(metadata[\"created\"], \"%Y-%m-%dT%H:%M:%S.%fZ\")\n",
    "#             created = created.isoformat()\n",
    "#             duration = str(timedelta(seconds=metadata[\"duration\"]))\n",
    "#             scene_video_url = \"not important\"\n",
    "#             gaze_data_url = \"not important\"\n",
    "\n",
    "#         with open(os.path.join(recording_path, \"meta/participant\")) as file:\n",
    "#             meta = json.load(file)\n",
    "#             participant = meta[\"name\"]\n",
    "\n",
    "#             # Manually override wrong participant name\n",
    "#             if participant == \"\":\n",
    "#                 participant = \"Ilian Opname 12\"\n",
    "#             elif participant == \"Ilian Opname 12\":\n",
    "#                 participant = \"Ilian Opname 14\"\n",
    "#             elif participant == \"Ilian Opname 10 b\":\n",
    "#                 participant = \"Ilian Opname 10\"\n",
    "\n",
    "#         recording = Recording(\n",
    "#             id=recording_id,\n",
    "#             visible_name=visible_name,\n",
    "#             created=created,\n",
    "#             duration=duration,\n",
    "#             scene_video_url=scene_video_url,\n",
    "#             gaze_data_url=gaze_data_url,\n",
    "#             participant=participant,\n",
    "#         )\n",
    "#         session.add(recording)\n",
    "#         # Flush to get the ID without committing the transaction\n",
    "#         session.flush()\n",
    "\n",
    "#         calibration_recording = CalibrationRecording(\n",
    "#             simroom_id=simroom.id, recording_id=recording_id\n",
    "#         )\n",
    "#         session.add(calibration_recording)\n",
    "\n",
    "#     session.commit()"
   ]
  }
 ],
 "metadata": {
  "kernelspec": {
   "display_name": ".venv",
   "language": "python",
   "name": "python3"
  },
  "language_info": {
   "codemirror_mode": {
    "name": "ipython",
    "version": 3
   },
   "file_extension": ".py",
   "mimetype": "text/x-python",
   "name": "python",
   "nbconvert_exporter": "python",
   "pygments_lexer": "ipython3",
   "version": "3.10.12"
  }
 },
 "nbformat": 4,
 "nbformat_minor": 5
}
