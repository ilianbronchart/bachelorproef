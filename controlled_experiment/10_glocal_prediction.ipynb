{
 "cells": [
  {
   "cell_type": "code",
   "execution_count": 1,
   "id": "89b76405",
   "metadata": {},
   "outputs": [],
   "source": [
    "import cv2\n",
    "\n",
    "from controlled_experiment.settings import TRAINING_DATASETS_PATH"
   ]
  },
  {
   "cell_type": "code",
   "execution_count": 2,
   "id": "d99dddec",
   "metadata": {},
   "outputs": [],
   "source": [
    "images_per_class = {}\n",
    "\n",
    "train_class_sample_paths = list(\n",
    "    (TRAINING_DATASETS_PATH / \"same_background\" / \"train\").iterdir()\n",
    ")\n",
    "val_class_sample_paths = list(\n",
    "    (TRAINING_DATASETS_PATH / \"same_background\" / \"val\").iterdir()\n",
    ")\n",
    "class_sample_paths = train_class_sample_paths + val_class_sample_paths\n",
    "\n",
    "for class_samples_path in class_sample_paths:\n",
    "    class_id = int(class_samples_path.stem)\n",
    "\n",
    "    if class_id not in images_per_class:\n",
    "        images_per_class[class_id] = []\n",
    "\n",
    "    images_per_class[class_id].extend(list(class_samples_path.iterdir()))\n",
    "\n",
    "# Pick the top 50 highest resolution images per class:\n",
    "selected_images_per_class = {}\n",
    "\n",
    "for class_id, images in images_per_class.items():\n",
    "    image_sizes = []\n",
    "    for image in images:\n",
    "        img = cv2.imread(str(image))\n",
    "\n",
    "        image_sizes.append(img.shape[0] * img.shape[1])\n",
    "\n",
    "    sorted_images = sorted(\n",
    "        zip(images, image_sizes, strict=False), key=lambda x: x[1], reverse=True\n",
    "    )\n",
    "    selected_images = [image for image, _ in sorted_images[:50]]\n",
    "    selected_images_per_class[class_id] = selected_images"
   ]
  }
 ],
 "metadata": {
  "kernelspec": {
   "display_name": ".venv",
   "language": "python",
   "name": "python3"
  },
  "language_info": {
   "codemirror_mode": {
    "name": "ipython",
    "version": 3
   },
   "file_extension": ".py",
   "mimetype": "text/x-python",
   "name": "python",
   "nbconvert_exporter": "python",
   "pygments_lexer": "ipython3",
   "version": "3.10.12"
  }
 },
 "nbformat": 4,
 "nbformat_minor": 5
}
