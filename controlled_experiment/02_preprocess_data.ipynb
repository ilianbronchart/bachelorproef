{
 "cells": [
  {
   "cell_type": "code",
   "execution_count": 23,
   "id": "bea2bb71",
   "metadata": {},
   "outputs": [],
   "source": [
    "import gzip\n",
    "import json\n",
    "import os\n",
    "import shutil\n",
    "from collections import Counter\n",
    "from pathlib import Path\n",
    "\n",
    "from src.utils import extract_frames_to_dir\n",
    "from tqdm import tqdm"
   ]
  },
  {
   "cell_type": "code",
   "execution_count": 17,
   "id": "e494f75d",
   "metadata": {},
   "outputs": [],
   "source": [
    "with open(\"experiment_metadata.json\") as file:\n",
    "    experiment_metadata = json.load(file)\n",
    "    recordings_metadata = experiment_metadata[\"trial_recordings_metadata\"]"
   ]
  },
  {
   "cell_type": "markdown",
   "id": "11c50df4",
   "metadata": {},
   "source": [
    "# Check if metadata is correct"
   ]
  },
  {
   "cell_type": "code",
   "execution_count": 18,
   "id": "15a5df89",
   "metadata": {},
   "outputs": [
    {
     "name": "stdout",
     "output_type": "stream",
     "text": [
      "Unique ID count: 14\n"
     ]
    },
    {
     "ename": "TypeError",
     "evalue": "unhashable type: 'list'",
     "output_type": "error",
     "traceback": [
      "\u001b[0;31m---------------------------------------------------------------------------\u001b[0m",
      "\u001b[0;31mTypeError\u001b[0m                                 Traceback (most recent call last)",
      "Cell \u001b[0;32mIn[18], line 12\u001b[0m\n\u001b[1;32m      9\u001b[0m     all_objects\u001b[38;5;241m.\u001b[39mextend(record\u001b[38;5;241m.\u001b[39mget(\u001b[38;5;124m\"\u001b[39m\u001b[38;5;124mobjects\u001b[39m\u001b[38;5;124m\"\u001b[39m, []))\n\u001b[1;32m     11\u001b[0m \u001b[38;5;66;03m# Count the frequency of each object name\u001b[39;00m\n\u001b[0;32m---> 12\u001b[0m object_counter \u001b[38;5;241m=\u001b[39m \u001b[43mCounter\u001b[49m\u001b[43m(\u001b[49m\u001b[43mall_objects\u001b[49m\u001b[43m)\u001b[49m\n\u001b[1;32m     14\u001b[0m \u001b[38;5;66;03m# Assert that there are exactly 15 different object names\u001b[39;00m\n\u001b[1;32m     15\u001b[0m \u001b[38;5;28;01massert\u001b[39;00m \u001b[38;5;28mlen\u001b[39m(object_counter) \u001b[38;5;241m==\u001b[39m \u001b[38;5;241m15\u001b[39m, (\n\u001b[1;32m     16\u001b[0m     \u001b[38;5;124mf\u001b[39m\u001b[38;5;124m\"\u001b[39m\u001b[38;5;124mExpected 15 unique objects, but found \u001b[39m\u001b[38;5;132;01m{\u001b[39;00m\u001b[38;5;28mlen\u001b[39m(object_counter)\u001b[38;5;132;01m}\u001b[39;00m\u001b[38;5;124m.\u001b[39m\u001b[38;5;124m\"\u001b[39m\n\u001b[1;32m     17\u001b[0m )\n",
      "File \u001b[0;32m/usr/lib/python3.10/collections/__init__.py:577\u001b[0m, in \u001b[0;36mCounter.__init__\u001b[0;34m(self, iterable, **kwds)\u001b[0m\n\u001b[1;32m    566\u001b[0m \u001b[38;5;250m\u001b[39m\u001b[38;5;124;03m'''Create a new, empty Counter object.  And if given, count elements\u001b[39;00m\n\u001b[1;32m    567\u001b[0m \u001b[38;5;124;03mfrom an input iterable.  Or, initialize the count from another mapping\u001b[39;00m\n\u001b[1;32m    568\u001b[0m \u001b[38;5;124;03mof elements to their counts.\u001b[39;00m\n\u001b[0;32m   (...)\u001b[0m\n\u001b[1;32m    574\u001b[0m \n\u001b[1;32m    575\u001b[0m \u001b[38;5;124;03m'''\u001b[39;00m\n\u001b[1;32m    576\u001b[0m \u001b[38;5;28msuper\u001b[39m()\u001b[38;5;241m.\u001b[39m\u001b[38;5;21m__init__\u001b[39m()\n\u001b[0;32m--> 577\u001b[0m \u001b[38;5;28;43mself\u001b[39;49m\u001b[38;5;241;43m.\u001b[39;49m\u001b[43mupdate\u001b[49m\u001b[43m(\u001b[49m\u001b[43miterable\u001b[49m\u001b[43m,\u001b[49m\u001b[43m \u001b[49m\u001b[38;5;241;43m*\u001b[39;49m\u001b[38;5;241;43m*\u001b[39;49m\u001b[43mkwds\u001b[49m\u001b[43m)\u001b[49m\n",
      "File \u001b[0;32m/usr/lib/python3.10/collections/__init__.py:670\u001b[0m, in \u001b[0;36mCounter.update\u001b[0;34m(self, iterable, **kwds)\u001b[0m\n\u001b[1;32m    668\u001b[0m             \u001b[38;5;28msuper\u001b[39m()\u001b[38;5;241m.\u001b[39mupdate(iterable)\n\u001b[1;32m    669\u001b[0m     \u001b[38;5;28;01melse\u001b[39;00m:\n\u001b[0;32m--> 670\u001b[0m         \u001b[43m_count_elements\u001b[49m\u001b[43m(\u001b[49m\u001b[38;5;28;43mself\u001b[39;49m\u001b[43m,\u001b[49m\u001b[43m \u001b[49m\u001b[43miterable\u001b[49m\u001b[43m)\u001b[49m\n\u001b[1;32m    671\u001b[0m \u001b[38;5;28;01mif\u001b[39;00m kwds:\n\u001b[1;32m    672\u001b[0m     \u001b[38;5;28mself\u001b[39m\u001b[38;5;241m.\u001b[39mupdate(kwds)\n",
      "\u001b[0;31mTypeError\u001b[0m: unhashable type: 'list'"
     ]
    }
   ],
   "source": [
    "# Count unique recording IDs\n",
    "unique_ids_count = len(recordings_metadata)\n",
    "assert unique_ids_count == 14, f\"Expected 14 unique IDs, but found {unique_ids_count}.\"\n",
    "print(f\"Unique ID count: {unique_ids_count}\")\n",
    "\n",
    "# Collect all object names from the JSON data\n",
    "all_objects = []\n",
    "for record in recordings_metadata.values():\n",
    "    all_objects.extend(record.get(\"objects\", []))\n",
    "\n",
    "# Count the frequency of each object name\n",
    "object_counter = Counter(all_objects)\n",
    "\n",
    "# Assert that there are exactly 15 different object names\n",
    "assert len(object_counter) == 15, (\n",
    "    f\"Expected 15 unique objects, but found {len(object_counter)}.\"\n",
    ")\n",
    "\n",
    "# Print the unique object count and the frequency of each object\n",
    "print(f\"Unique object count: {len(object_counter)}\")\n",
    "print(\"Object frequencies:\")\n",
    "for obj, freq in object_counter.items():\n",
    "    print(f\"{obj}: {freq}\")"
   ]
  },
  {
   "cell_type": "markdown",
   "id": "5317c0f3",
   "metadata": {},
   "source": [
    "# Check if the expected number of recordings are present"
   ]
  },
  {
   "cell_type": "code",
   "execution_count": 19,
   "id": "052247e8",
   "metadata": {},
   "outputs": [
    {
     "name": "stdout",
     "output_type": "stream",
     "text": [
      "Experiment recordings count: 14\n",
      "Labeling recordings count: 2\n"
     ]
    }
   ],
   "source": [
    "# Define the base paths using absolute paths\n",
    "RAW_EXPERIMENT_RECORDINGS_PATH = os.path.abspath(\"data/raw/experiment_recordings/\")\n",
    "RAW_LABELING_RECORDINGS_PATH = os.path.abspath(\"data/raw/labeling_recordings/\")\n",
    "\n",
    "# List all subdirectories (full paths) in the experiment recordings folder\n",
    "experiment_dirs = [\n",
    "    os.path.join(RAW_EXPERIMENT_RECORDINGS_PATH, d)\n",
    "    for d in os.listdir(RAW_EXPERIMENT_RECORDINGS_PATH)\n",
    "    if os.path.isdir(os.path.join(RAW_EXPERIMENT_RECORDINGS_PATH, d))\n",
    "]\n",
    "\n",
    "# List all subdirectories (full paths) in the labeling recordings folder\n",
    "labeling_dirs = [\n",
    "    os.path.join(RAW_LABELING_RECORDINGS_PATH, d)\n",
    "    for d in os.listdir(RAW_LABELING_RECORDINGS_PATH)\n",
    "    if os.path.isdir(os.path.join(RAW_LABELING_RECORDINGS_PATH, d))\n",
    "]\n",
    "\n",
    "# Assert the counts\n",
    "assert len(experiment_dirs) == 14, (\n",
    "    f\"Expected 14 recordings in experiment recordings folder, but found {len(experiment_dirs)}.\"\n",
    ")\n",
    "assert len(labeling_dirs) == 2, (\n",
    "    f\"Expected 2 recordings in labeling recordings folder, but found {len(labeling_dirs)}.\"\n",
    ")\n",
    "\n",
    "print(\"Experiment recordings count:\", len(experiment_dirs))\n",
    "print(\"Labeling recordings count:\", len(labeling_dirs))"
   ]
  },
  {
   "cell_type": "markdown",
   "id": "73c2ed6f",
   "metadata": {},
   "source": [
    "# Preprocess the necessary recording files and save them to processed directory "
   ]
  },
  {
   "cell_type": "code",
   "execution_count": 20,
   "id": "bc64de26",
   "metadata": {},
   "outputs": [],
   "source": [
    "PROCESSED_RECORDINGS_PATH = Path(\"data/recordings/\")\n",
    "if PROCESSED_RECORDINGS_PATH.exists():\n",
    "    shutil.rmtree(PROCESSED_RECORDINGS_PATH)\n",
    "PROCESSED_RECORDINGS_PATH.mkdir(parents=True, exist_ok=True)"
   ]
  },
  {
   "cell_type": "code",
   "execution_count": 21,
   "id": "4e7995e6",
   "metadata": {},
   "outputs": [],
   "source": [
    "def preprocess_recording(recording_path, output_path, assert_in_metadata=True):\n",
    "    # read metadata\n",
    "    with open(recording_path / \"recording.g3\") as file:\n",
    "        metadata = json.load(file)\n",
    "        uuid = metadata[\"uuid\"]\n",
    "\n",
    "        if assert_in_metadata:\n",
    "            # Check if the UUID is in the metadata\n",
    "            assert uuid in recordings_metadata.keys(), (\n",
    "                f\"UUID {uuid} not found in metadata.\"\n",
    "            )\n",
    "\n",
    "    # copy the recording to the output path with name uuid.mp4 (from recording_path/scenevideo.mp4)\n",
    "    scene_video_path = recording_path / \"scenevideo.mp4\"\n",
    "    output_video_path = output_path / f\"{uuid}.mp4\"\n",
    "    shutil.copy(scene_video_path, output_video_path)\n",
    "\n",
    "    # unzip gaze data and save as uuid.tsv (from recording_path/gazedata.gz)\n",
    "    with gzip.open(recording_path / \"gazedata.gz\") as zipFile:\n",
    "        with open(output_path / f\"{uuid}.tsv\", \"wb\") as unzippedFile:\n",
    "            for line in zipFile:\n",
    "                unzippedFile.write(line)\n",
    "\n",
    "\n",
    "for recording in experiment_dirs:\n",
    "    preprocess_recording(Path(recording), PROCESSED_RECORDINGS_PATH)\n",
    "\n",
    "for recording in labeling_dirs:\n",
    "    preprocess_recording(\n",
    "        Path(recording), PROCESSED_RECORDINGS_PATH, assert_in_metadata=False\n",
    "    )"
   ]
  },
  {
   "cell_type": "markdown",
   "id": "4aea5dfe",
   "metadata": {},
   "source": [
    "# Extract Frames for all Recordings"
   ]
  },
  {
   "cell_type": "code",
   "execution_count": 25,
   "id": "3d2859cb",
   "metadata": {},
   "outputs": [
    {
     "name": "stderr",
     "output_type": "stream",
     "text": [
      "Extracting frames: 100%|██████████| 16/16 [02:29<00:00,  9.37s/it]\n"
     ]
    }
   ],
   "source": [
    "recordings = list(PROCESSED_RECORDINGS_PATH.glob(\"*.mp4\"))\n",
    "recording_uuids = [recording.stem for recording in recordings]\n",
    "\n",
    "RECORDING_FRAMES_PATH = Path(\"data/recording_frames/\")\n",
    "if RECORDING_FRAMES_PATH.exists():\n",
    "    shutil.rmtree(RECORDING_FRAMES_PATH)\n",
    "RECORDING_FRAMES_PATH.mkdir(parents=True, exist_ok=True)\n",
    "\n",
    "for recording_uuid in tqdm(recording_uuids, desc=\"Extracting frames\"):\n",
    "    recording_video_path = PROCESSED_RECORDINGS_PATH / f\"{recording_uuid}.mp4\"\n",
    "    recording_frames_path = RECORDING_FRAMES_PATH / recording_uuid\n",
    "    recording_frames_path.mkdir(parents=True, exist_ok=True)\n",
    "    extract_frames_to_dir(recording_video_path, recording_frames_path)"
   ]
  },
  {
   "cell_type": "markdown",
   "id": "6e562ba7",
   "metadata": {},
   "source": [
    "# Build the sqlite database for the application "
   ]
  },
  {
   "cell_type": "code",
   "execution_count": 6,
   "id": "556fc5b7",
   "metadata": {},
   "outputs": [],
   "source": [
    "from datetime import datetime, timedelta\n",
    "\n",
    "from sqlalchemy.orm import Session\n",
    "from src.db import Base, engine\n",
    "from src.db.models import CalibrationRecording, Recording, SimRoom, SimRoomClass"
   ]
  },
  {
   "cell_type": "code",
   "execution_count": 7,
   "id": "230587d9",
   "metadata": {},
   "outputs": [],
   "source": [
    "# Prepare an empty database\n",
    "Base.metadata.drop_all(bind=engine)\n",
    "Base.metadata.create_all(bind=engine)\n",
    "\n",
    "with Session(engine) as session:\n",
    "    # Create a SimRoom\n",
    "    sim_room = SimRoom(name=\"Controlled Experiment Room\")\n",
    "    session.add(sim_room)\n",
    "    # Flush to get the ID without committing the transaction\n",
    "    session.flush()\n",
    "\n",
    "    # Create Classes:\n",
    "    for i, object_name in enumerate(object_counter.keys()):\n",
    "        sim_room_class = SimRoomClass(\n",
    "            id=i + 1,\n",
    "            sim_room_id=sim_room.id,\n",
    "            class_name=object_name,\n",
    "        )\n",
    "        session.add(sim_room_class)\n",
    "\n",
    "    # Create recordings\n",
    "    for recording_path in experiment_dirs + labeling_dirs:\n",
    "        with open(os.path.join(recording_path, \"recording.g3\")) as file:\n",
    "            metadata = json.load(file)\n",
    "            uuid = metadata[\"uuid\"]\n",
    "            visible_name = metadata[\"name\"]\n",
    "            created = datetime.strptime(metadata[\"created\"], \"%Y-%m-%dT%H:%M:%S.%fZ\")\n",
    "            created = created.isoformat()\n",
    "            duration = str(timedelta(seconds=metadata[\"duration\"]))\n",
    "            folder_name = \"not important\"\n",
    "            scene_video_url = \"not important\"\n",
    "            gaze_data_url = \"not important\"\n",
    "\n",
    "        with open(os.path.join(recording_path, \"meta/participant\")) as file:\n",
    "            meta = json.load(file)\n",
    "            participant = meta[\"name\"]\n",
    "\n",
    "            # Manually override wrong participant name\n",
    "            if participant == \"\":\n",
    "                participant = \"Ilian Opname 12\"\n",
    "            elif participant == \"Ilian Opname 12\":\n",
    "                participant = \"Ilian Opname 14\"\n",
    "            elif participant == \"Ilian Opname 10 b\":\n",
    "                participant = \"Ilian Opname 10\"\n",
    "\n",
    "        recording = Recording(\n",
    "            uuid=uuid,\n",
    "            visible_name=visible_name,\n",
    "            created=created,\n",
    "            duration=duration,\n",
    "            folder_name=folder_name,\n",
    "            scene_video_url=scene_video_url,\n",
    "            gaze_data_url=gaze_data_url,\n",
    "            participant=participant,\n",
    "        )\n",
    "        session.add(recording)\n",
    "        # Flush to get the ID without committing the transaction\n",
    "        session.flush()\n",
    "\n",
    "        calibration_recording = CalibrationRecording(\n",
    "            sim_room_id=sim_room.id, recording_uuid=uuid\n",
    "        )\n",
    "        session.add(calibration_recording)\n",
    "\n",
    "    session.commit()"
   ]
  }
 ],
 "metadata": {
  "kernelspec": {
   "display_name": ".venv",
   "language": "python",
   "name": "python3"
  },
  "language_info": {
   "codemirror_mode": {
    "name": "ipython",
    "version": 3
   },
   "file_extension": ".py",
   "mimetype": "text/x-python",
   "name": "python",
   "nbconvert_exporter": "python",
   "pygments_lexer": "ipython3",
   "version": "3.10.12"
  }
 },
 "nbformat": 4,
 "nbformat_minor": 5
}
