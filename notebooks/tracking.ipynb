{
 "cells": [
  {
   "cell_type": "code",
   "execution_count": 1,
   "metadata": {},
   "outputs": [
    {
     "name": "stdout",
     "output_type": "stream",
     "text": [
      "/home/zilian/projects/bachelorproef\n"
     ]
    },
    {
     "name": "stderr",
     "output_type": "stream",
     "text": [
      "/home/zilian/projects/bachelorproef/.venv/lib/python3.10/site-packages/IPython/core/magics/osm.py:417: UserWarning: This is now an optional IPython functionality, setting dhist requires you to install the `pickleshare` library.\n",
      "  self.shell.db['dhist'] = compress_dhist(dhist)[-100:]\n"
     ]
    }
   ],
   "source": [
    "%cd ..\n",
    "\n",
    "\n",
    "from src.api.labeling import tracking"
   ]
  },
  {
   "cell_type": "code",
   "execution_count": 2,
   "metadata": {},
   "outputs": [
    {
     "name": "stdout",
     "output_type": "stream",
     "text": [
      "checkpoints/sam2.1_hiera_large.pt sam2.1_hiera_l.yaml\n"
     ]
    },
    {
     "name": "stderr",
     "output_type": "stream",
     "text": [
      "INFO:root:Loaded checkpoint sucessfully\n",
      "INFO:src.api.labeling:Extracting frames to /tmp/tmph6vf4cw9\n",
      "INFO:src.api.labeling:Segmentation output directory set to ./segmentation_results\n",
      "propagate in video: 100%|██████████| 2212/2212 [07:30<00:00,  4.91it/s]\n",
      "INFO:src.api.labeling:Tracking complete\n"
     ]
    },
    {
     "data": {
      "text/plain": [
       "<starlette.responses.JSONResponse at 0x7fbb6447ba90>"
      ]
     },
     "execution_count": 2,
     "metadata": {},
     "output_type": "execute_result"
    }
   ],
   "source": [
    "await tracking(None, 1)\n",
    "\n",
    "# Large: Total inference time: 4.6709771156311035\n",
    "# Tiny: Total inference time: 4.3531858921051025"
   ]
  }
 ],
 "metadata": {
  "kernelspec": {
   "display_name": ".venv",
   "language": "python",
   "name": "python3"
  },
  "language_info": {
   "codemirror_mode": {
    "name": "ipython",
    "version": 3
   },
   "file_extension": ".py",
   "mimetype": "text/x-python",
   "name": "python",
   "nbconvert_exporter": "python",
   "pygments_lexer": "ipython3",
   "version": "3.10.12"
  }
 },
 "nbformat": 4,
 "nbformat_minor": 2
}
