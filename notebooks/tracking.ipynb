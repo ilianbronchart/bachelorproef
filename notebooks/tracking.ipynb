{
 "cells": [
  {
   "cell_type": "code",
   "execution_count": 1,
   "metadata": {},
   "outputs": [
    {
     "name": "stderr",
     "output_type": "stream",
     "text": [
      "/home/zilian/projects/bachelorproef/.venv/lib/python3.10/site-packages/IPython/core/magics/osm.py:417: UserWarning: This is now an optional IPython functionality, setting dhist requires you to install the `pickleshare` library.\n",
      "  self.shell.db['dhist'] = compress_dhist(dhist)[-100:]\n"
     ]
    },
    {
     "name": "stdout",
     "output_type": "stream",
     "text": [
      "/home/zilian/projects/bachelorproef\n"
     ]
    }
   ],
   "source": [
    "%cd ..\n",
    "\n",
    "\n",
    "from src.api.labeling import tracking\n",
    "from src.db.db import engine\n",
    "from sqlalchemy.orm import Session\n",
    "from src.db.models.calibration import CalibrationRecording\n",
    "from src.api.models import Labeler\n"
   ]
  },
  {
   "cell_type": "code",
   "execution_count": 2,
   "metadata": {},
   "outputs": [
    {
     "name": "stderr",
     "output_type": "stream",
     "text": [
      "INFO:root:Loaded checkpoint sucessfully\n",
      "INFO:root:For numpy array image, we assume (HxWxC) format\n",
      "INFO:root:Computing image embeddings for the provided image...\n",
      "INFO:root:Image embeddings computed.\n"
     ]
    },
    {
     "name": "stdout",
     "output_type": "stream",
     "text": [
      "checkpoints/sam2.1_hiera_large.pt sam2.1_hiera_l.yaml\n"
     ]
    },
    {
     "name": "stderr",
     "output_type": "stream",
     "text": [
      "INFO:root:Loaded checkpoint sucessfully\n",
      "INFO:src.api.labeling:Segmentation output directory set to ./segmentation_results\n",
      "propagate in video: 100%|██████████| 1654/1654 [01:50<00:00, 14.92it/s]\n",
      "INFO:src.api.labeling:Tracking complete\n"
     ]
    }
   ],
   "source": [
    "from src.db.models.calibration import CalibrationRecording\n",
    "\n",
    "\n",
    "with Session(engine) as session:\n",
    "    cal_rec = session.query(CalibrationRecording).first()\n",
    "    labeler = Labeler(calibration_recording=cal_rec)  # type: ignore[arg-type]\n",
    "    await tracking(labeler)\n",
    "\n",
    "# Large: Total inference time: 4.6709771156311035\n",
    "# Tiny: Total inference time: 4.3531858921051025"
   ]
  }
 ],
 "metadata": {
  "kernelspec": {
   "display_name": ".venv",
   "language": "python",
   "name": "python3"
  },
  "language_info": {
   "codemirror_mode": {
    "name": "ipython",
    "version": 3
   },
   "file_extension": ".py",
   "mimetype": "text/x-python",
   "name": "python",
   "nbconvert_exporter": "python",
   "pygments_lexer": "ipython3",
   "version": "3.10.12"
  }
 },
 "nbformat": 4,
 "nbformat_minor": 2
}
