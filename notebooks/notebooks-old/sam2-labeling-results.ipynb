{
 "cells": [
  {
   "cell_type": "code",
   "execution_count": 1,
   "metadata": {},
   "outputs": [
    {
     "name": "stdout",
     "output_type": "stream",
     "text": [
      "/home/zilian/projects/bachelorproef\n"
     ]
    },
    {
     "name": "stderr",
     "output_type": "stream",
     "text": [
      "/home/zilian/projects/bachelorproef/.venv/lib/python3.10/site-packages/IPython/core/magics/osm.py:417: UserWarning: This is now an optional IPython functionality, setting dhist requires you to install the `pickleshare` library.\n",
      "  self.shell.db['dhist'] = compress_dhist(dhist)[-100:]\n"
     ]
    }
   ],
   "source": [
    "%cd .."
   ]
  },
  {
   "cell_type": "code",
   "execution_count": 2,
   "metadata": {},
   "outputs": [],
   "source": [
    "import os\n",
    "from concurrent.futures import ProcessPoolExecutor, as_completed\n",
    "\n",
    "import cv2\n",
    "import numpy as np\n",
    "from src.config import FRAMES_PATH\n",
    "from src.utils import iter_frames_dir\n",
    "from tqdm import tqdm"
   ]
  },
  {
   "cell_type": "code",
   "execution_count": 3,
   "metadata": {},
   "outputs": [],
   "source": [
    "segmentation_results = \"segmentation_results\"\n",
    "\n",
    "frame_results = os.listdir(segmentation_results)\n",
    "frame_results = sorted(frame_results, key=lambda x: int(x.split(\".\")[0]))\n",
    "frame_results = {int(x.split(\".\")[0]): os.path.join(segmentation_results, x) for x in frame_results}"
   ]
  },
  {
   "cell_type": "code",
   "execution_count": 4,
   "metadata": {},
   "outputs": [
    {
     "name": "stderr",
     "output_type": "stream",
     "text": [
      "  0%|          | 0/2223 [00:00<?, ?it/s]"
     ]
    },
    {
     "name": "stderr",
     "output_type": "stream",
     "text": [
      "2285it [00:33, 68.41it/s]                           \n"
     ]
    }
   ],
   "source": [
    "# Define colors for different classes (BGR format)\n",
    "colors = {\n",
    "    \"1\": (255, 0, 0),\n",
    "    \"2\": (0, 255, 0),\n",
    "    \"3\": (0, 0, 255),\n",
    "    \"4\": (255, 255, 0),\n",
    "    \"5\": (255, 0, 255),\n",
    "    \"6\": (0, 255, 255),\n",
    "    \"7\": (128, 0, 0),\n",
    "    \"8\": (0, 128, 0),\n",
    "    \"9\": (0, 0, 128),\n",
    "    \"10\": (128, 128, 0),\n",
    "    \"11\": (128, 0, 128),\n",
    "    \"12\": (0, 128, 128),\n",
    "}\n",
    "\n",
    "\n",
    "def process_frame(args):\n",
    "    \"\"\"\n",
    "    Process a single frame by applying segmentation masks.\n",
    "\n",
    "    Args:\n",
    "        args: tuple containing:\n",
    "            - frame_idx: index of the frame\n",
    "            - frame: the image frame (numpy array)\n",
    "            - segmentation_results: directory path with .npz files\n",
    "            - frame_result: filename for the current frame's segmentation data\n",
    "\n",
    "    Returns:\n",
    "        Tuple (frame_idx, processed_frame)\n",
    "    \"\"\"\n",
    "    frame_idx, frame, segmentation_results, frame_result = args\n",
    "\n",
    "    if frame_result is None:\n",
    "        return frame_idx, frame\n",
    "\n",
    "    data = np.load(frame_result)\n",
    "\n",
    "    # Apply each segmentation mask as an overlay\n",
    "    for cls in data.files:\n",
    "        mask = data[cls].astype(np.uint8)[0]\n",
    "        color = colors.get(cls, (255, 255, 255))\n",
    "        colored_mask = np.zeros_like(frame)\n",
    "        colored_mask[mask > 0] = color\n",
    "        # Blend the mask with the frame\n",
    "        frame = cv2.addWeighted(frame, 1.0, colored_mask, 0.5, 0)\n",
    "\n",
    "    return frame_idx, frame\n",
    "\n",
    "\n",
    "# Assume these variables are defined:\n",
    "# - src_video_path: path to the source video\n",
    "# - segmentation_results: directory containing the .npz files\n",
    "# - frame_results: a list (or dict) mapping frame indices to segmentation filenames\n",
    "\n",
    "# Create a video writer in the main process.\n",
    "video_result = cv2.VideoWriter(\n",
    "    \"output.mp4\",\n",
    "    cv2.VideoWriter_fourcc(*\"mp4v\"),\n",
    "    24.95,\n",
    "    (1920, 1080),\n",
    ")\n",
    "\n",
    "batch_size = 200  # Adjust this size based on your memory constraints\n",
    "futures = []\n",
    "\n",
    "with ProcessPoolExecutor() as executor:\n",
    "    # Loop through frames and process in batches\n",
    "    for frame_idx, frame in tqdm(iter_frames_dir(FRAMES_PATH), total=len(frame_results)):\n",
    "        frame_result = frame_results.get(frame_idx, None)\n",
    "\n",
    "        futures.append(executor.submit(process_frame, (frame_idx, frame, segmentation_results, frame_result)))\n",
    "\n",
    "        # Once we reach the batch size, process and write the batch\n",
    "        if len(futures) >= batch_size:\n",
    "            batch_results = {}\n",
    "            for future in as_completed(futures):\n",
    "                idx, processed_frame = future.result()\n",
    "                batch_results[idx] = processed_frame\n",
    "            # Write frames in order\n",
    "            for idx in sorted(batch_results.keys()):\n",
    "                video_result.write(batch_results[idx])\n",
    "            # Clear the list for the next batch\n",
    "            futures = []\n",
    "\n",
    "    # Process any remaining frames that didn't fill the last batch\n",
    "    if futures:\n",
    "        batch_results = {}\n",
    "        for future in as_completed(futures):\n",
    "            idx, processed_frame = future.result()\n",
    "            batch_results[idx] = processed_frame\n",
    "        for idx in sorted(batch_results.keys()):\n",
    "            video_result.write(batch_results[idx])\n",
    "\n",
    "video_result.release()"
   ]
  }
 ],
 "metadata": {
  "kernelspec": {
   "display_name": ".venv",
   "language": "python",
   "name": "python3"
  },
  "language_info": {
   "codemirror_mode": {
    "name": "ipython",
    "version": 3
   },
   "file_extension": ".py",
   "mimetype": "text/x-python",
   "name": "python",
   "nbconvert_exporter": "python",
   "pygments_lexer": "ipython3",
   "version": "3.10.12"
  }
 },
 "nbformat": 4,
 "nbformat_minor": 2
}
